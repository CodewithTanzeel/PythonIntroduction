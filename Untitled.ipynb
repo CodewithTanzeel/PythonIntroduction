{
 "cells": [
  {
   "attachments": {},
   "cell_type": "markdown",
   "id": "714acdb0-d4db-4f5c-a986-756b00573c0f",
   "metadata": {},
   "source": [
    "### Square root!\n",
    "\n",
    "Back to our squareroot example! We can finally write code for our algo."
   ]
  },
  {
   "cell_type": "code",
   "execution_count": 2,
   "id": "9d159522-ed56-4358-9309-eb76d226b2ea",
   "metadata": {},
   "outputs": [],
   "source": [
    "def sqrt(x, guess = 0.0): \n",
    "    if x < 0: \n",
    "        return None \n",
    "    \n",
    "    if good_enough(guess, x): \n",
    "        return guess \n",
    "    \n",
    "    else: \n",
    "        new_guess = improve_guess(guess, x)  \n",
    "        return sqrt(x, new_guess)\n",
    "\n",
    "\n",
    "\n",
    "def good_enough(guess, x): \n",
    "    if abs(guess * guess - x) < 0.1: \n",
    "        return True\n",
    "    else: \n",
    "        return False \n",
    "    \n",
    "\n",
    "def improve_guess(guess, x): \n",
    "    if guess < x: \n",
    "        return guess + 0.1 \n",
    "    else: \n",
    "        return guess - 0.1 \n",
    "    \n",
    "    "
   ]
  },
  {
   "cell_type": "code",
   "execution_count": null,
   "id": "629879f4-619f-4304-93c5-b56b58165ae9",
   "metadata": {},
   "outputs": [],
   "source": [
    "print sqrt(4, 1.8)     # for the tutor, give stating guess as 1.8"
   ]
  },
  {
   "cell_type": "code",
   "execution_count": null,
   "id": "301a617f-81af-4c67-8f85-8a76b40f6ab7",
   "metadata": {},
   "outputs": [],
   "source": [
    "print sqrt(-2)  # let's also handle this case in our function "
   ]
  },
  {
   "cell_type": "markdown",
   "id": "9f4e7540-bab0-4cff-8822-e33d488e1a94",
   "metadata": {},
   "source": []
  }
 ],
 "metadata": {
  "kernelspec": {
   "display_name": "Python 3 (ipykernel)",
   "language": "python",
   "name": "python3"
  },
  "language_info": {
   "codemirror_mode": {
    "name": "ipython",
    "version": 3
   },
   "file_extension": ".py",
   "mimetype": "text/x-python",
   "name": "python",
   "nbconvert_exporter": "python",
   "pygments_lexer": "ipython3",
   "version": "3.12.4"
  }
 },
 "nbformat": 4,
 "nbformat_minor": 5
}
