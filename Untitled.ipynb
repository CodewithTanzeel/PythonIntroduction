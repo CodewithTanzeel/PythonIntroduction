{
 "cells": [
  {
   "cell_type": "markdown",
   "id": "4a492314-5dd9-48cd-a705-252053f0767f",
   "metadata": {},
   "source": [
    "### LISTS"
   ]
  },
  {
   "cell_type": "markdown",
   "id": "9a679d7e-1355-42e4-82e3-53919c15b509",
   "metadata": {},
   "source": [
    "### LINEAR SORTING"
   ]
  },
  {
   "cell_type": "code",
   "execution_count": 5,
   "id": "88f39786-a544-47ca-879d-b6b26fbaab17",
   "metadata": {},
   "outputs": [
    {
     "ename": "IndentationError",
     "evalue": "unindent does not match any outer indentation level (<string>, line 5)",
     "output_type": "error",
     "traceback": [
      "\u001b[1;36m  File \u001b[1;32m<string>:5\u001b[1;36m\u001b[0m\n\u001b[1;33m    return -1\u001b[0m\n\u001b[1;37m             ^\u001b[0m\n\u001b[1;31mIndentationError\u001b[0m\u001b[1;31m:\u001b[0m unindent does not match any outer indentation level\n"
     ]
    }
   ],
   "source": [
    "def linearSearch(array,n,x):\n",
    "    for i in range(0,n):\n",
    "        if(array[i] == x ):\n",
    "            return i\n",
    "     return -1\n",
    "array = [200,300,0,400]\n",
    "x = 400\n",
    "n = len(array)\n",
    "result = linearSearch(array,x,n)\n",
    "if(result == -1):\n",
    "    print(\"Element not Found\")\n",
    "else:\n",
    "    print(\"Element Found at index :\",result)"
   ]
  },
  {
   "cell_type": "code",
   "execution_count": null,
   "id": "31e0343b-058a-44c0-b734-d725859c74ee",
   "metadata": {},
   "outputs": [],
   "source": []
  }
 ],
 "metadata": {
  "kernelspec": {
   "display_name": "Python 3 (ipykernel)",
   "language": "python",
   "name": "python3"
  },
  "language_info": {
   "codemirror_mode": {
    "name": "ipython",
    "version": 3
   },
   "file_extension": ".py",
   "mimetype": "text/x-python",
   "name": "python",
   "nbconvert_exporter": "python",
   "pygments_lexer": "ipython3",
   "version": "3.12.4"
  }
 },
 "nbformat": 4,
 "nbformat_minor": 5
}
