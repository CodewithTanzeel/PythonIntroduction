{
 "cells": [
  {
   "cell_type": "code",
   "execution_count": 1,
   "id": "e61c9dc8-1e1b-49d0-a5df-4b09faca4c98",
   "metadata": {},
   "outputs": [
    {
     "name": "stdin",
     "output_type": "stream",
     "text": [
      "What is your Name Tanzeel\n"
     ]
    },
    {
     "name": "stdout",
     "output_type": "stream",
     "text": [
      "Tanzeel\n"
     ]
    }
   ],
   "source": [
    "# Input implementation\n",
    "\n",
    "user = input(\"What is your Name\")\n",
    "print (user)"
   ]
  },
  {
   "cell_type": "code",
   "execution_count": 3,
   "id": "33d4ad8a-5205-41ef-b521-a41af1a7cc79",
   "metadata": {},
   "outputs": [
    {
     "name": "stdin",
     "output_type": "stream",
     "text": [
      " Tanzeel\n"
     ]
    },
    {
     "name": "stdout",
     "output_type": "stream",
     "text": [
      "The user Name is  Tanzeel He is a Al developer\n"
     ]
    }
   ],
   "source": [
    "# Displaying input values in the middle of statement\n",
    "\n",
    "user1 = input()\n",
    "print (\"The user Name is \", user1 , \"and He is a Al developer\")"
   ]
  },
  {
   "cell_type": "code",
   "execution_count": 1,
   "id": "3481624d-1219-4c22-89d4-43c9f37e7de4",
   "metadata": {},
   "outputs": [
    {
     "name": "stdin",
     "output_type": "stream",
     "text": [
      " Jhon\n"
     ]
    },
    {
     "name": "stdout",
     "output_type": "stream",
     "text": [
      "AI developer is Jhon\n"
     ]
    }
   ],
   "source": [
    "# Displaying input by using a operator\n",
    "name = input()\n",
    "print (\"AI developer is \" + name) "
   ]
  },
  {
   "cell_type": "code",
   "execution_count": 5,
   "id": "0f59b622-a52f-4194-a7ba-c8d4e8435f0c",
   "metadata": {},
   "outputs": [
    {
     "ename": "SyntaxError",
     "evalue": "invalid syntax. Perhaps you forgot a comma? (64162827.py, line 2)",
     "output_type": "error",
     "traceback": [
      "\u001b[1;36m  Cell \u001b[1;32mIn[5], line 2\u001b[1;36m\u001b[0m\n\u001b[1;33m    print ( +name\"AI developer is \" )\u001b[0m\n\u001b[1;37m            ^\u001b[0m\n\u001b[1;31mSyntaxError\u001b[0m\u001b[1;31m:\u001b[0m invalid syntax. Perhaps you forgot a comma?\n"
     ]
    }
   ],
   "source": [
    "name = input()\n",
    "print ( +name\"AI developer is \" ) "
   ]
  },
  {
   "cell_type": "code",
   "execution_count": 7,
   "id": "2bb512a6-4691-4c0f-b681-fa24fbc61c08",
   "metadata": {},
   "outputs": [
    {
     "name": "stdin",
     "output_type": "stream",
     "text": [
      " dasfa\n",
      " sffs\n"
     ]
    },
    {
     "ename": "ValueError",
     "evalue": "invalid literal for int() with base 10: 'sffs'",
     "output_type": "error",
     "traceback": [
      "\u001b[1;31m---------------------------------------------------------------------------\u001b[0m",
      "\u001b[1;31mValueError\u001b[0m                                Traceback (most recent call last)",
      "Cell \u001b[1;32mIn[7], line 3\u001b[0m\n\u001b[0;32m      1\u001b[0m \u001b[38;5;66;03m# Input with type restrictions\u001b[39;00m\n\u001b[0;32m      2\u001b[0m Name \u001b[38;5;241m=\u001b[39m \u001b[38;5;28minput\u001b[39m()  \u001b[38;5;66;03m## Default String\u001b[39;00m\n\u001b[1;32m----> 3\u001b[0m Age \u001b[38;5;241m=\u001b[39m \u001b[38;5;28mint\u001b[39m(\u001b[38;5;28minput\u001b[39m()) \u001b[38;5;66;03m## restricted integers\u001b[39;00m\n\u001b[0;32m      4\u001b[0m height \u001b[38;5;241m=\u001b[39m \u001b[38;5;28mfloat\u001b[39m(\u001b[38;5;28minput\u001b[39m())\n",
      "\u001b[1;31mValueError\u001b[0m: invalid literal for int() with base 10: 'sffs'"
     ]
    }
   ],
   "source": [
    "# Input with type restrictions\n",
    "Name = input()  ## Default String\n",
    "Age = int(input()) ## restricted integers\n",
    "height = float(input()) # Height\n",
    " # the input data type in pyhton is set to string by default"
   ]
  },
  {
   "cell_type": "code",
   "execution_count": 9,
   "id": "62736b70-e893-46cd-bd4d-d3eb1af4fc8d",
   "metadata": {},
   "outputs": [
    {
     "name": "stdin",
     "output_type": "stream",
     "text": [
      "Enter a Number: 4.5\n"
     ]
    },
    {
     "ename": "ValueError",
     "evalue": "invalid literal for int() with base 10: '4.5'",
     "output_type": "error",
     "traceback": [
      "\u001b[1;31m---------------------------------------------------------------------------\u001b[0m",
      "\u001b[1;31mValueError\u001b[0m                                Traceback (most recent call last)",
      "Cell \u001b[1;32mIn[9], line 2\u001b[0m\n\u001b[0;32m      1\u001b[0m \u001b[38;5;66;03m# Type casting integer to Float \u001b[39;00m\n\u001b[1;32m----> 2\u001b[0m n \u001b[38;5;241m=\u001b[39m \u001b[38;5;28mint\u001b[39m(\u001b[38;5;28minput\u001b[39m(\u001b[38;5;124m\"\u001b[39m\u001b[38;5;124mEnter a Number:\u001b[39m\u001b[38;5;124m\"\u001b[39m))\n\u001b[0;32m      3\u001b[0m \u001b[38;5;28mprint\u001b[39m (n \u001b[38;5;241m+\u001b[39m\u001b[38;5;241m200\u001b[39m)\n",
      "\u001b[1;31mValueError\u001b[0m: invalid literal for int() with base 10: '4.5'"
     ]
    }
   ],
   "source": [
    "# Type casting integer to Float \n",
    "n = int(input(\"Enter a Number:\"))\n",
    "print (n +200)"
   ]
  },
  {
   "cell_type": "code",
   "execution_count": 11,
   "id": "2ab85132-ef47-4ec8-a9f7-b26596e97371",
   "metadata": {},
   "outputs": [
    {
     "name": "stdin",
     "output_type": "stream",
     "text": [
      "Enter a Number: 24.4\n"
     ]
    },
    {
     "name": "stdout",
     "output_type": "stream",
     "text": [
      "224.4\n"
     ]
    }
   ],
   "source": [
    "n = float(input(\"Enter a Number:\"))\n",
    "print (n +200)\n"
   ]
  },
  {
   "cell_type": "code",
   "execution_count": 13,
   "id": "09938f2d-21de-4419-897e-2fe0cff9c3cf",
   "metadata": {},
   "outputs": [
    {
     "name": "stdin",
     "output_type": "stream",
     "text": [
      "Enter 3 values 1 2 3\n"
     ]
    },
    {
     "name": "stdout",
     "output_type": "stream",
     "text": [
      "First input 1\n",
      "Second input 2\n",
      "Third input 3\n"
     ]
    }
   ],
   "source": [
    "# split Method\n",
    "## This is helps us to get multiple inputs from user at the same instance.\n",
    "x,y,z = input(\"Enter 3 values\").split()\n",
    "print(\"First input\",x)\n",
    "print(\"Second input\",y)\n",
    "print(\"Third input\",z)\n"
   ]
  },
  {
   "cell_type": "code",
   "execution_count": 17,
   "id": "ac0e39b8-4b60-4f52-8c29-63c0936751c0",
   "metadata": {},
   "outputs": [
    {
     "name": "stdout",
     "output_type": "stream",
     "text": [
      "Hello!!!SUP\n"
     ]
    }
   ],
   "source": [
    "# Separator\n",
    "print (\"Hello\",\"SUP\", sep='!!!')"
   ]
  },
  {
   "cell_type": "code",
   "execution_count": 25,
   "id": "04399231-0ddf-45cf-9acb-b6c81b29ce45",
   "metadata": {},
   "outputs": [
    {
     "name": "stdout",
     "output_type": "stream",
     "text": [
      "A =0.0f8\n"
     ]
    }
   ],
   "source": [
    "# print with separator and end parameters:\n",
    "a = 8\n",
    "print (\"A =\",a,sep=\"0.0f\", end='\\n')"
   ]
  },
  {
   "cell_type": "code",
   "execution_count": 27,
   "id": "c75656e5-fb30-4408-aab5-b1bf4b629f49",
   "metadata": {},
   "outputs": [],
   "source": [
    "# we can alsi use escape character with separators\n",
    "# print function by Default has \\n escapec charactors\n"
   ]
  },
  {
   "cell_type": "markdown",
   "id": "85b948c5-13a9-47d7-94c4-3e8014a14fd8",
   "metadata": {},
   "source": [
    "Take three inputs as intergers and displays their average using eval\n"
   ]
  },
  {
   "cell_type": "code",
   "execution_count": 32,
   "id": "3f317c55-9dff-48a7-bb38-d7b1888d405d",
   "metadata": {},
   "outputs": [
    {
     "name": "stdin",
     "output_type": "stream",
     "text": [
      "Enter Number 1 2 \n",
      "Enter Number 2 3 \n",
      "Enter Number 3 4\n"
     ]
    },
    {
     "name": "stdout",
     "output_type": "stream",
     "text": [
      "6.333333333333333\n"
     ]
    }
   ],
   "source": [
    "num1 = float(input(\"Enter Number 1\"))\n",
    "num2 = float(input(\"Enter Number 2\"))\n",
    "num3 = float(input(\"Enter Number 3\"))\n",
    "\n",
    "print (eval(\"num1 + num2  + num3 / 3\"))\n",
    "    "
   ]
  },
  {
   "cell_type": "code",
   "execution_count": null,
   "id": "09103166-cbc7-4cff-a66e-ecd81ab58233",
   "metadata": {},
   "outputs": [],
   "source": []
  }
 ],
 "metadata": {
  "kernelspec": {
   "display_name": "Python 3 (ipykernel)",
   "language": "python",
   "name": "python3"
  },
  "language_info": {
   "codemirror_mode": {
    "name": "ipython",
    "version": 3
   },
   "file_extension": ".py",
   "mimetype": "text/x-python",
   "name": "python",
   "nbconvert_exporter": "python",
   "pygments_lexer": "ipython3",
   "version": "3.12.4"
  }
 },
 "nbformat": 4,
 "nbformat_minor": 5
}
