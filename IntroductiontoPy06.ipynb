{
 "cells": [
  {
   "cell_type": "markdown",
   "id": "16de1bf5-f5ef-4ec7-a54a-56309ac50e22",
   "metadata": {},
   "source": [
    "### Compound statements\r\n"
   ]
  },
  {
   "cell_type": "markdown",
   "id": "db345c77-cabc-4d50-a5cf-5479e558cd3d",
   "metadata": {},
   "source": [
    "Compound statements take the form: \n",
    "    \n",
    "    <header>:\n",
    "        <statement>\n",
    "        <statement>\n",
    "        ...\n",
    "    <separating header>:\n",
    "        <statement>\n",
    "        <statement>\n",
    "        ...\n",
    "    ..."
   ]
  },
  {
   "cell_type": "markdown",
   "id": "bb5a11a2-33f6-40b0-9d11-b7b5e49ddd5c",
   "metadata": {},
   "source": [
    "Funtions are a form of compound statements.For instance:"
   ]
  },
  {
   "cell_type": "code",
   "execution_count": 3,
   "id": "14878ef1-b50d-4e83-bdcc-8a3cd2fb7398",
   "metadata": {},
   "outputs": [
    {
     "data": {
      "text/plain": [
       "66.66666666666667"
      ]
     },
     "execution_count": 3,
     "metadata": {},
     "output_type": "execute_result"
    }
   ],
   "source": [
    "def percent_difference(x, y):\n",
    "    difference = abs(x-y)\n",
    "    return 100 * difference / x\n",
    "\n",
    "result = percent_difference(30, 50)\n",
    "result"
   ]
  },
  {
   "cell_type": "markdown",
   "id": "40773d84-c6c3-4cf6-951f-c2ec1209f804",
   "metadata": {},
   "source": [
    "Important note: Python forces you to do indentation! Many other languages don't but you still have to get in the habbit of proper indentation.\r\n",
    "\r\n",
    "Make sure you understand the difference between indenting with tabs and that with spaces. Also ensure you understand the capabilities of your text editor."
   ]
  },
  {
   "cell_type": "markdown",
   "id": "31b6687e-3bbf-4948-8bb2-466b14f72e99",
   "metadata": {},
   "source": [
    "###Conditionals"
   ]
  },
  {
   "cell_type": "code",
   "execution_count": null,
   "id": "a2533e8f-e85b-4e20-b990-03918f64e07e",
   "metadata": {},
   "outputs": [],
   "source": []
  }
 ],
 "metadata": {
  "kernelspec": {
   "display_name": "Python 3 (ipykernel)",
   "language": "python",
   "name": "python3"
  },
  "language_info": {
   "codemirror_mode": {
    "name": "ipython",
    "version": 3
   },
   "file_extension": ".py",
   "mimetype": "text/x-python",
   "name": "python",
   "nbconvert_exporter": "python",
   "pygments_lexer": "ipython3",
   "version": "3.12.4"
  }
 },
 "nbformat": 4,
 "nbformat_minor": 5
}
