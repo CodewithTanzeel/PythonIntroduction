{
 "cells": [
  {
   "cell_type": "markdown",
   "id": "e7db98cf-62d6-4870-b93c-1746b5c45792",
   "metadata": {},
   "source": [
    "###Strings"
   ]
  },
  {
   "cell_type": "code",
   "execution_count": 2,
   "id": "2eb86b8b-0bc2-4516-b496-5ee83b78356f",
   "metadata": {},
   "outputs": [
    {
     "name": "stdout",
     "output_type": "stream",
     "text": [
      "n\n",
      "t\n",
      " Py\n"
     ]
    }
   ],
   "source": [
    "#creating Strings\n",
    "s1 = 'string'\n",
    "s2 = 'Thisisastringtype'\n",
    "# it is same as\n",
    "# s1 =str()\n",
    "# s2 = str(This is a string type)\n",
    "# multiline String\n",
    "a = \"\"\" Python is a highlevel programming language , its syntax is near to human language is\n",
    "easy to understand. It is and interpreted language . \\n python can be used to create game ai agents \n",
    "and many other things\"\"\"\n",
    "\n",
    "# print(s1)\n",
    "# print(s2)\n",
    "# print(a)\n",
    "print(s1[-2])\n",
    "print(s2[-4])\n",
    "print(a[0:3])\n"
   ]
  },
  {
   "cell_type": "code",
   "execution_count": 32,
   "id": "89f8e8a9-0672-4e76-92e1-8dc6a8d6f5e4",
   "metadata": {},
   "outputs": [
    {
     "name": "stdout",
     "output_type": "stream",
     "text": [
      "David goggins\n",
      "david goggins\n",
      "DAVID GOGGINS\n",
      "David Goggins\n",
      "dAVID gOGGINS\n",
      "DAVID SLAY\n"
     ]
    }
   ],
   "source": [
    "###Converting STRINGS\n",
    "print((\"DAVID GOGGINS\").capitalize())\n",
    "print((\"DAVID GOGGINS\").lower())\n",
    "print((\"DAVID GOGGINS\").upper())\n",
    "print((\"DAVID GOGGINS\").title())\n",
    "print((\"David Goggins\").swapcase())# Character by character inverse \n",
    "print((\"DAVID GOGGINS\").replace(\"GOGGINS\",\"SLAY\"))\n",
    "\n"
   ]
  },
  {
   "cell_type": "code",
   "execution_count": 18,
   "id": "ef7f3c91-4546-4bfd-b4c3-d4a4f6077a20",
   "metadata": {},
   "outputs": [
    {
     "name": "stdout",
     "output_type": "stream",
     "text": [
      "christinaperry\n",
      "christinaperry\n",
      "christinaperry\n"
     ]
    }
   ],
   "source": [
    "# strip functions in python strings\n",
    "\n",
    "# left strip function removes extra spaces from the left side of the string\"\n",
    "val = \"    christinaperry\"\n",
    "print(val.lstrip())\n",
    "# Right strip function removes extra spaces from the Right side of the string\"\n",
    "val = \"christinaperry     \"\n",
    "print(val.rstrip())\n",
    "# strip function removes extra spaces from the string\"\n",
    "val = \"            christinaperry     \"\n",
    "print(val.strip())"
   ]
  }
 ],
 "metadata": {
  "kernelspec": {
   "display_name": "Python 3 (ipykernel)",
   "language": "python",
   "name": "python3"
  },
  "language_info": {
   "codemirror_mode": {
    "name": "ipython",
    "version": 3
   },
   "file_extension": ".py",
   "mimetype": "text/x-python",
   "name": "python",
   "nbconvert_exporter": "python",
   "pygments_lexer": "ipython3",
   "version": "3.12.4"
  }
 },
 "nbformat": 4,
 "nbformat_minor": 5
}
