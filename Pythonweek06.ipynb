{
 "cells": [
  {
   "cell_type": "code",
   "execution_count": null,
   "id": "8c312c47-af6d-435b-b451-6ccb1e2de2bb",
   "metadata": {},
   "outputs": [],
   "source": [
    "while True:\n",
    "    num=int(input('enter your table'))\n",
    "    for i in range(1,11):\n",
    "        print(f'{num} x {i} = {num*i}')\n",
    "    ask=input('want to continue?(yes/no)').lower()\n",
    "    print('ok')\n",
    "    if ask=='no':\n",
    "        break"
   ]
  },
  {
   "cell_type": "code",
   "execution_count": null,
   "id": "53f274ef-0eb6-4ebd-b43f-ac2636e1b44f",
   "metadata": {},
   "outputs": [],
   "source": [
    "i = 1\n",
    "while i <= 5:  # Outer loop for rows\n",
    "    j = 1\n",
    "    while j <= i:  # Inner loop for columns in each row\n",
    "        print(\" * \", end=\"\")  # Print a star without a newline\n",
    "        j += 1\n",
    "    print()  # Move to the next line after completing a row\n",
    "    i += 1\n",
    "    "
   ]
  },
  {
   "cell_type": "code",
   "execution_count": null,
   "id": "c3c5eecb-3823-4c65-b28f-69348092089b",
   "metadata": {},
   "outputs": [],
   "source": []
  }
 ],
 "metadata": {
  "kernelspec": {
   "display_name": "Python 3 (ipykernel)",
   "language": "python",
   "name": "python3"
  },
  "language_info": {
   "codemirror_mode": {
    "name": "ipython",
    "version": 3
   },
   "file_extension": ".py",
   "mimetype": "text/x-python",
   "name": "python",
   "nbconvert_exporter": "python",
   "pygments_lexer": "ipython3",
   "version": "3.12.4"
  }
 },
 "nbformat": 4,
 "nbformat_minor": 5
}
