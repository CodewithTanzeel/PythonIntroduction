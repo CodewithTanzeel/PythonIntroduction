{
 "cells": [
  {
   "cell_type": "code",
   "execution_count": 7,
   "id": "5c762a81-a3dd-4e6a-b27f-423f7134f20c",
   "metadata": {},
   "outputs": [
    {
     "name": "stdout",
     "output_type": "stream",
     "text": [
      "My Name  is TanzeelAhmad \n",
      "I am currently in deparment of BSE  \n",
      "My Roll no is 192\n"
     ]
    }
   ],
   "source": [
    "# TASK 01\n",
    "Name = \"TanzeelAhmad\"\n",
    "Dept = \"BSE\"\n",
    "Rollno = 192\n",
    "\n",
    "print (\"My Name  is\" ,Name ,\"\\nI am currently in deparment of\", Dept,\" \\nMy Roll no is\" ,Rollno)\n"
   ]
  },
  {
   "cell_type": "code",
   "execution_count": 21,
   "id": "8aba407e-8c6f-4120-b25b-43d6ac42dc9f",
   "metadata": {},
   "outputs": [
    {
     "name": "stdout",
     "output_type": "stream",
     "text": [
      "54\n",
      "46\n",
      "200\n",
      "12.5\n",
      "2\n"
     ]
    }
   ],
   "source": [
    "\n",
    "# TASK 02\n",
    "num1 = 50 \n",
    "num2 = 4\n",
    "\n",
    "addition = print (num1 + num2)\n",
    "subtraction =print (num1 - num2)\n",
    "Multiplication =print (num1 * num2)\n",
    "division = print (num1 / num2)\n",
    "mod =print (num1 % num2)\n",
    "\n"
   ]
  },
  {
   "cell_type": "code",
   "execution_count": 51,
   "id": "c21c9fc1-3807-439b-8560-ec0b17686951",
   "metadata": {},
   "outputs": [
    {
     "name": "stdin",
     "output_type": "stream",
     "text": [
      "enter your measurements in feet 23\n",
      "enter your measurements in inch 5\n"
     ]
    },
    {
     "name": "stdout",
     "output_type": "stream",
     "text": [
      "This is the output feet to inches is 276.0\n",
      "This is total output in inches 713.74\n"
     ]
    }
   ],
   "source": [
    "feet = float(input(\"enter your measurements in feet\"))\n",
    "inch = float(input(\"enter your measurements in inch\"))\n",
    "i = feet * 12 \n",
    "cm = (i + inch) * 2.54\n",
    "\n",
    "\n",
    "\n",
    "print(\"This is the output feet to inches is\", i)\n",
    "\n",
    "print(\"This is total output in inches\", cm)\n",
    "    "
   ]
  },
  {
   "cell_type": "code",
   "execution_count": 65,
   "id": "d0934b57-c681-4733-80a8-c0d5866ce3e5",
   "metadata": {},
   "outputs": [
    {
     "name": "stdin",
     "output_type": "stream",
     "text": [
      "Enter value in feet 2\n",
      "Enter value in inch 3\n"
     ]
    },
    {
     "name": "stdout",
     "output_type": "stream",
     "text": [
      "Your height is  68.58 cm\n"
     ]
    }
   ],
   "source": [
    "gfeet = eval(input('Enter value in feet'))\n",
    "ginch = eval(input('Enter value in inch'))\n",
    "inch = (gfeet * 12) + ginch\n",
    "final = inch * 2.54\n",
    "print('Your height is ',final,'cm')"
   ]
  },
  {
   "cell_type": "code",
   "execution_count": 77,
   "id": "4064228a-4c85-48f9-ae87-ecffe04ff4fd",
   "metadata": {},
   "outputs": [
    {
     "name": "stdin",
     "output_type": "stream",
     "text": [
      "please input value of x1 : 2\n",
      "please input value of x2 : 3\n",
      "please input value of y1 : 4\n",
      "please input value of y1 : 5\n"
     ]
    },
    {
     "name": "stdout",
     "output_type": "stream",
     "text": [
      "The total distance is : 1.4142135623730951 m\n"
     ]
    }
   ],
   "source": [
    "x1=int(input('please input value of x1 :'))\n",
    "x2=int(input('please input value of x2 :'))\n",
    "y1=int(input('please input value of y1 :'))\n",
    "y2=int(input('please input value of y1 :'))\n",
    "distance=pow((( pow((x2-x1),2) + pow((y2-y1), 2))), 1/2)\n",
    "print(\"The total distance is :\" ,distance,\"m\")"
   ]
  },
  {
   "cell_type": "code",
   "execution_count": 118,
   "id": "7acba311-26b7-49d1-a727-de5f745a4fb2",
   "metadata": {},
   "outputs": [
    {
     "name": "stdin",
     "output_type": "stream",
     "text": [
      "please input value of x1 : 4\n",
      "please input value of x2 : 56\n",
      "please input value of y1 : 7\n",
      "please input value of y1 : 4\n"
     ]
    },
    {
     "name": "stdout",
     "output_type": "stream",
     "text": [
      "This is comuted by the pythagorastherom: 52.08646657242167\n"
     ]
    }
   ],
   "source": [
    "\n",
    "def distance_meter():\n",
    "    x1=int(input('please input value of x1 :'))\n",
    "    x2=int(input('please input value of x2 :'))\n",
    "    y1=int(input('please input value of y1 :'))\n",
    "    y2=int(input('please input value of y1 :'))\n",
    "    d = pow((( pow((x2-x1),2) + pow((y2-y1), 2))), 1/2)\n",
    "    \n",
    "    return d\n",
    "z = distance_meter()\n",
    "print (\"This is comuted by the pythagorastherom:\",z)\n"
   ]
  },
  {
   "cell_type": "code",
   "execution_count": 128,
   "id": "cc93393a-d478-4160-8529-9c68ac959870",
   "metadata": {},
   "outputs": [
    {
     "name": "stdin",
     "output_type": "stream",
     "text": [
      "please enter your faverate food f\n"
     ]
    },
    {
     "name": "stdout",
     "output_type": "stream",
     "text": [
      "F\n"
     ]
    }
   ],
   "source": [
    "food=input('please enter your faverate food').upper()\n",
    "print(food)"
   ]
  },
  {
   "cell_type": "code",
   "execution_count": 142,
   "id": "e141b6e1-79b0-4efb-bb5a-df8ac481216c",
   "metadata": {},
   "outputs": [
    {
     "name": "stdin",
     "output_type": "stream",
     "text": [
      "please enter marks of 2ubject: 3\n",
      "please enter marks of subject: 4\n",
      "please enter marks of subject: 5\n",
      "please enter marks of subject: 2\n",
      "please enter marks of subject: 3\n"
     ]
    },
    {
     "name": "stdout",
     "output_type": "stream",
     "text": [
      "This is your current average score: 3.4\n",
      "This is your current average percentage: 3.4000000000000004\n"
     ]
    }
   ],
   "source": [
    "cs1= eval(input('please enter marks of 2ubject:'))\n",
    "cs2= eval(input('please enter marks of subject:'))\n",
    "cs3= eval(input('please enter marks of subject:'))\n",
    "cs4= eval(input('please enter marks of subject:'))\n",
    "cs5= eval(input('please enter marks of subject:'))\n",
    "\n",
    "Total = cs1+cs2+cs3+cs4+cs5\n",
    "avg = (Total)/5\n",
    "\n",
    "percentage=Total/500 * 100\n",
    "\n",
    "print(\"This is your current average score:\", avg)\n",
    "print(\"This is your current average percentage:\", percentage)\n"
   ]
  },
  {
   "cell_type": "code",
   "execution_count": null,
   "id": "aef6eded-16e3-44ee-ac98-bdb79c2858c2",
   "metadata": {},
   "outputs": [],
   "source": []
  }
 ],
 "metadata": {
  "kernelspec": {
   "display_name": "Python 3 (ipykernel)",
   "language": "python",
   "name": "python3"
  },
  "language_info": {
   "codemirror_mode": {
    "name": "ipython",
    "version": 3
   },
   "file_extension": ".py",
   "mimetype": "text/x-python",
   "name": "python",
   "nbconvert_exporter": "python",
   "pygments_lexer": "ipython3",
   "version": "3.12.4"
  }
 },
 "nbformat": 4,
 "nbformat_minor": 5
}
