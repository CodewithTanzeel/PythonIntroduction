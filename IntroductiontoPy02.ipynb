{
 "cells": [
  {
   "cell_type": "code",
   "execution_count": null,
   "id": "81906180-e26e-4437-a24f-5ff631391403",
   "metadata": {},
   "outputs": [],
   "source": [
    "import math #importing a already defined function from library"
   ]
  },
  {
   "cell_type": "code",
   "execution_count": null,
   "id": "53e9fac4-c3b6-4eb4-ad16-b821001a2305",
   "metadata": {},
   "outputs": [],
   "source": [
    "math.srqt(128)"
   ]
  },
  {
   "cell_type": "code",
   "execution_count": null,
   "id": "670b6c2c-bb39-46ef-b810-dfb7bfb0badd",
   "metadata": {},
   "outputs": [],
   "source": [
    "import math import sqrt  # for specif"
   ]
  }
 ],
 "metadata": {
  "kernelspec": {
   "display_name": "Python 3 (ipykernel)",
   "language": "python",
   "name": "python3"
  },
  "language_info": {
   "codemirror_mode": {
    "name": "ipython",
    "version": 3
   },
   "file_extension": ".py",
   "mimetype": "text/x-python",
   "name": "python",
   "nbconvert_exporter": "python",
   "pygments_lexer": "ipython3",
   "version": "3.12.4"
  }
 },
 "nbformat": 4,
 "nbformat_minor": 5
}
