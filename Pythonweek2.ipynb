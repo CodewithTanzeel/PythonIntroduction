{
 "cells": [
  {
   "attachments": {},
   "cell_type": "markdown",
   "id": "1f9ebc02-e398-44d4-94cd-e8134201c393",
   "metadata": {},
   "source": [
    "###Multiple Print() statement in python"
   ]
  },
  {
   "cell_type": "code",
   "execution_count": 7,
   "id": "6350fbf0-9abb-4f77-a768-8e5d95018c99",
   "metadata": {},
   "outputs": [
    {
     "name": "stdout",
     "output_type": "stream",
     "text": [
      "Hello EveryOne\n",
      "Whats happening\n",
      "This is called Concatination\n"
     ]
    }
   ],
   "source": [
    "print (\"Hello EveryOne\")\n",
    "print (\"Whats happening\")\n",
    "print (\"This is called\" + \" Concatination\")\n"
   ]
  },
  {
   "attachments": {},
   "cell_type": "markdown",
   "id": "f6100452-a283-4629-9083-e90a85390358",
   "metadata": {},
   "source": [
    "### end() = option in print statement \n",
    "end= in print() statement prints upcoming text on the same line rather than printing on the newline.\r\n",
    "print(\"Hello”, end=“ ”)\r\n",
    "print(“Python”)\r\n",
    "print(“World”)\r\n",
    "\n"
   ]
  },
  {
   "cell_type": "code",
   "execution_count": 6,
   "id": "7f2d4d6d-07ad-4662-9b8a-7ecbdc4adac6",
   "metadata": {},
   "outputs": [
    {
     "name": "stdout",
     "output_type": "stream",
     "text": [
      "My name is Josh\n"
     ]
    }
   ],
   "source": [
    "# similarly \n",
    "print (\"My name is \", end='') # putput will be My name is Josh in the same line\n",
    "print (\"Josh\")\n"
   ]
  },
  {
   "cell_type": "markdown",
   "id": "82be87ae-f46e-4dc0-b246-ce3e3a7d196c",
   "metadata": {},
   "source": [
    "Comments in python is denoted by # \n",
    "\"\" and \"\"\"or '''"
   ]
  },
  {
   "cell_type": "markdown",
   "id": "45670e20-f3c7-4cb9-9ca3-4d9e44cc4637",
   "metadata": {},
   "source": [
    "### Escape sequences in PYTHON"
   ]
  },
  {
   "cell_type": "code",
   "execution_count": 1,
   "id": "f31e0677-c8c3-43ac-a457-39b8656147c7",
   "metadata": {},
   "outputs": [
    {
     "name": "stdout",
     "output_type": "stream",
     "text": [
      "Hello\n",
      "Mario\n",
      "Hello\tMario\n",
      "HellMario\n",
      "Hello'Mario'\n",
      "Hello''Mario''\n",
      "Mario\n"
     ]
    }
   ],
   "source": [
    "''' Types of escape sequences are  as followes '''\n",
    "\n",
    "''' \\n, \\t ,\\b , \\', \\'', \\r '''\n",
    "\n",
    "print ( \"Hello\\nMario\") # newline\n",
    "print ( \"Hello\\tMario\") # blank space\n",
    "print ( \"Hello\\bMario\") # backspace\n",
    "print ( \"Hello\\'Mario\\'\") # wraping in quotes\n",
    "print ( \"Hello\\''Mario\\''\") # \n",
    "print ( \"Hello\\rMario\") # \\r neglect kardenga phele wali string ko\n"
   ]
  },
  {
   "cell_type": "code",
   "execution_count": 22,
   "id": "74f9d7fa-a689-49d6-82fb-171753512b84",
   "metadata": {},
   "outputs": [
    {
     "name": "stdin",
     "output_type": "stream",
     "text": [
      "Enter your value in integer 5\n",
      "Enter your value in float 5\n",
      "Enter your value in complex 5\n"
     ]
    },
    {
     "name": "stdout",
     "output_type": "stream",
     "text": [
      "5\n",
      "5.0\n",
      "(5+0j)\n"
     ]
    }
   ],
   "source": [
    "# NUMeric literls\n",
    "i = int(input(\"Enter your value in integer\"))\n",
    "f = float(input(\"Enter your value in float\"))\n",
    "c = complex(input(\"Enter your value in complex\"))\n",
    "\n",
    "print (i)\n",
    "print (f)\n",
    "print(c)\n"
   ]
  },
  {
   "cell_type": "code",
   "execution_count": 14,
   "id": "0409b356-fe0a-40e3-b9bb-0ad1ae4f1421",
   "metadata": {},
   "outputs": [
    {
     "name": "stdout",
     "output_type": "stream",
     "text": [
      " x is  True\n",
      " y is  False\n",
      " z is  False\n"
     ]
    }
   ],
   "source": [
    "x = 1\n",
    "y = 2\n",
    "z = 3\n",
    "\n",
    "x = (1 == True)\n",
    "y = (2 == True)\n",
    "z = (3 == True)\n",
    "\n",
    "\n",
    "print (\" x is \", x)\n",
    "print (\" y is \", y)\n",
    "print (\" z is \", z)\n",
    "\n"
   ]
  },
  {
   "cell_type": "code",
   "execution_count": 16,
   "id": "53910c3b-23e7-48cc-9b99-1de18fb2e764",
   "metadata": {},
   "outputs": [
    {
     "name": "stdout",
     "output_type": "stream",
     "text": [
      "None\n"
     ]
    }
   ],
   "source": [
    "# Special_ loterials\n",
    "\n",
    "special_literal = None\n",
    "print (special_literal)"
   ]
  },
  {
   "cell_type": "code",
   "execution_count": null,
   "id": "3ce0966c-4665-4efb-a0f7-620c2b10b99a",
   "metadata": {},
   "outputs": [],
   "source": [
    "# NAMING OF VARIABLES\n",
    "# Camel Case\n",
    "myFirstCode = 9\n",
    "# Pascal Case\n",
    "MyFirstCode = 9\n",
    "# Snake Case\n",
    "my_first_code = 5"
   ]
  },
  {
   "cell_type": "code",
   "execution_count": 18,
   "id": "4d69ce32-ad4f-4b2a-adfc-37ae07bf4d13",
   "metadata": {},
   "outputs": [
    {
     "name": "stdout",
     "output_type": "stream",
     "text": [
      "\n",
      "Here is a list of the Python keywords.  Enter any keyword to get more help.\n",
      "\n",
      "False               class               from                or\n",
      "None                continue            global              pass\n",
      "True                def                 if                  raise\n",
      "and                 del                 import              return\n",
      "as                  elif                in                  try\n",
      "assert              else                is                  while\n",
      "async               except              lambda              with\n",
      "await               finally             nonlocal            yield\n",
      "break               for                 not                 \n",
      "\n"
     ]
    }
   ],
   "source": [
    "# Reserve worlds\n",
    "help(\"keywords\")"
   ]
  },
  {
   "cell_type": "code",
   "execution_count": null,
   "id": "c39a8875-ecad-4cfb-addb-2e0d9339980d",
   "metadata": {},
   "outputs": [],
   "source": []
  }
 ],
 "metadata": {
  "kernelspec": {
   "display_name": "Python 3 (ipykernel)",
   "language": "python",
   "name": "python3"
  },
  "language_info": {
   "codemirror_mode": {
    "name": "ipython",
    "version": 3
   },
   "file_extension": ".py",
   "mimetype": "text/x-python",
   "name": "python",
   "nbconvert_exporter": "python",
   "pygments_lexer": "ipython3",
   "version": "3.12.4"
  }
 },
 "nbformat": 4,
 "nbformat_minor": 5
}
