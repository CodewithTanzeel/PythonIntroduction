{
 "cells": [
  {
   "cell_type": "code",
   "execution_count": 5,
   "id": "24dc1c24-3539-4b8e-a8ba-1a924e506fe5",
   "metadata": {},
   "outputs": [
    {
     "data": {
      "text/plain": [
       "25"
      ]
     },
     "execution_count": 5,
     "metadata": {},
     "output_type": "execute_result"
    }
   ],
   "source": [
    "def square(x):\n",
    "    return x * x\n",
    "v = square(5)\n",
    "v\n"
   ]
  },
  {
   "cell_type": "code",
   "execution_count": 13,
   "id": "04cb2332-a004-4df8-b9ec-1e15e1d0968a",
   "metadata": {},
   "outputs": [
    {
     "name": "stdin",
     "output_type": "stream",
     "text": [
      "ENTER A NUM2 = 1\n",
      "ENTER A NUM2 = 2\n"
     ]
    },
    {
     "data": {
      "text/plain": [
       "5"
      ]
     },
     "execution_count": 13,
     "metadata": {},
     "output_type": "execute_result"
    }
   ],
   "source": [
    "num1 = int((input(\"ENTER A NUM2 =\")))\n",
    "num2 = int((input(\"ENTER A NUM2 =\")))\n",
    "def sum_square(x, y):\n",
    "    return square(x) + square(y) \n",
    "result = sum_square(num1, num2)\n",
    "result"
   ]
  },
  {
   "cell_type": "code",
   "execution_count": 15,
   "id": "b6d425ae-c36d-48f6-97b7-cca12de1add4",
   "metadata": {},
   "outputs": [
    {
     "ename": "TypeError",
     "evalue": "can't multiply sequence by non-int of type 'str'",
     "output_type": "error",
     "traceback": [
      "\u001b[1;31m---------------------------------------------------------------------------\u001b[0m",
      "\u001b[1;31mTypeError\u001b[0m                                 Traceback (most recent call last)",
      "Cell \u001b[1;32mIn[15], line 3\u001b[0m\n\u001b[0;32m      1\u001b[0m \u001b[38;5;28;01mdef\u001b[39;00m \u001b[38;5;21msum_square\u001b[39m(x, y):\n\u001b[0;32m      2\u001b[0m     \u001b[38;5;28;01mreturn\u001b[39;00m square(x) \u001b[38;5;241m+\u001b[39m square(y) \n\u001b[1;32m----> 3\u001b[0m sum_squares(\u001b[38;5;124m'\u001b[39m\u001b[38;5;124ma\u001b[39m\u001b[38;5;124m'\u001b[39m, \u001b[38;5;241m3\u001b[39m)\n",
      "Cell \u001b[1;32mIn[7], line 2\u001b[0m, in \u001b[0;36msum_squares\u001b[1;34m(x, y)\u001b[0m\n\u001b[0;32m      1\u001b[0m \u001b[38;5;28;01mdef\u001b[39;00m \u001b[38;5;21msum_squares\u001b[39m(x, y):\n\u001b[1;32m----> 2\u001b[0m     \u001b[38;5;28;01mreturn\u001b[39;00m square(x) \u001b[38;5;241m+\u001b[39m square(y)\n",
      "Cell \u001b[1;32mIn[5], line 2\u001b[0m, in \u001b[0;36msquare\u001b[1;34m(x)\u001b[0m\n\u001b[0;32m      1\u001b[0m \u001b[38;5;28;01mdef\u001b[39;00m \u001b[38;5;21msquare\u001b[39m(x):\n\u001b[1;32m----> 2\u001b[0m     \u001b[38;5;28;01mreturn\u001b[39;00m x \u001b[38;5;241m*\u001b[39m x\n",
      "\u001b[1;31mTypeError\u001b[0m: can't multiply sequence by non-int of type 'str'"
     ]
    }
   ],
   "source": [
    "def sum_square(x, y):\n",
    "    return square(x) + square(y) \n",
    "sum_squares('a', 3)"
   ]
  },
  {
   "cell_type": "code",
   "execution_count": 25,
   "id": "2ccce506-fbc3-4c59-8daf-72c360eb76c0",
   "metadata": {},
   "outputs": [
    {
     "ename": "TypeError",
     "evalue": "sqrt() missing 1 required positional argument: 'guess'",
     "output_type": "error",
     "traceback": [
      "\u001b[1;31m---------------------------------------------------------------------------\u001b[0m",
      "\u001b[1;31mTypeError\u001b[0m                                 Traceback (most recent call last)",
      "Cell \u001b[1;32mIn[25], line 6\u001b[0m\n\u001b[0;32m      1\u001b[0m \u001b[38;5;28;01mdef\u001b[39;00m \u001b[38;5;21msqrt\u001b[39m(num,guess):\n\u001b[0;32m      2\u001b[0m     \u001b[38;5;28mprint\u001b[39m (\u001b[38;5;124m\"\u001b[39m\u001b[38;5;124mStarting with guess:\u001b[39m\u001b[38;5;124m\"\u001b[39m, guess, \u001b[38;5;124m\"\u001b[39m\u001b[38;5;124mFinding the squareroot of number\u001b[39m\u001b[38;5;124m\"\u001b[39m)\n\u001b[1;32m----> 6\u001b[0m sqrt(\u001b[38;5;241m36\u001b[39m)\n",
      "\u001b[1;31mTypeError\u001b[0m: sqrt() missing 1 required positional argument: 'guess'"
     ]
    }
   ],
   "source": [
    "def sqrt(num,guess):\n",
    "    print (\"Starting with guess:\", guess, \"Finding the squareroot of number\")\n",
    "\n",
    "\n",
    "\n",
    "sqrt(36)"
   ]
  },
  {
   "cell_type": "code",
   "execution_count": 27,
   "id": "17a1a1f9-8b15-4f48-8a26-062e2bd3d20b",
   "metadata": {},
   "outputs": [
    {
     "name": "stdout",
     "output_type": "stream",
     "text": [
      "Finding the sqrt of: 36 Starting with the guess: 0.7\n"
     ]
    }
   ],
   "source": [
    "def sqrt(num, guess=0.7):\n",
    "    print (\"Finding the sqrt of:\",num,\"Starting with the guess:\", guess)\n",
    "    \n",
    "sqrt(36)"
   ]
  },
  {
   "cell_type": "code",
   "execution_count": 52,
   "id": "4452a988-5e6b-4844-8b43-ba0786c16ccd",
   "metadata": {},
   "outputs": [
    {
     "name": "stdout",
     "output_type": "stream",
     "text": [
      "x = 40\n",
      " p = 10\n",
      "x = 8\n",
      "y = 4\n",
      "z = 40\n"
     ]
    }
   ],
   "source": [
    "def f(x):\n",
    "    y = 5\n",
    "    x = x * y\n",
    "    print ('x =',x)  \n",
    "    print (' p =',p)\n",
    "    return x \n",
    "\n",
    "p = 10\n",
    "x = 8\n",
    "y = 4\n",
    "z = f(x)\n",
    "#value of x used as the actual parameter\n",
    "\n",
    "print ('x =',x)\n",
    "print ('y =',y)\n",
    "print ('z =',z)"
   ]
  },
  {
   "cell_type": "code",
   "execution_count": 2,
   "id": "cdbcb067-614c-46ad-b6f3-508a772c036d",
   "metadata": {},
   "outputs": [
    {
     "ename": "SyntaxError",
     "evalue": "invalid syntax (3618307101.py, line 3)",
     "output_type": "error",
     "traceback": [
      "\u001b[1;36m  Cell \u001b[1;32mIn[2], line 3\u001b[1;36m\u001b[0m\n\u001b[1;33m    c =\u001b[0m\n\u001b[1;37m        ^\u001b[0m\n\u001b[1;31mSyntaxError\u001b[0m\u001b[1;31m:\u001b[0m invalid syntax\n"
     ]
    }
   ],
   "source": [
    "a = 10\n",
    "b = 9\n",
    "c = \n",
    "print (a+b+c)"
   ]
  },
  {
   "cell_type": "code",
   "execution_count": 8,
   "id": "6adcb230-2e7d-499d-8589-a8893b121688",
   "metadata": {},
   "outputs": [
    {
     "name": "stdout",
     "output_type": "stream",
     "text": [
      "This is addition : 5.0\n"
     ]
    }
   ],
   "source": [
    "num1 = 20 \n",
    "num2 = 4\n",
    "addition = num1 / num2\n",
    "subtraction = num1 * num2\n",
    "Multiplication = num1 - num2\n",
    "Divide = num1 + num2\n",
    "print (\"This is addition :\",addition)\n",
    "print (\"This is subtraction :\",subtration)\n",
    "print (\"This is Multiplication:\",Multiplication)\n",
    "print (\"This is Division :\",Divide)"
   ]
  },
  {
   "cell_type": "code",
   "execution_count": null,
   "id": "e37d9fd0-e50a-4b38-ae24-538d9a9d16fc",
   "metadata": {},
   "outputs": [],
   "source": []
  }
 ],
 "metadata": {
  "kernelspec": {
   "display_name": "Python 3 (ipykernel)",
   "language": "python",
   "name": "python3"
  },
  "language_info": {
   "codemirror_mode": {
    "name": "ipython",
    "version": 3
   },
   "file_extension": ".py",
   "mimetype": "text/x-python",
   "name": "python",
   "nbconvert_exporter": "python",
   "pygments_lexer": "ipython3",
   "version": "3.12.4"
  }
 },
 "nbformat": 4,
 "nbformat_minor": 5
}
