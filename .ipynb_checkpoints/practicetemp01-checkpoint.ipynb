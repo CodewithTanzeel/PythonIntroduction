{
 "cells": [
  {
   "cell_type": "code",
   "execution_count": 5,
   "id": "24dc1c24-3539-4b8e-a8ba-1a924e506fe5",
   "metadata": {},
   "outputs": [
    {
     "data": {
      "text/plain": [
       "25"
      ]
     },
     "execution_count": 5,
     "metadata": {},
     "output_type": "execute_result"
    }
   ],
   "source": [
    "def square(x):\n",
    "    return x * x\n",
    "v = square(5)\n",
    "v\n"
   ]
  },
  {
   "cell_type": "code",
   "execution_count": 13,
   "id": "04cb2332-a004-4df8-b9ec-1e15e1d0968a",
   "metadata": {},
   "outputs": [
    {
     "name": "stdin",
     "output_type": "stream",
     "text": [
      "ENTER A NUM2 = 1\n",
      "ENTER A NUM2 = 2\n"
     ]
    },
    {
     "data": {
      "text/plain": [
       "5"
      ]
     },
     "execution_count": 13,
     "metadata": {},
     "output_type": "execute_result"
    }
   ],
   "source": [
    "num1 = int((input(\"ENTER A NUM2 =\")))\n",
    "num2 = int((input(\"ENTER A NUM2 =\")))\n",
    "def sum_square(x, y):\n",
    "    return square(x) + square(y) \n",
    "result = sum_square(num1, num2)\n",
    "result"
   ]
  },
  {
   "cell_type": "code",
   "execution_count": null,
   "id": "b6d425ae-c36d-48f6-97b7-cca12de1add4",
   "metadata": {},
   "outputs": [],
   "source": [
    "def sum_square(x, y):\n",
    "    return square(x) + square(y) \n",
    "sum_squares('a', 3)"
   ]
  }
 ],
 "metadata": {
  "kernelspec": {
   "display_name": "Python 3 (ipykernel)",
   "language": "python",
   "name": "python3"
  },
  "language_info": {
   "codemirror_mode": {
    "name": "ipython",
    "version": 3
   },
   "file_extension": ".py",
   "mimetype": "text/x-python",
   "name": "python",
   "nbconvert_exporter": "python",
   "pygments_lexer": "ipython3",
   "version": "3.12.4"
  }
 },
 "nbformat": 4,
 "nbformat_minor": 5
}
