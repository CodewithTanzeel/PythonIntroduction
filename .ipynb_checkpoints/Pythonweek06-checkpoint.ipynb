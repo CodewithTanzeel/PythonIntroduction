{
 "cells": [
  {
   "cell_type": "code",
   "execution_count": 3,
   "id": "8c312c47-af6d-435b-b451-6ccb1e2de2bb",
   "metadata": {},
   "outputs": [
    {
     "name": "stdin",
     "output_type": "stream",
     "text": [
      "enter your table 3\n"
     ]
    },
    {
     "name": "stdout",
     "output_type": "stream",
     "text": [
      "3 x 1 = 3\n",
      "3 x 2 = 6\n",
      "3 x 3 = 9\n",
      "3 x 4 = 12\n",
      "3 x 5 = 15\n",
      "3 x 6 = 18\n",
      "3 x 7 = 21\n",
      "3 x 8 = 24\n",
      "3 x 9 = 27\n",
      "3 x 10 = 30\n"
     ]
    },
    {
     "name": "stdin",
     "output_type": "stream",
     "text": [
      "want to continue?(yes/no) yes\n"
     ]
    },
    {
     "name": "stdout",
     "output_type": "stream",
     "text": [
      "ok\n"
     ]
    },
    {
     "name": "stdin",
     "output_type": "stream",
     "text": [
      "enter your table 7\n"
     ]
    },
    {
     "name": "stdout",
     "output_type": "stream",
     "text": [
      "7 x 1 = 7\n",
      "7 x 2 = 14\n",
      "7 x 3 = 21\n",
      "7 x 4 = 28\n",
      "7 x 5 = 35\n",
      "7 x 6 = 42\n",
      "7 x 7 = 49\n",
      "7 x 8 = 56\n",
      "7 x 9 = 63\n",
      "7 x 10 = 70\n"
     ]
    },
    {
     "name": "stdin",
     "output_type": "stream",
     "text": [
      "want to continue?(yes/no) no\n"
     ]
    },
    {
     "name": "stdout",
     "output_type": "stream",
     "text": [
      "ok\n"
     ]
    }
   ],
   "source": [
    "while True:\n",
    "    num=int(input('enter your table'))\n",
    "    for i in range(1,11):\n",
    "        print(f'{num} x {i} = {num*i}')\n",
    "    ask=input('want to continue?(yes/no)').lower()\n",
    "    print('ok')\n",
    "    if ask=='no':\n",
    "        break"
   ]
  },
  {
   "cell_type": "code",
   "execution_count": 23,
   "id": "3a5dbb58-db73-4f7f-94d5-0f23018905b4",
   "metadata": {},
   "outputs": [
    {
     "name": "stdin",
     "output_type": "stream",
     "text": [
      "input username daver\n",
      "input password daver\n",
      "enter username d\n",
      "enter password d\n"
     ]
    },
    {
     "name": "stdout",
     "output_type": "stream",
     "text": [
      "wrong password\n"
     ]
    },
    {
     "name": "stdin",
     "output_type": "stream",
     "text": [
      "yes/no yes\n",
      "enter username daver\n",
      "enter password daver\n"
     ]
    },
    {
     "name": "stdout",
     "output_type": "stream",
     "text": [
      "correct\n",
      "*\n",
      "**\n"
     ]
    },
    {
     "name": "stdin",
     "output_type": "stream",
     "text": [
      "how many * are there to check you human or not:  3\n"
     ]
    },
    {
     "name": "stdout",
     "output_type": "stream",
     "text": [
      "you are human\n"
     ]
    }
   ],
   "source": [
    "user =input('input username')\n",
    "passw=input('input password')\n",
    "while True:\n",
    "    reus=input('enter username')\n",
    "    repass=input('enter password')\n",
    "    if reus == user and passw == repass:\n",
    "        print('correct')\n",
    "        break\n",
    "    else:\n",
    "        print('wrong password')\n",
    "        ask = input('yes/no')\n",
    "        if ask=='yes':\n",
    "            continue\n",
    "        elif ask == 'no':\n",
    "            break \n",
    "while reus == user and passw == repass:\n",
    "    for i in range(1,3):\n",
    "        for j in range(1,i+1):\n",
    "            print('*',end='')\n",
    "        print()\n",
    "        if i==2:\n",
    "           break        \n",
    "    ques=int(input('how many * are there to check you human or not: '))\n",
    "    if ques==3:\n",
    "       print('you are human')\n",
    "       break\n",
    "    else:\n",
    "       print('incorrect')\n",
    "    reask=input('continue(yes/no):')\n",
    "    if reask=='no':\n",
    "       break\n",
    "    "
   ]
  },
  {
   "cell_type": "code",
   "execution_count": null,
   "id": "4d2babe4-eff2-48bf-9ccf-13450cf64a72",
   "metadata": {},
   "outputs": [],
   "source": []
  }
 ],
 "metadata": {
  "kernelspec": {
   "display_name": "Python 3 (ipykernel)",
   "language": "python",
   "name": "python3"
  },
  "language_info": {
   "codemirror_mode": {
    "name": "ipython",
    "version": 3
   },
   "file_extension": ".py",
   "mimetype": "text/x-python",
   "name": "python",
   "nbconvert_exporter": "python",
   "pygments_lexer": "ipython3",
   "version": "3.12.4"
  }
 },
 "nbformat": 4,
 "nbformat_minor": 5
}
