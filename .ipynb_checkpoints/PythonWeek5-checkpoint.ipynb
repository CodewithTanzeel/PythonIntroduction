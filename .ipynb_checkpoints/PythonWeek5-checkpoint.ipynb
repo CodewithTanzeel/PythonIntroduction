{
 "cells": [
  {
   "cell_type": "code",
   "execution_count": 3,
   "id": "bd2e615d-3285-4720-b38d-6012cae5f9bc",
   "metadata": {},
   "outputs": [
    {
     "name": "stdin",
     "output_type": "stream",
     "text": [
      "ENTER A NUMBER= 44\n"
     ]
    },
    {
     "name": "stdout",
     "output_type": "stream",
     "text": [
      "44 is an even number\n"
     ]
    }
   ],
   "source": [
    "#TO IDENTIFY EVEN AND ODD NUMBERS\n",
    "a=int(input(\"ENTER A NUMBER=\"))\n",
    "if a%2==0:\n",
    "    print(f\"{a} is an even number\")\n",
    "else:\n",
    "    print(f\"{a} is an odd number\")"
   ]
  },
  {
   "cell_type": "code",
   "execution_count": 3,
   "id": "70a3b340-9c58-4ddd-8bf1-87605477d49d",
   "metadata": {
    "scrolled": true
   },
   "outputs": [
    {
     "name": "stdout",
     "output_type": "stream",
     "text": [
      "0\n",
      "1\n",
      "2\n",
      "3\n",
      "4\n",
      "5\n",
      "6\n",
      "7\n",
      "8\n",
      "9\n",
      "10\n"
     ]
    }
   ],
   "source": [
    "counter=0\n",
    "while counter<=10:\n",
    "    print(counter)\n",
    "    counter+=1\n",
    "    "
   ]
  },
  {
   "cell_type": "code",
   "execution_count": 1,
   "id": "d99deae1-0b34-4be0-aeaf-84a36588cdb7",
   "metadata": {},
   "outputs": [
    {
     "name": "stdout",
     "output_type": "stream",
     "text": [
      "10\n",
      "9\n",
      "8\n",
      "7\n",
      "6\n",
      "5\n",
      "4\n",
      "3\n",
      "2\n",
      "1\n",
      "0\n"
     ]
    }
   ],
   "source": [
    "c=10\n",
    "while c>=0:\n",
    "    print(c)\n",
    "    c-=1"
   ]
  },
  {
   "cell_type": "code",
   "execution_count": 31,
   "id": "aafd3598-8076-4342-a604-2a25d4a5c57a",
   "metadata": {},
   "outputs": [
    {
     "name": "stdin",
     "output_type": "stream",
     "text": [
      "ENTER A PASSWORD \n"
     ]
    },
    {
     "name": "stdout",
     "output_type": "stream",
     "text": [
      "your passwors is \n"
     ]
    },
    {
     "name": "stdin",
     "output_type": "stream",
     "text": [
      "ENTER A PASSWORD kkk\n"
     ]
    },
    {
     "name": "stdout",
     "output_type": "stream",
     "text": [
      "your passwors is kkk\n"
     ]
    }
   ],
   "source": [
    "code=input(\"ENTER A PASSWORD\")\n",
    "print(f\"your passwors is {code}\")\n",
    "while code==\"\":\n",
    "    code=input(\"ENTER A PASSWORD\")\n",
    "    print(f\"your passwors is {code}\")\n",
    "    \n",
    "    \n",
    "    "
   ]
  },
  {
   "cell_type": "code",
   "execution_count": 67,
   "id": "70ed32ff-a14a-4b94-b59a-88930e9cfd8a",
   "metadata": {},
   "outputs": [
    {
     "name": "stdin",
     "output_type": "stream",
     "text": [
      "set your password daver\n",
      "enter your password: sa\n"
     ]
    },
    {
     "name": "stdout",
     "output_type": "stream",
     "text": [
      "wromg password.try again\n",
      "you have 2 attempts remaining\n"
     ]
    },
    {
     "name": "stdin",
     "output_type": "stream",
     "text": [
      "enter your password: sa\n"
     ]
    },
    {
     "name": "stdout",
     "output_type": "stream",
     "text": [
      "wromg password.try again\n",
      "you have 1 attempts remaining\n"
     ]
    },
    {
     "name": "stdin",
     "output_type": "stream",
     "text": [
      "enter your password: sa\n"
     ]
    },
    {
     "name": "stdout",
     "output_type": "stream",
     "text": [
      "wromg password.try again\n",
      "you have 0 attempts remaining\n"
     ]
    }
   ],
   "source": [
    "pasword=input(\"set your password\")\n",
    "count=3\n",
    "while True and count>0:\n",
    "    entpass=input(\"enter your password:\")\n",
    "    count-=1\n",
    "    if entpass==pasword:\n",
    "        print(\"correct password\")\n",
    "        break\n",
    "    else:\n",
    "        print(\"wromg password.try again\")\n",
    "        print(f\"you have {count} attempts remaining\")\n",
    "        "
   ]
  },
  {
   "cell_type": "code",
   "execution_count": 53,
   "id": "b4f0534d-dbe4-4ed6-aee4-1093ec11306f",
   "metadata": {},
   "outputs": [
    {
     "name": "stdin",
     "output_type": "stream",
     "text": [
      "ENTER YOUR AGE= 70\n",
      "ENTER ARE YOU(KID,TEENAGER,MAN) man\n"
     ]
    },
    {
     "name": "stdout",
     "output_type": "stream",
     "text": [
      "You are too old for this\n"
     ]
    }
   ],
   "source": [
    "age=int(input(\"ENTER YOUR AGE=\"))\n",
    "lvl=input(\"ENTER ARE YOU(KID,TEENAGER,MAN)\").lower()\n",
    "if age<=100:\n",
    "    pass\n",
    "    if age<=18 and lvl==\"kid\" or lvl==\"teenager\":\n",
    "       print(\"You are too young to be eligible\")\n",
    "    elif age>=19 and lvl==\"man\" and age<70:\n",
    "       print(\"You are Eligible\")\n",
    "    elif age>=70:\n",
    "        print(\"You are too old for this\")\n",
    "    \n",
    "    "
   ]
  },
  {
   "cell_type": "code",
   "execution_count": null,
   "id": "496da189-dc4c-4f0a-a8fc-4416ea7e4f23",
   "metadata": {},
   "outputs": [
    {
     "name": "stdout",
     "output_type": "stream",
     "text": [
      "pet suggestion\n"
     ]
    },
    {
     "name": "stdin",
     "output_type": "stream",
     "text": [
      "Enter a size you want?(small,large) small\n",
      "Enter an activity you want?(playful/calm) calm\n"
     ]
    },
    {
     "name": "stdout",
     "output_type": "stream",
     "text": [
      "A small and calm pet would be a kitten\n"
     ]
    },
    {
     "name": "stdin",
     "output_type": "stream",
     "text": [
      "ENTER YES TO CONTINUE yes\n",
      "Enter a size you want?(small,large) small\n",
      "Enter an activity you want?(playful/calm) playful\n"
     ]
    },
    {
     "name": "stdout",
     "output_type": "stream",
     "text": [
      "WE ARE SORRY WE DONT MEET YOUR EXPECTATIONS!!!\n"
     ]
    }
   ],
   "source": [
    "print(\"pet suggestion\")\n",
    "oneSize=['small','large']\n",
    "twoactivity=['palyful','calm']\n",
    "while True:\n",
    "    size=input(\"Enter a size you want?(small,large)\").lower()\n",
    "    activity=input(\"Enter an activity you want?(playful/calm)\").lower()\n",
    "    if size in oneSize and activity in twoactivity:\n",
    "        if size== \"small\" and activity==\"calm\":\n",
    "            print(f\"A {size} and {activity} pet would be a kitten\")\n",
    "            r=input(\"ENTER YES TO CONTINUE\").lower()\n",
    "            if r==\"yes\":\n",
    "              continue\n",
    "            else:\n",
    "               print(\"END\")\n",
    "               break\n",
    "        elif size ==\"small\" and activity ==\"playful\":\n",
    "            print(f\"A {size} and {activity} pet would be a Rabbit\")\n",
    "            break\n",
    "        elif size ==\"large\" and activity ==\"playful\":\n",
    "            print(f\"A {size} and {activity} pet would be a DOG\")\n",
    "            break\n",
    "        elif size ==\"large\" and activity ==\"calm\":\n",
    "            print(f\"A {size} and {activity} pet would be a goat\")\n",
    "            break\n",
    "    else:\n",
    "        print(\"WE ARE SORRY WE DONT MEET YOUR EXPECTATIONS!!!\")\n",
    "         "
   ]
  },
  {
   "cell_type": "code",
   "execution_count": null,
   "id": "bb45f1d0-9078-45af-bfc0-9e610e4f323a",
   "metadata": {},
   "outputs": [],
   "source": []
  },
  {
   "cell_type": "code",
   "execution_count": null,
   "id": "42ce5a00-0f15-432d-838d-dc1a13956f56",
   "metadata": {},
   "outputs": [],
   "source": []
  }
 ],
 "metadata": {
  "kernelspec": {
   "display_name": "Python 3 (ipykernel)",
   "language": "python",
   "name": "python3"
  },
  "language_info": {
   "codemirror_mode": {
    "name": "ipython",
    "version": 3
   },
   "file_extension": ".py",
   "mimetype": "text/x-python",
   "name": "python",
   "nbconvert_exporter": "python",
   "pygments_lexer": "ipython3",
   "version": "3.12.4"
  }
 },
 "nbformat": 4,
 "nbformat_minor": 5
}
