{
 "cells": [
  {
   "cell_type": "markdown",
   "id": "16de1bf5-f5ef-4ec7-a54a-56309ac50e22",
   "metadata": {},
   "source": [
    "### Compound statements\r\n"
   ]
  },
  {
   "cell_type": "markdown",
   "id": "db345c77-cabc-4d50-a5cf-5479e558cd3d",
   "metadata": {},
   "source": [
    "Compound statements take the form: \n",
    "    \n",
    "    <header>:\n",
    "        <statement>\n",
    "        <statement>\n",
    "        ...\n",
    "    <separating header>:\n",
    "        <statement>\n",
    "        <statement>\n",
    "        ...\n",
    "    ..."
   ]
  },
  {
   "cell_type": "markdown",
   "id": "bb5a11a2-33f6-40b0-9d11-b7b5e49ddd5c",
   "metadata": {},
   "source": [
    "Functions are a form of compound statements.For instance:"
   ]
  },
  {
   "cell_type": "code",
   "execution_count": 3,
   "id": "14878ef1-b50d-4e83-bdcc-8a3cd2fb7398",
   "metadata": {},
   "outputs": [
    {
     "data": {
      "text/plain": [
       "66.66666666666667"
      ]
     },
     "execution_count": 3,
     "metadata": {},
     "output_type": "execute_result"
    }
   ],
   "source": [
    "def percent_difference(x, y):\n",
    "    difference = abs(x-y)\n",
    "    return 100 * difference / x\n",
    "\n",
    "result = percent_difference(30, 50)\n",
    "result"
   ]
  },
  {
   "cell_type": "markdown",
   "id": "40773d84-c6c3-4cf6-951f-c2ec1209f804",
   "metadata": {},
   "source": [
    "Important note: Python forces you to do indentation! Many other languages don't but you still have to get in the habbit of proper indentation.\r\n",
    "\r\n",
    "Make sure you understand the difference between indenting with tabs and that with spaces. Also ensure you understand the capabilities of your text editor."
   ]
  },
  {
   "cell_type": "markdown",
   "id": "31b6687e-3bbf-4948-8bb2-466b14f72e99",
   "metadata": {},
   "source": [
    "###Conditionals"
   ]
  },
  {
   "cell_type": "code",
   "execution_count": null,
   "id": "a2533e8f-e85b-4e20-b990-03918f64e07e",
   "metadata": {},
   "outputs": [],
   "source": [
    "def absoulute_value(x):\n",
    "    \"\"\"Compute abs(x).\"\"\"\n",
    "    if x > 0:\n",
    "        return x\n",
    "    elif x == 0:\n",
    "        return 0\n",
    "    else:\n",
    "        return -x\n",
    "\n",
    "\n",
    "absolute_value(-5)\n",
    "        "
   ]
  },
  {
   "cell_type": "code",
   "execution_count": 1,
   "id": "0eefe65f-831e-497c-a17d-b90da2a116d6",
   "metadata": {},
   "outputs": [
    {
     "ename": "NameError",
     "evalue": "name 'absolute_value' is not defined",
     "output_type": "error",
     "traceback": [
      "\u001b[1;31m---------------------------------------------------------------------------\u001b[0m",
      "\u001b[1;31mNameError\u001b[0m                                 Traceback (most recent call last)",
      "Cell \u001b[1;32mIn[1], line 1\u001b[0m\n\u001b[1;32m----> 1\u001b[0m absolute_value(\u001b[38;5;241m-\u001b[39m\u001b[38;5;241m5\u001b[39m)\n",
      "\u001b[1;31mNameError\u001b[0m: name 'absolute_value' is not defined"
     ]
    }
   ],
   "source": [
    "absolute_value(-5)\n",
    "  "
   ]
  },
  {
   "cell_type": "code",
   "execution_count": null,
   "id": "2cb6ed70-1f66-4f9e-96c6-473d94f3d868",
   "metadata": {},
   "outputs": [],
   "source": [
    "absolute_value(-6)\n",
    "     "
   ]
  },
  {
   "cell_type": "code",
   "execution_count": 4,
   "id": "cdedfafb-a27d-4cb3-9031-64a2913ba28e",
   "metadata": {},
   "outputs": [
    {
     "ename": "NameError",
     "evalue": "name 'absolute_value' is not defined",
     "output_type": "error",
     "traceback": [
      "\u001b[1;31m---------------------------------------------------------------------------\u001b[0m",
      "\u001b[1;31mNameError\u001b[0m                                 Traceback (most recent call last)",
      "Cell \u001b[1;32mIn[4], line 1\u001b[0m\n\u001b[1;32m----> 1\u001b[0m absolute_value(\u001b[38;5;241m0\u001b[39m)\n",
      "\u001b[1;31mNameError\u001b[0m: name 'absolute_value' is not defined"
     ]
    }
   ],
   "source": [
    "absolute_value(0)\n",
    "     "
   ]
  },
  {
   "cell_type": "code",
   "execution_count": 6,
   "id": "18b9a07f-9e24-4ac5-92f3-e2ce3e4cd8c2",
   "metadata": {},
   "outputs": [
    {
     "ename": "NameError",
     "evalue": "name 'absolute_value' is not defined",
     "output_type": "error",
     "traceback": [
      "\u001b[1;31m---------------------------------------------------------------------------\u001b[0m",
      "\u001b[1;31mNameError\u001b[0m                                 Traceback (most recent call last)",
      "Cell \u001b[1;32mIn[6], line 1\u001b[0m\n\u001b[1;32m----> 1\u001b[0m absolute_value(\u001b[38;5;241m-\u001b[39m\u001b[38;5;241m0.1\u001b[39m)\n",
      "\u001b[1;31mNameError\u001b[0m: name 'absolute_value' is not defined"
     ]
    }
   ],
   "source": [
    "absolute_value(-0.1)"
   ]
  },
  {
   "cell_type": "markdown",
   "id": "eff8b7ee-18cc-4c6a-a828-05ab4a866fe0",
   "metadata": {},
   "source": [
    "Lets view this on python visualizer"
   ]
  },
  {
   "cell_type": "code",
   "execution_count": null,
   "id": "00883fa7-0d81-40e6-ab51-47240d85d070",
   "metadata": {},
   "outputs": [],
   "source": [
    "# Another way to write this: \n",
    "def absolute_value(x):\n",
    "    \"\"\"Compute abs(x).\"\"\"\n",
    "    if not x < 0:\n",
    "        return x\n",
    "    else:\n",
    "        return -x"
   ]
  },
  {
   "cell_type": "code",
   "execution_count": 10,
   "id": "423b4429-8a51-4891-8ad6-f1dbe7819455",
   "metadata": {},
   "outputs": [
    {
     "name": "stdout",
     "output_type": "stream",
     "text": [
      "a is more than 5 and b is more than 6\n",
      "done\n"
     ]
    }
   ],
   "source": [
    "# we can also nest ifs \n",
    "a = 19\n",
    "b = 22\n",
    "\n",
    "if a > 5:\n",
    "    if b > 6: \n",
    "        print (\"a is more than 5 and b is more than 6\")\n",
    "    else: \n",
    "        print (\"a is more than 5 BUT b is not more than 6\")    \n",
    "        \n",
    "else: \n",
    "    print (\"a is not more than 5\")\n",
    "\n",
    "print (\"done\")    "
   ]
  },
  {
   "cell_type": "code",
   "execution_count": null,
   "id": "9d5bc323-824b-4e12-a719-ca1f9101437c",
   "metadata": {},
   "outputs": [],
   "source": [
    "if is_weekday(23, 10, 2024):\n",
    "    print (\"its a weekday\")\n",
    "else:\n",
    "    print (\"weekend!!!\")"
   ]
  }
 ],
 "metadata": {
  "kernelspec": {
   "display_name": "Python 3 (ipykernel)",
   "language": "python",
   "name": "python3"
  },
  "language_info": {
   "codemirror_mode": {
    "name": "ipython",
    "version": 3
   },
   "file_extension": ".py",
   "mimetype": "text/x-python",
   "name": "python",
   "nbconvert_exporter": "python",
   "pygments_lexer": "ipython3",
   "version": "3.12.4"
  }
 },
 "nbformat": 4,
 "nbformat_minor": 5
}
