{
 "cells": [
  {
   "cell_type": "code",
   "execution_count": 1,
   "id": "78132f80-9b43-4568-a9c2-bc6eddaa43cd",
   "metadata": {},
   "outputs": [],
   "source": [
    "# **LexicalScope**"
   ]
  },
  {
   "cell_type": "code",
   "execution_count": 3,
   "id": "931b26ec-5016-496b-99bf-4bcb5fbf3ba0",
   "metadata": {},
   "outputs": [],
   "source": [
    "#Where can you see the variables"
   ]
  },
  {
   "cell_type": "code",
   "execution_count": null,
   "id": "fa54ce34-ae0d-4377-b96d-b302e8943c36",
   "metadata": {},
   "outputs": [],
   "source": [
    "def f(x):\n",
    "    y = 5\n",
    "    x = x * y\n",
    "    print (' x =',x)\n",
    "    print (' p =',p)\n",
    "    return x\n",
    "    "
   ]
  }
 ],
 "metadata": {
  "kernelspec": {
   "display_name": "Python 3 (ipykernel)",
   "language": "python",
   "name": "python3"
  },
  "language_info": {
   "codemirror_mode": {
    "name": "ipython",
    "version": 3
   },
   "file_extension": ".py",
   "mimetype": "text/x-python",
   "name": "python",
   "nbconvert_exporter": "python",
   "pygments_lexer": "ipython3",
   "version": "3.12.4"
  }
 },
 "nbformat": 4,
 "nbformat_minor": 5
}
