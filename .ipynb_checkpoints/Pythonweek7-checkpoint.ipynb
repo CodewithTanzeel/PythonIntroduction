{
 "cells": [
  {
   "cell_type": "code",
   "execution_count": 1,
   "id": "04fbd7b0-f7c8-4d9d-bccb-80fec0409c1f",
   "metadata": {},
   "outputs": [],
   "source": [
    "# Temple literals Java scripts \n",
    "# Formatting literals Python"
   ]
  },
  {
   "cell_type": "code",
   "execution_count": null,
   "id": "c80cd920-c68c-4a68-9683-e2e38ed09faf",
   "metadata": {},
   "outputs": [],
   "source": [
    "def student_info(name,info):\n",
    "    if name == \"David\" and roll == 183:\n",
    "        print(\"You are David student of SSUET\")\n",
    "    else:\n",
    "        print(\"Your are not David)\n",
    "    \n"
   ]
  }
 ],
 "metadata": {
  "kernelspec": {
   "display_name": "Python 3 (ipykernel)",
   "language": "python",
   "name": "python3"
  },
  "language_info": {
   "codemirror_mode": {
    "name": "ipython",
    "version": 3
   },
   "file_extension": ".py",
   "mimetype": "text/x-python",
   "name": "python",
   "nbconvert_exporter": "python",
   "pygments_lexer": "ipython3",
   "version": "3.12.4"
  }
 },
 "nbformat": 4,
 "nbformat_minor": 5
}
