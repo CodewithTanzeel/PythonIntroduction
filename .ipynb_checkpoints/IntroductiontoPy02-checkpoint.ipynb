{
 "cells": [
  {
   "cell_type": "code",
   "execution_count": null,
   "id": "686b5a79-576b-4dfe-91f7-9acdee1b6d9a",
   "metadata": {},
   "outputs": [],
   "source": [
    "Importing library functions"
   ]
  },
  {
   "cell_type": "code",
   "execution_count": null,
   "id": "81906180-e26e-4437-a24f-5ff631391403",
   "metadata": {},
   "outputs": [],
   "source": [
    "import math #importing a already defined function from library"
   ]
  },
  {
   "cell_type": "code",
   "execution_count": null,
   "id": "53e9fac4-c3b6-4eb4-ad16-b821001a2305",
   "metadata": {},
   "outputs": [],
   "source": [
    "math.srqt(128)"
   ]
  },
  {
   "cell_type": "code",
   "execution_count": null,
   "id": "670b6c2c-bb39-46ef-b810-dfb7bfb0badd",
   "metadata": {},
   "outputs": [],
   "source": [
    "import math import sqrt  # for specific import in this manner"
   ]
  },
  {
   "cell_type": "code",
   "execution_count": null,
   "id": "bdbc1da4-3054-4ed7-b707-849eafb99cd3",
   "metadata": {},
   "outputs": [],
   "source": [
    "sqrt(512)"
   ]
  },
  {
   "cell_type": "code",
   "execution_count": null,
   "id": "92a67675-a2e2-40be-aa32-61dc5e7cef5f",
   "metadata": {},
   "outputs": [],
   "source": [
    "help(math)"
   ]
  },
  {
   "cell_type": "code",
   "execution_count": null,
   "id": "b6058f17-f656-4af4-9953-4db501cdfc10",
   "metadata": {},
   "outputs": [],
   "source": [
    "Naming the Numbers"
   ]
  },
  {
   "cell_type": "code",
   "execution_count": null,
   "id": "08c02f77-f11a-443b-b57e-73b545fbd56a",
   "metadata": {},
   "outputs": [],
   "source": [
    "x = 96"
   ]
  },
  {
   "cell_type": "code",
   "execution_count": null,
   "id": "a55ca597-904f-4350-a33f-50886c120a0e",
   "metadata": {},
   "outputs": [],
   "source": [
    "x"
   ]
  },
  {
   "cell_type": "code",
   "execution_count": null,
   "id": "33351f03-709f-46c4-a9c8-e6b11a967eb9",
   "metadata": {},
   "outputs": [],
   "source": [
    "x = 3"
   ]
  },
  {
   "cell_type": "code",
   "execution_count": null,
   "id": "9b849c39-4b02-4cd1-af53-2b0feed57582",
   "metadata": {},
   "outputs": [],
   "source": [
    "x * 2"
   ]
  },
  {
   "cell_type": "code",
   "execution_count": null,
   "id": "da5be909-96aa-4267-8101-bc48d87a631e",
   "metadata": {},
   "outputs": [],
   "source": [
    "y = x * 4"
   ]
  },
  {
   "cell_type": "code",
   "execution_count": null,
   "id": "8e4e3990-5948-46e1-94cd-b2278ac300b1",
   "metadata": {},
   "outputs": [],
   "source": [
    "y"
   ]
  },
  {
   "cell_type": "code",
   "execution_count": null,
   "id": "c5915546-ed4c-4aac-88a5-945d35fc32d1",
   "metadata": {},
   "outputs": [],
   "source": [
    "type(y)"
   ]
  },
  {
   "cell_type": "code",
   "execution_count": null,
   "id": "457d8bb1-44fe-43a0-8944-b70c73e419bb",
   "metadata": {},
   "outputs": [],
   "source": [
    "y * 2"
   ]
  },
  {
   "cell_type": "code",
   "execution_count": null,
   "id": "7d793f8c-2bc1-495e-aec1-7a5d99a19a08",
   "metadata": {},
   "outputs": [],
   "source": [
    "Importing variables from libraries"
   ]
  },
  {
   "cell_type": "code",
   "execution_count": null,
   "id": "59775b3e-9aba-481c-a24f-b9ce1f5fc571",
   "metadata": {},
   "outputs": [],
   "source": [
    "import math import pi"
   ]
  },
  {
   "cell_type": "code",
   "execution_count": null,
   "id": "60c3c647-26a3-40cb-906a-87c57736d2f4",
   "metadata": {},
   "outputs": [],
   "source": [
    "pi"
   ]
  },
  {
   "cell_type": "code",
   "execution_count": null,
   "id": "c91a99a6-cbc9-4364-8253-580e8ff313a1",
   "metadata": {},
   "outputs": [],
   "source": [
    "pi * 5 * 5  # using  formula of area pir^2 in order to obtain a 5cm radius circle area"
   ]
  },
  {
   "cell_type": "code",
   "execution_count": null,
   "id": "f94046f6-6a64-4551-90bb-5f6dd8a072dc",
   "metadata": {},
   "outputs": [],
   "source": [
    "radius = 5"
   ]
  },
  {
   "cell_type": "code",
   "execution_count": null,
   "id": "9d1fc446-e815-477a-a5ba-33d811eb29e7",
   "metadata": {},
   "outputs": [],
   "source": [
    "pi * pow(radius,2)"
   ]
  },
  {
   "cell_type": "code",
   "execution_count": null,
   "id": "40d831ad-51de-43cb-951d-e66c9f31d271",
   "metadata": {},
   "outputs": [],
   "source": [
    "a = 5\n",
    "b = 3\n",
    "pi * pow (a,b)"
   ]
  },
  {
   "cell_type": "code",
   "execution_count": null,
   "id": "8a593888-a82d-400d-b189-f950963b4e18",
   "metadata": {},
   "outputs": [],
   "source": [
    "What happens when you try to use a variable that is not known"
   ]
  },
  {
   "cell_type": "code",
   "execution_count": null,
   "id": "6402fa9e-892e-4c6d-a4ad-746291824d6c",
   "metadata": {},
   "outputs": [],
   "source": [
    "v"
   ]
  },
  {
   "cell_type": "code",
   "execution_count": null,
   "id": "18b8eca5-b1cd-4188-aa9d-b078f810ff95",
   "metadata": {},
   "outputs": [],
   "source": [
    "Naming functions"
   ]
  },
  {
   "cell_type": "code",
   "execution_count": null,
   "id": "eba65c09-6c93-494f-85dd-a61374a0c332",
   "metadata": {},
   "outputs": [],
   "source": [
    "sqrt(25)"
   ]
  },
  {
   "cell_type": "code",
   "execution_count": null,
   "id": "2f58e763-eb89-4cee-b736-fd733003baad",
   "metadata": {},
   "outputs": [],
   "source": [
    "sqrt"
   ]
  },
  {
   "cell_type": "code",
   "execution_count": null,
   "id": "3d5b3bd0-5f63-4650-8618-a960a6785b3d",
   "metadata": {},
   "outputs": [],
   "source": [
    "f = sqrt"
   ]
  },
  {
   "cell_type": "code",
   "execution_count": null,
   "id": "d26bee38-24ce-465c-ac50-193cbdd23d1d",
   "metadata": {},
   "outputs": [],
   "source": [
    "sqrt(25)"
   ]
  },
  {
   "cell_type": "code",
   "execution_count": null,
   "id": "99c170bf-511f-4574-be78-bb7b391cb82f",
   "metadata": {},
   "outputs": [],
   "source": [
    "f(25)"
   ]
  },
  {
   "cell_type": "code",
   "execution_count": null,
   "id": "9aa00b1f-dd8f-46c0-913a-54b617492131",
   "metadata": {},
   "outputs": [],
   "source": [
    "Side Effects"
   ]
  },
  {
   "cell_type": "code",
   "execution_count": null,
   "id": "265a80a2-2e71-4399-953d-6e7755dd3af1",
   "metadata": {},
   "outputs": [],
   "source": [
    "import math import sqrt\n",
    "print 5.0"
   ]
  },
  {
   "cell_type": "code",
   "execution_count": null,
   "id": "5abd0085-b961-49d7-882c-9a25c41bf0f6",
   "metadata": {},
   "outputs": [],
   "source": [
    "print \"the vaule to squareroot 25 is:\",sqrt(25)"
   ]
  },
  {
   "cell_type": "code",
   "execution_count": null,
   "id": "1d994d3a-43ab-4e6b-b077-407d3176159a",
   "metadata": {},
   "outputs": [],
   "source": [
    "s = \"\"\"Mutli-line string Something on the Second line\"\"\""
   ]
  },
  {
   "cell_type": "code",
   "execution_count": null,
   "id": "8f6f100f-7703-4692-910b-63fc4a0e3bca",
   "metadata": {},
   "outputs": [],
   "source": [
    "s"
   ]
  },
  {
   "cell_type": "code",
   "execution_count": null,
   "id": "3b2c37a9-df66-4455-9d35-a4bac5df554f",
   "metadata": {},
   "outputs": [],
   "source": [
    "s = \"\"\"Multi-line string. \\n Something on the next line\"\"\""
   ]
  },
  {
   "cell_type": "code",
   "execution_count": null,
   "id": "c31464a1-78ee-4153-a21d-48013c0c38a4",
   "metadata": {},
   "outputs": [],
   "source": [
    "print s"
   ]
  },
  {
   "cell_type": "code",
   "execution_count": null,
   "id": "9c2ffb90-9f26-4015-aeb9-fe6f963af19d",
   "metadata": {},
   "outputs": [],
   "source": [
    "Task search about Autograder we will discuss about it in the next session"
   ]
  }
 ],
 "metadata": {
  "kernelspec": {
   "display_name": "Python 3 (ipykernel)",
   "language": "python",
   "name": "python3"
  },
  "language_info": {
   "codemirror_mode": {
    "name": "ipython",
    "version": 3
   },
   "file_extension": ".py",
   "mimetype": "text/x-python",
   "name": "python",
   "nbconvert_exporter": "python",
   "pygments_lexer": "ipython3",
   "version": "3.12.4"
  }
 },
 "nbformat": 4,
 "nbformat_minor": 5
}
