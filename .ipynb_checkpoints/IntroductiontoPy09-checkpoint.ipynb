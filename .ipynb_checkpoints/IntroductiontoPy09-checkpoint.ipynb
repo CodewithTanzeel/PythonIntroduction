{
 "cells": [
  {
   "cell_type": "markdown",
   "id": "7fa45c61-7d60-48b7-a53a-a80d67984cc5",
   "metadata": {},
   "source": [
    "Sequences\r\n",
    "A sequence is an ordered collection of values\r\n",
    "A powerful, fundamental abstraction\r\n",
    "Not instances of a particular built-in type\r\n",
    "Many types but they all share common behavior:\r\n",
    "length\r\n",
    "element selection\r\n",
    "Composing Programs\r",
    "rograms"
   ]
  },
  {
   "cell_type": "markdown",
   "id": "516cb1e7-5657-4d59-bfa1-4fd366e7c4c8",
   "metadata": {},
   "source": [
    "Lists¶"
   ]
  },
  {
   "cell_type": "markdown",
   "id": "d5b11268-0de4-4f64-9e85-f585a26c9595",
   "metadata": {},
   "source": [
    "Lists are a sequence that can have arbitrary length. Extremelely powerful and useful. "
   ]
  },
  {
   "cell_type": "code",
   "execution_count": 2,
   "id": "bada2233-7317-4115-9974-41181df4cb40",
   "metadata": {},
   "outputs": [
    {
     "name": "stdout",
     "output_type": "stream",
     "text": [
      "[1, 8, 2, 8]\n"
     ]
    },
    {
     "ename": "IndexError",
     "evalue": "list index out of range",
     "output_type": "error",
     "traceback": [
      "\u001b[1;31m---------------------------------------------------------------------------\u001b[0m",
      "\u001b[1;31mIndexError\u001b[0m                                Traceback (most recent call last)",
      "Cell \u001b[1;32mIn[2], line 6\u001b[0m\n\u001b[0;32m      4\u001b[0m v \u001b[38;5;241m=\u001b[39m \u001b[38;5;241m0\u001b[39m \n\u001b[0;32m      5\u001b[0m digits[v\u001b[38;5;241m+\u001b[39m\u001b[38;5;241m1\u001b[39m]     \u001b[38;5;66;03m# this is called 0-based indexes \u001b[39;00m\n\u001b[1;32m----> 6\u001b[0m digits[\u001b[38;5;241m4\u001b[39m]\n",
      "\u001b[1;31mIndexError\u001b[0m: list index out of range"
     ]
    }
   ],
   "source": [
    "digits = [     1, 8, 2, 8 ]\n",
    "print (digits)\n",
    "len(digits) \n",
    "v = 0 \n",
    "digits[v+1]     # this is called 0-based indexes \n",
    "digits[4]\n",
    "digits[4]    # membership check \n",
    "88 in digits"
   ]
  },
  {
   "cell_type": "markdown",
   "id": "c80ee12c-1225-4d61-99f3-f75a0e7a0a24",
   "metadata": {},
   "source": [
    "(Visualize lists in tutor.)"
   ]
  },
  {
   "cell_type": "markdown",
   "id": "3fdda53b-4bcd-4672-8827-3a1bd4892907",
   "metadata": {},
   "source": [
    "Let's do some interesting stuff with lists."
   ]
  },
  {
   "cell_type": "code",
   "execution_count": null,
   "id": "12498818-557d-43a0-9f75-742239f8c7d1",
   "metadata": {},
   "outputs": [],
   "source": [
    "def make_tea(ing):\n",
    "    for i in ing: \n",
    "        print \"Put\", i, \"in.\"\n",
    "        \n",
    "        \n",
    "ingredients = ['water', 'milk', 'cinnamon', 'tea leaves']\n",
    "make_tea(ingredients)\n"
   ]
  },
  {
   "cell_type": "code",
   "execution_count": 5,
   "id": "6ba4e882-42fc-4677-a995-f9c44e2ed793",
   "metadata": {},
   "outputs": [],
   "source": [
    "seq = [1, 2, 8, 4, 6, 8, 9, 15]"
   ]
  },
  {
   "cell_type": "code",
   "execution_count": 7,
   "id": "f9365ae3-1e4b-45a3-8b60-72d7be2aec00",
   "metadata": {},
   "outputs": [],
   "source": [
    "def count(s, value):\n",
    "    \"\"\"Count how many times value occurs in s\"\"\"\n",
    "    counter = 0 \n",
    "    \n",
    "    for i in s: \n",
    "        \n",
    "        if i == value : \n",
    "            counter = counter + 1\n",
    "            \n",
    "    return counter\n",
    "count(seq, 88)"
   ]
  },
  {
   "cell_type": "markdown",
   "id": "12609c42-62bc-48dd-91bf-7ff1787e0b6b",
   "metadata": {},
   "source": [
    "Modifying elements is the same "
   ]
  },
  {
   "cell_type": "code",
   "execution_count": 10,
   "id": "aa50f1aa-7b50-488a-a01a-cf3dc175e89f",
   "metadata": {},
   "outputs": [
    {
     "data": {
      "text/plain": [
       "[1, 0, 3, 4]"
      ]
     },
     "execution_count": 10,
     "metadata": {},
     "output_type": "execute_result"
    }
   ],
   "source": [
    "digits = [1, 2, 3, 4]\n",
    "digits[1]\n",
    "digits[1] = 0\n",
    "digits"
   ]
  },
  {
   "cell_type": "markdown",
   "id": "5145d49a-2449-408d-a250-c2a391d078f6",
   "metadata": {},
   "source": [
    "### Other methods of element selection "
   ]
  },
  {
   "cell_type": "code",
   "execution_count": null,
   "id": "6b10c1d8-0c10-4971-aec3-0217687b5e67",
   "metadata": {},
   "outputs": [],
   "source": [
    "digits = [   1, 5, 4,  6, 7, 9   ]\n",
    "digits[1:4]      # stops just before index: 3\n",
    "len(digits)\n",
    "digits[-4:-1]\n",
    "digits[2:] # stops just before index:3 "
   ]
  }
 ],
 "metadata": {
  "kernelspec": {
   "display_name": "Python 3 (ipykernel)",
   "language": "python",
   "name": "python3"
  },
  "language_info": {
   "codemirror_mode": {
    "name": "ipython",
    "version": 3
   },
   "file_extension": ".py",
   "mimetype": "text/x-python",
   "name": "python",
   "nbconvert_exporter": "python",
   "pygments_lexer": "ipython3",
   "version": "3.12.4"
  }
 },
 "nbformat": 4,
 "nbformat_minor": 5
}
