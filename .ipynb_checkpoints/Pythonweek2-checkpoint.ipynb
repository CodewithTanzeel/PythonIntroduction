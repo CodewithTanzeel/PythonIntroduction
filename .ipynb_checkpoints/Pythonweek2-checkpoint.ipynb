{
 "cells": [
  {
   "attachments": {},
   "cell_type": "markdown",
   "id": "1f9ebc02-e398-44d4-94cd-e8134201c393",
   "metadata": {},
   "source": [
    "###Multiple Print() statement in python"
   ]
  },
  {
   "cell_type": "code",
   "execution_count": 7,
   "id": "6350fbf0-9abb-4f77-a768-8e5d95018c99",
   "metadata": {},
   "outputs": [
    {
     "name": "stdout",
     "output_type": "stream",
     "text": [
      "Hello EveryOne\n",
      "Whats happening\n",
      "This is called Concatination\n"
     ]
    }
   ],
   "source": [
    "print (\"Hello EveryOne\")\n",
    "print (\"Whats happening\")\n",
    "print (\"This is called\" + \" Concatination\")\n"
   ]
  },
  {
   "attachments": {},
   "cell_type": "markdown",
   "id": "f6100452-a283-4629-9083-e90a85390358",
   "metadata": {},
   "source": [
    "### end() = option in print statement \n",
    "end= in print() statement prints upcoming text on the same line rather than printing on the newline.\r\n",
    "print(\"Hello”, end=“ ”)\r\n",
    "print(“Python”)\r\n",
    "print(“World”)\r\n",
    "\n"
   ]
  },
  {
   "cell_type": "code",
   "execution_count": 9,
   "id": "7f2d4d6d-07ad-4662-9b8a-7ecbdc4adac6",
   "metadata": {},
   "outputs": [
    {
     "name": "stdout",
     "output_type": "stream",
     "text": [
      "My name is :Josh\n"
     ]
    }
   ],
   "source": [
    "# similarly \n",
    "print (\"My name is \", end='') # putput will be My name is Josh in the same line\n",
    "print (\"Josh\")"
   ]
  },
  {
   "cell_type": "code",
   "execution_count": null,
   "id": "ad76e72d-92f2-4902-84ba-3deab3ee8313",
   "metadata": {},
   "outputs": [],
   "source": []
  }
 ],
 "metadata": {
  "kernelspec": {
   "display_name": "Python 3 (ipykernel)",
   "language": "python",
   "name": "python3"
  },
  "language_info": {
   "codemirror_mode": {
    "name": "ipython",
    "version": 3
   },
   "file_extension": ".py",
   "mimetype": "text/x-python",
   "name": "python",
   "nbconvert_exporter": "python",
   "pygments_lexer": "ipython3",
   "version": "3.12.4"
  }
 },
 "nbformat": 4,
 "nbformat_minor": 5
}
