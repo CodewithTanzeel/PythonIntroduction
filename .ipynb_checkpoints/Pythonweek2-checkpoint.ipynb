{
 "cells": [
  {
   "attachments": {},
   "cell_type": "markdown",
   "id": "1f9ebc02-e398-44d4-94cd-e8134201c393",
   "metadata": {},
   "source": [
    "###Multiple Print() statement in python"
   ]
  },
  {
   "cell_type": "code",
   "execution_count": 7,
   "id": "6350fbf0-9abb-4f77-a768-8e5d95018c99",
   "metadata": {},
   "outputs": [
    {
     "name": "stdout",
     "output_type": "stream",
     "text": [
      "Hello EveryOne\n",
      "Whats happening\n",
      "This is called Concatination\n"
     ]
    }
   ],
   "source": [
    "print (\"Hello EveryOne\")\n",
    "print (\"Whats happening\")\n",
    "print (\"This is called\" + \" Concatination\")\n"
   ]
  },
  {
   "attachments": {},
   "cell_type": "markdown",
   "id": "f6100452-a283-4629-9083-e90a85390358",
   "metadata": {},
   "source": [
    "### end() = option in print statement \n",
    "end= in print() statement prints upcoming text on the same line rather than printing on the newline.\r\n",
    "print(\"Hello”, end=“ ”)\r\n",
    "print(“Python”)\r\n",
    "print(“World”)\r\n",
    "\n"
   ]
  },
  {
   "cell_type": "code",
   "execution_count": 6,
   "id": "7f2d4d6d-07ad-4662-9b8a-7ecbdc4adac6",
   "metadata": {},
   "outputs": [
    {
     "name": "stdout",
     "output_type": "stream",
     "text": [
      "My name is Josh\n"
     ]
    }
   ],
   "source": [
    "# similarly \n",
    "print (\"My name is \", end='') # putput will be My name is Josh in the same line\n",
    "print (\"Josh\")\n"
   ]
  },
  {
   "cell_type": "markdown",
   "id": "82be87ae-f46e-4dc0-b246-ce3e3a7d196c",
   "metadata": {},
   "source": [
    "Comments in python is denoted by # \n",
    "\"\" and \"\"\"or '''"
   ]
  },
  {
   "cell_type": "markdown",
   "id": "45670e20-f3c7-4cb9-9ca3-4d9e44cc4637",
   "metadata": {},
   "source": [
    "### Escape sequences in PYTHON"
   ]
  },
  {
   "cell_type": "code",
   "execution_count": 1,
   "id": "f31e0677-c8c3-43ac-a457-39b8656147c7",
   "metadata": {},
   "outputs": [
    {
     "name": "stdout",
     "output_type": "stream",
     "text": [
      "Hello\n",
      "Mario\n",
      "Hello\tMario\n",
      "HellMario\n",
      "Hello'Mario'\n",
      "Hello''Mario''\n",
      "Mario\n"
     ]
    }
   ],
   "source": [
    "''' Types of escape sequences are  as followes '''\n",
    "\n",
    "''' \\n, \\t ,\\b , \\', \\'', \\r '''\n",
    "\n",
    "print ( \"Hello\\nMario\") # newline\n",
    "print ( \"Hello\\tMario\") # blank space\n",
    "print ( \"Hello\\bMario\") # backspace\n",
    "print ( \"Hello\\'Mario\\'\") # wraping in quotes\n",
    "print ( \"Hello\\''Mario\\''\") # \n",
    "print ( \"Hello\\rMario\") # \\r neglect kardenga phele wali string ko\n"
   ]
  },
  {
   "cell_type": "code",
   "execution_count": 22,
   "id": "74f9d7fa-a689-49d6-82fb-171753512b84",
   "metadata": {},
   "outputs": [
    {
     "name": "stdin",
     "output_type": "stream",
     "text": [
      "Enter your value in integer 5\n",
      "Enter your value in float 5\n",
      "Enter your value in complex 5\n"
     ]
    },
    {
     "name": "stdout",
     "output_type": "stream",
     "text": [
      "5\n",
      "5.0\n",
      "(5+0j)\n"
     ]
    }
   ],
   "source": [
    "# NUMeric literls\n",
    "i = int(input(\"Enter your value in integer\"))\n",
    "f = float(input(\"Enter your value in float\"))\n",
    "c = complex(input(\"Enter your value in complex\"))\n",
    "\n",
    "print (i)\n",
    "print (f)\n",
    "print(c)\n"
   ]
  },
  {
   "cell_type": "code",
   "execution_count": 14,
   "id": "0409b356-fe0a-40e3-b9bb-0ad1ae4f1421",
   "metadata": {},
   "outputs": [
    {
     "name": "stdout",
     "output_type": "stream",
     "text": [
      " x is  True\n",
      " y is  False\n",
      " z is  False\n"
     ]
    }
   ],
   "source": [
    "x = 1\n",
    "y = 2\n",
    "z = 3\n",
    "\n",
    "x = (1 == True)\n",
    "y = (2 == True)\n",
    "z = (3 == True)\n",
    "\n",
    "\n",
    "print (\" x is \", x)\n",
    "print (\" y is \", y)\n",
    "print (\" z is \", z)\n",
    "\n"
   ]
  },
  {
   "cell_type": "code",
   "execution_count": 16,
   "id": "53910c3b-23e7-48cc-9b99-1de18fb2e764",
   "metadata": {},
   "outputs": [
    {
     "name": "stdout",
     "output_type": "stream",
     "text": [
      "None\n"
     ]
    }
   ],
   "source": [
    "# Special_ loterials\n",
    "\n",
    "special_literal = None\n",
    "print (special_literal)"
   ]
  },
  {
   "cell_type": "code",
   "execution_count": null,
   "id": "3ce0966c-4665-4efb-a0f7-620c2b10b99a",
   "metadata": {},
   "outputs": [],
   "source": [
    "# NAMING OF VARIABLES\n",
    "# Camel Case\n",
    "myFirstCode = 9\n",
    "# Pascal Case\n",
    "MyFirstCode = 9\n",
    "# Snake Case\n",
    "my_first_code = 5"
   ]
  },
  {
   "cell_type": "code",
   "execution_count": 18,
   "id": "4d69ce32-ad4f-4b2a-adfc-37ae07bf4d13",
   "metadata": {},
   "outputs": [
    {
     "name": "stdout",
     "output_type": "stream",
     "text": [
      "\n",
      "Here is a list of the Python keywords.  Enter any keyword to get more help.\n",
      "\n",
      "False               class               from                or\n",
      "None                continue            global              pass\n",
      "True                def                 if                  raise\n",
      "and                 del                 import              return\n",
      "as                  elif                in                  try\n",
      "assert              else                is                  while\n",
      "async               except              lambda              with\n",
      "await               finally             nonlocal            yield\n",
      "break               for                 not                 \n",
      "\n"
     ]
    }
   ],
   "source": [
    "# Reserve worlds\n",
    "help(\"keywords\")"
   ]
  },
  {
   "cell_type": "code",
   "execution_count": 2,
   "id": "c39a8875-ecad-4cfb-addb-2e0d9339980d",
   "metadata": {},
   "outputs": [
    {
     "ename": "NameError",
     "evalue": "name 'a' is not defined",
     "output_type": "error",
     "traceback": [
      "\u001b[1;31m---------------------------------------------------------------------------\u001b[0m",
      "\u001b[1;31mNameError\u001b[0m                                 Traceback (most recent call last)",
      "Cell \u001b[1;32mIn[2], line 3\u001b[0m\n\u001b[0;32m      1\u001b[0m \u001b[38;5;66;03m# undefined  or invalid type\u001b[39;00m\n\u001b[0;32m      2\u001b[0m \u001b[38;5;28mprint\u001b[39m \u001b[38;5;241m=\u001b[39m \u001b[38;5;124m'\u001b[39m\u001b[38;5;124ma\u001b[39m\u001b[38;5;124m'\u001b[39m\n\u001b[1;32m----> 3\u001b[0m \u001b[38;5;28mprint\u001b[39m(a)\n",
      "\u001b[1;31mNameError\u001b[0m: name 'a' is not defined"
     ]
    }
   ],
   "source": [
    "# undefined  or invalid type\n",
    "print = 'a'\n",
    "print(a)"
   ]
  },
  {
   "cell_type": "code",
   "execution_count": 2,
   "id": "0255e072-f7fb-4a73-b399-e78dbbe64b7b",
   "metadata": {},
   "outputs": [
    {
     "ename": "SyntaxError",
     "evalue": "invalid syntax. Perhaps you forgot a comma? (2453480108.py, line 2)",
     "output_type": "error",
     "traceback": [
      "\u001b[1;36m  Cell \u001b[1;32mIn[2], line 2\u001b[1;36m\u001b[0m\n\u001b[1;33m    x , y , z = (Edwards keyway)\u001b[0m\n\u001b[1;37m                 ^\u001b[0m\n\u001b[1;31mSyntaxError\u001b[0m\u001b[1;31m:\u001b[0m invalid syntax. Perhaps you forgot a comma?\n"
     ]
    }
   ],
   "source": [
    "# assigning same value to to different variaables\n",
    "x = y = z = (Edwards keyway)\n",
    "print(x)\n",
    "print(y)\n",
    "print(z)\n"
   ]
  },
  {
   "cell_type": "code",
   "execution_count": 22,
   "id": "974ecdd8-68c6-43a8-bd13-75437bbf6c17",
   "metadata": {},
   "outputs": [
    {
     "name": "stdin",
     "output_type": "stream",
     "text": [
      " hello , hi , wha\n"
     ]
    },
    {
     "ename": "ValueError",
     "evalue": "too many values to unpack (expected 3)",
     "output_type": "error",
     "traceback": [
      "\u001b[1;31m---------------------------------------------------------------------------\u001b[0m",
      "\u001b[1;31mValueError\u001b[0m                                Traceback (most recent call last)",
      "Cell \u001b[1;32mIn[22], line 2\u001b[0m\n\u001b[0;32m      1\u001b[0m \u001b[38;5;66;03m# assigning different values to different variables in  single line\u001b[39;00m\n\u001b[1;32m----> 2\u001b[0m x ,y ,z \u001b[38;5;241m=\u001b[39m \u001b[38;5;28minput\u001b[39m(\u001b[38;5;124m\"\u001b[39m\u001b[38;5;124m\"\u001b[39m)\n\u001b[0;32m      3\u001b[0m \u001b[38;5;28mprint\u001b[39m (x)\n\u001b[0;32m      4\u001b[0m \u001b[38;5;28mprint\u001b[39m (y)\n",
      "\u001b[1;31mValueError\u001b[0m: too many values to unpack (expected 3)"
     ]
    }
   ],
   "source": [
    "# assigning different values to different variables in  single line\n",
    "a,b,c = \"Edwards keyway\", \"Ezio\", \"Conner\"\n",
    "print (x)\n",
    "print (y)\n",
    "print (z)"
   ]
  },
  {
   "cell_type": "code",
   "execution_count": 39,
   "id": "3e4f6700-c8ed-4f81-87d5-9334c97c7540",
   "metadata": {},
   "outputs": [
    {
     "ename": "TypeError",
     "evalue": "'str' object is not callable",
     "output_type": "error",
     "traceback": [
      "\u001b[1;31m---------------------------------------------------------------------------\u001b[0m",
      "\u001b[1;31mTypeError\u001b[0m                                 Traceback (most recent call last)",
      "Cell \u001b[1;32mIn[39], line 6\u001b[0m\n\u001b[0;32m      3\u001b[0m pi \u001b[38;5;241m=\u001b[39m \u001b[38;5;241m3.142\u001b[39m\n\u001b[0;32m      5\u001b[0m a \u001b[38;5;241m=\u001b[39m pi \u001b[38;5;241m*\u001b[39m (rad\u001b[38;5;241m*\u001b[39m\u001b[38;5;241m*\u001b[39m\u001b[38;5;241m2\u001b[39m)\n\u001b[1;32m----> 6\u001b[0m \u001b[38;5;28mprint\u001b[39m(a)\n",
      "\u001b[1;31mTypeError\u001b[0m: 'str' object is not callable"
     ]
    }
   ],
   "source": [
    "# Compute the area of Circle\n",
    "rad = 9\n",
    "pi = 3.142\n",
    "\n",
    "a = pi * (rad * rad)\n",
    "print(a) \n"
   ]
  },
  {
   "cell_type": "code",
   "execution_count": 6,
   "id": "0c32d486-8bda-4ceb-be55-23bd8d857e15",
   "metadata": {},
   "outputs": [
    {
     "name": "stdout",
     "output_type": "stream",
     "text": [
      "<class 'int'>\n"
     ]
    }
   ],
   "source": [
    "z = 9\n",
    "print (type(z))"
   ]
  },
  {
   "cell_type": "code",
   "execution_count": 26,
   "id": "2ab2517a-0f73-43d6-8677-ab55bafc00fc",
   "metadata": {},
   "outputs": [
    {
     "name": "stdout",
     "output_type": "stream",
     "text": [
      "<class 'list'>\n",
      "4.5\n",
      "[24, 'two', 4.5, '@', 'lol']\n",
      "[24, 'two', 4.5, '@', 'lol', 'orange']\n",
      "[24, 'two', 4.5, 'lol', 'orange']\n",
      "['two', 4.5, 'lol', 'orange']\n"
     ]
    }
   ],
   "source": [
    "# LISTS\n",
    "\n",
    "L = [1 , \"two\" , 4.5 , \"@\" ,\"lol\"]\n",
    "# lists are mutable and lists items can be  of any data type and they allow duplicate values.\n",
    "# Getting type of L\n",
    "print (type(L))\n",
    "# Accessing an item in the list  L\n",
    "print (L[2])\n",
    "# to change an item or element in the list\n",
    "L[0] = 24\n",
    "# The above code will change the item at 0th index on the  list and replace it by 24\n",
    "print (L)\n",
    "# Now in order to add element on the List\n",
    "L.insert(24,\"orange\")\n",
    "print(L)\n",
    "# In order to delete any item by index use popfunction\n",
    "L.pop(3)\n",
    "print(L)\n",
    "# In order del item by value use remove function\n",
    "L.remove(24)\n",
    "print(L)\n"
   ]
  },
  {
   "cell_type": "code",
   "execution_count": 28,
   "id": "f01f97c5-a8e7-446a-9df4-6ee5633c06fa",
   "metadata": {},
   "outputs": [
    {
     "name": "stdout",
     "output_type": "stream",
     "text": [
      "(1, 'Ezio', '$', 4.5, 'Hades', 45)\n",
      "<class 'tuple'>\n",
      "6\n",
      "$\n"
     ]
    }
   ],
   "source": [
    "###Tuples\n",
    "# tuples are immmutable and are ordered they can also of any data type and they allow duplicate values\n",
    "\n",
    "T = (1, \"Ezio\", \"$\", 4.5,\"Hades\",45)\n",
    "print (T)\n",
    "\n",
    "print (type(T))\n",
    "# Length of the TUPLE\n",
    "print (len(T))\n",
    "# How to access elements of tuple\n",
    "print (T[2])\n",
    "\n",
    "# WE cannont change delete add a Tuple once it is created\n",
    "       "
   ]
  },
  {
   "cell_type": "code",
   "execution_count": 44,
   "id": "94545713-2dd5-4676-b28b-4c50e10b3373",
   "metadata": {},
   "outputs": [
    {
     "name": "stdout",
     "output_type": "stream",
     "text": [
      "{'Name': 'DAVID', 'age': 17.5, 'Section': 'F', 'DEPT': 'SOFTWAREENGINEERING'}\n",
      "<class 'dict'>\n",
      "4\n",
      "DAVID\n"
     ]
    }
   ],
   "source": [
    "# Dictionary\n",
    "# these are ordered changable and doesnt allow duplicates\n",
    "Stud = {\"Name\":\"DAVID\", \"age\":17.5,\"Section\":\"F\",\"DEPT\":\"SOFTWAREENGINEERING\"}\n",
    "print (Stud)\n",
    "print (type(Stud))\n",
    "\n",
    "# Length of the List\n",
    "print (len(Stud))\n",
    "# How to access elements\n",
    "Stud = Stud[\"Name\"]\n",
    "print (Stud)\n"
   ]
  },
  {
   "cell_type": "code",
   "execution_count": 40,
   "id": "f02e922c-7445-438b-93d7-80428946b7fe",
   "metadata": {},
   "outputs": [
    {
     "name": "stdout",
     "output_type": "stream",
     "text": [
      "{'Name': 'DAVID', 'age': 18, 'Section': 'F', 'DEPT': 'SOFTWAREENGINEERING'}\n"
     ]
    }
   ],
   "source": [
    "# In Order to change a value of key in list in dictionary\n",
    "S = {\"Name\":\"DAVID\", \"age\":17.5,\"Section\":\"F\",\"DEPT\":\"SOFTWAREENGINEERING\"}\n",
    "S[\"age\"]= 18\n",
    "print (S)"
   ]
  },
  {
   "cell_type": "code",
   "execution_count": 48,
   "id": "8a52013c-ebc9-47b1-96cd-547dec0df320",
   "metadata": {},
   "outputs": [
    {
     "name": "stdout",
     "output_type": "stream",
     "text": [
      "{'Name': 'DAVID', 'age': 17.5, 'Section': 'F', 'DEPT': 'SOFTWAREENGINEERING', 'color': 'white'}\n",
      "{'Name': 'DAVID', 'age': 17.5, 'Section': 'F', 'DEPT': 'SOFTWAREENGINEERING'}\n"
     ]
    }
   ],
   "source": [
    "# Add elements\n",
    "S = {\"Name\":\"DAVID\", \"age\":17.5,\"Section\":\"F\",\"DEPT\":\"SOFTWAREENGINEERING\"}\n",
    "S['color'] = 'white'\n",
    "print (S)\n",
    "S.pop('color')\n",
    "print (S)"
   ]
  },
  {
   "cell_type": "code",
   "execution_count": null,
   "id": "8b6345d4-f71a-44ba-9723-7fbadf926822",
   "metadata": {},
   "outputs": [],
   "source": [
    "# Arthematic operators\n",
    "print (9+10) # this is Addition\n",
    "print (9 - 10) # this is subtraciton\n",
    "print (9 * 10) # this is Multiplication\n",
    "print (9 / 10) # this is Division\n",
    "print (9**10) # this is Exponent\n",
    "print (9//10) # this is Floor division\n"
   ]
  },
  {
   "cell_type": "code",
   "execution_count": null,
   "id": "f3d10db5-8491-42ee-a819-45dcc0cb1ac4",
   "metadata": {},
   "outputs": [],
   "source": [
    "# Comparision operators\n",
    "print (9 == 10) # this is Equal ==\n",
    "print (9 != 10) # this is NotEqual !=\n",
    "print (9 > 10) # this is Greater than\n",
    "print (9 < 10) # this is Less then\n",
    "print (9 >= 10) # this is  Greater then equal to\n",
    "print (9 <= 10) # this is Less then equal to\n",
    "\n",
    "# the output will be in BOOLEAN(True or False )\n",
    "# Depending on the condition\n"
   ]
  },
  {
   "cell_type": "code",
   "execution_count": 50,
   "id": "31babfa0-1489-47e9-b88b-d4f07d4eb874",
   "metadata": {},
   "outputs": [
    {
     "name": "stdout",
     "output_type": "stream",
     "text": [
      "True\n",
      "False\n",
      "False\n",
      "False\n"
     ]
    }
   ],
   "source": [
    "# logical Operators\n",
    "# And Operator returns True if both of the statements are true\n",
    "num1 = 2\n",
    "print ( num1 < 3 and num1 > 1)\n",
    "print (not(num1 < 3 and num1 > 1))\n",
    "print ( num1 < 4 and num1 >  3)\n",
    "print ( num1 < 1 and num1 > 1)"
   ]
  },
  {
   "cell_type": "code",
   "execution_count": null,
   "id": "1afddb0d-14b5-40e5-87c9-25774cdb15d7",
   "metadata": {},
   "outputs": [],
   "source": [
    "# Assignment Operators\n",
    "a = 1 # =\n",
    "b += 2 # b = b + 2\n",
    "c -= 3 # c = c - 3\n",
    "d *= 4 # d = d * 4 \n",
    "e /= 5 # e = e / 5\n",
    "f %= 6 # f = f % 6\n",
    "g **= 7 # g =g ** 7\n",
    "\n"
   ]
  },
  {
   "cell_type": "markdown",
   "id": "27fae6f4-58c6-4472-8bb9-6554f6ca0e41",
   "metadata": {},
   "source": [
    "### Operators Precedence Rule\n",
    "Highest precedence rule to lowest precedence rule\n",
    "Parenthesis are always respected\n",
    "Exponentiation (raise to a power)\n",
    "Multiplication, Division, and Remainder\n",
    "Addition and Subtraction\n",
    "Left to right\n",
    "\n"
   ]
  },
  {
   "cell_type": "code",
   "execution_count": 57,
   "id": "4ea670e4-02b4-471b-b0ec-99d2f543ae1e",
   "metadata": {},
   "outputs": [
    {
     "name": "stdout",
     "output_type": "stream",
     "text": [
      "11.0\n",
      "False\n",
      "3.0\n"
     ]
    }
   ],
   "source": [
    "print (1 + 2**3/4 * 5)\n",
    "print (2 * 2 - 3 > 2 or 4 - 2 > 5)\n",
    "print ((2%2) + (2 * 2) - (2/2))"
   ]
  },
  {
   "cell_type": "code",
   "execution_count": null,
   "id": "6358e19d-0e45-4458-b723-a500c2cbff40",
   "metadata": {},
   "outputs": [],
   "source": []
  }
 ],
 "metadata": {
  "kernelspec": {
   "display_name": "Python 3 (ipykernel)",
   "language": "python",
   "name": "python3"
  },
  "language_info": {
   "codemirror_mode": {
    "name": "ipython",
    "version": 3
   },
   "file_extension": ".py",
   "mimetype": "text/x-python",
   "name": "python",
   "nbconvert_exporter": "python",
   "pygments_lexer": "ipython3",
   "version": "3.12.4"
  }
 },
 "nbformat": 4,
 "nbformat_minor": 5
}
