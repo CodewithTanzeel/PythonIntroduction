{
 "cells": [
  {
   "cell_type": "markdown",
   "id": "bbfe9506",
   "metadata": {},
   "source": [
    "#Python OOP Concepts - Simple Examples with Comments\n"
   ]
  },
  {
   "cell_type": "markdown",
   "id": "4925977f",
   "metadata": {},
   "source": [
    " ##Constructor (init method)"
   ]
  },
  {
   "cell_type": "code",
   "execution_count": null,
   "id": "85d2bb93",
   "metadata": {},
   "outputs": [],
   "source": [
    "# Define a class\n",
    "class Dog:\n",
    "    # Constructor (initializer)\n",
    "    def __init__(self, name):\n",
    "        # Instance variable\n",
    "        self.name = name\n",
    "    \n",
    "    # Instance method\n",
    "    def bark(self):\n",
    "        return f\"{self.name} says Woof!\"\n",
    "\n",
    "# Create object (instance of Dog)\n",
    "my_dog = Dog(\"Buddy\")\n",
    "\n",
    "# Access attributes and methods\n",
    "print(my_dog.name)      \n",
    "print(my_dog.bark())    "
   ]
  },
  {
   "cell_type": "markdown",
   "id": "cd5eb25d",
   "metadata": {},
   "source": [
    " ##Constructor (init method)"
   ]
  },
  {
   "cell_type": "code",
   "execution_count": null,
   "id": "dcbc5c24",
   "metadata": {},
   "outputs": [],
   "source": [
    "class Person:\n",
    "    # Constructor with parameters\n",
    "    def __init__(self, name, age):\n",
    "        self.name = name\n",
    "        self.age = age\n",
    "        print(f\"New person created: {name}\")\n",
    "    \n",
    "    def introduce(self):\n",
    "        return f\"Hi, I'm {self.name}, {self.age} years old\"\n",
    "\n",
    "# Create object (constructor runs automatically)\n",
    "person1 = Person(\"Alice\", 25)\n",
    "print(person1.introduce())  "
   ]
  },
  {
   "cell_type": "markdown",
   "id": "c3154510",
   "metadata": {},
   "source": [
    "##Methods (Instance, Class, Static)"
   ]
  },
  {
   "cell_type": "code",
   "execution_count": null,
   "id": "5e8527ae",
   "metadata": {},
   "outputs": [],
   "source": [
    "class Calculator:\n",
    "    # Class variable\n",
    "    PI = 3.14\n",
    "    \n",
    "    # Instance method (requires self)\n",
    "    def add(self, a, b):\n",
    "        return a + b\n",
    "    \n",
    "    # Class method (works with class)\n",
    "    @classmethod\n",
    "    def circle_area(cls, radius):\n",
    "        return cls.PI * (radius ** 2)\n",
    "    \n",
    "    # Static method (no access to self/cls)\n",
    "    @staticmethod\n",
    "    def multiply(a, b):\n",
    "        return a * b\n",
    "\n",
    "# Usage\n",
    "calc = Calculator()\n",
    "print(calc.add(2, 3))               \n",
    "print(Calculator.circle_area(2))   \n",
    "print(Calculator.multiply(4, 5))     "
   ]
  },
  {
   "cell_type": "markdown",
   "id": "cab9e13e",
   "metadata": {},
   "source": [
    "## Polymorphism (Method Overriding)"
   ]
  },
  {
   "cell_type": "code",
   "execution_count": null,
   "id": "dd26387e",
   "metadata": {},
   "outputs": [],
   "source": [
    "class Bird:\n",
    "    def fly(self):\n",
    "        return \"Flying high!\"\n",
    "    \n",
    "class Penguin(Bird):\n",
    "    # Override parent method\n",
    "    def fly(self):\n",
    "        return \"Sorry, I can't fly!\"\n",
    "\n",
    "# Same method name, different behaviors\n",
    "birds = [Bird(), Penguin()]\n",
    "for bird in birds:\n",
    "    print(bird.fly())\n",
    "# Output: \n",
    "# Flying high!\n",
    "# Sorry, I can't fly!"
   ]
  },
  {
   "cell_type": "markdown",
   "id": "3a58b773",
   "metadata": {},
   "source": [
    "##Abstract Class (Interface-like)"
   ]
  },
  {
   "cell_type": "code",
   "execution_count": null,
   "id": "5a3a4802",
   "metadata": {},
   "outputs": [],
   "source": [
    "from abc import ABC, abstractmethod\n",
    "\n",
    "# Abstract base class\n",
    "class Shape(ABC):\n",
    "    @abstractmethod\n",
    "    def area(self):\n",
    "        pass\n",
    "    \n",
    "    @abstractmethod\n",
    "    def perimeter(self):\n",
    "        pass\n",
    "\n",
    "# Concrete class implementing Shape\n",
    "class Square(Shape):\n",
    "    def __init__(self, side):\n",
    "        self.side = side\n",
    "    \n",
    "    def area(self):\n",
    "        return self.side ** 2\n",
    "    \n",
    "    def perimeter(self):\n",
    "        return 4 * self.side\n",
    "\n",
    "# Can't instantiate abstract class\n",
    "# shape = Shape()  # Error!\n",
    "\n",
    "square = Square(5)\n",
    "print(square.area())       # 25\n",
    "print(square.perimeter())  # 20"
   ]
  },
  {
   "cell_type": "markdown",
   "id": "4ac4cc43",
   "metadata": {},
   "source": [
    " ##Composition"
   ]
  },
  {
   "cell_type": "code",
   "execution_count": null,
   "id": "7fd89c1a",
   "metadata": {},
   "outputs": [],
   "source": [
    "# Component class\n",
    "class Engine:\n",
    "    def start(self):\n",
    "        return \"Engine started\"\n",
    "\n",
    "# Main class using composition\n",
    "class Car:\n",
    "    def __init__(self):\n",
    "        # Car has-an Engine (composition)\n",
    "        self.engine = Engine()\n",
    "    \n",
    "    def start(self):\n",
    "        # Delegates to Engine's start()\n",
    "        return self.engine.start()\n",
    "\n",
    "my_car = Car()\n",
    "print(my_car.start())  "
   ]
  },
  {
   "cell_type": "markdown",
   "id": "96298da9",
   "metadata": {},
   "source": [
    "##Multiple Inheritance"
   ]
  },
  {
   "cell_type": "code",
   "execution_count": null,
   "id": "761a7869",
   "metadata": {},
   "outputs": [],
   "source": [
    "class Father:\n",
    "    def skills(self):\n",
    "        return \"Programming, Cooking\"\n",
    "\n",
    "class Mother:\n",
    "    def skills(self):\n",
    "        return \"Art, Music\"\n",
    "\n",
    "class Child(Father, Mother):\n",
    "    def skills(self):\n",
    "        # Get skills from both parents\n",
    "        dad_skills = super().skills()\n",
    "        mom_skills = Mother.skills(self)\n",
    "        return f\"{dad_skills}, {mom_skills}, Sports\"\n",
    "\n",
    "child = Child()\n",
    "print(child.skills())\n",
    "# Output: Programming, Cooking, Art, Music, Sports"
   ]
  },
  {
   "cell_type": "markdown",
   "id": "e34bdd07",
   "metadata": {},
   "source": [
    "##Encapsulation (Private Variables)"
   ]
  },
  {
   "cell_type": "code",
   "execution_count": null,
   "id": "8c34b742",
   "metadata": {},
   "outputs": [],
   "source": [
    "class BankAccount:\n",
    "    def __init__(self, balance):\n",
    "        # Private variable (convention)\n",
    "        self.__balance = balance\n",
    "    \n",
    "    def deposit(self, amount):\n",
    "        self.__balance += amount\n",
    "    \n",
    "    def get_balance(self):\n",
    "        return self.__balance\n",
    "\n",
    "account = BankAccount(1000)\n",
    "account.deposit(500)\n",
    "# print(account.__balance) \n",
    "print(account.get_balance())  "
   ]
  },
  {
   "cell_type": "markdown",
   "id": "b027d883",
   "metadata": {},
   "source": [
    "##Magic Methods (Dunder Methods)"
   ]
  },
  {
   "cell_type": "code",
   "execution_count": null,
   "id": "63862349",
   "metadata": {},
   "outputs": [],
   "source": [
    "class Book:\n",
    "    def __init__(self, title, pages):\n",
    "        self.title = title\n",
    "        self.pages = pages\n",
    "    \n",
    "    # String representation\n",
    "    def __str__(self):\n",
    "        return f\"'{self.title}' ({self.pages} pages)\"\n",
    "    \n",
    "    # Length implementation\n",
    "    def __len__(self):\n",
    "        return self.pages\n",
    "\n",
    "book = Book(\"Python Basics\", 200)\n",
    "print(book)      \n",
    "print(len(book)) "
   ]
  },
  {
   "cell_type": "markdown",
   "id": "1e16e811",
   "metadata": {},
   "source": [
    "##Class vs Interface (Abstract Class)"
   ]
  },
  {
   "cell_type": "code",
   "execution_count": null,
   "id": "77aa0abc",
   "metadata": {},
   "outputs": [],
   "source": [
    "class Dog:\n",
    "    def bark(self):\n",
    "        return \"Woof!\"\n",
    "    \n",
    "my_dog = Dog()\n",
    "print(my_dog.bark())  # Output: Woof!"
   ]
  },
  {
   "cell_type": "markdown",
   "id": "5e85995f",
   "metadata": {},
   "source": [
    "Interface (Abstract Class)"
   ]
  },
  {
   "cell_type": "code",
   "execution_count": null,
   "id": "3acc540b",
   "metadata": {},
   "outputs": [],
   "source": [
    "from abc import ABC, abstractmethod\n",
    "\n",
    "class Animal(ABC):  # Interface (Abstract Base Class)\n",
    "    @abstractmethod\n",
    "    def make_sound(self):\n",
    "        pass  # No implementation\n",
    "    \n",
    "class Cat(Animal):\n",
    "    def make_sound(self):  # Must implement\n",
    "        return \"Meow!\"\n",
    "\n",
    "# animal = Animal()  # Error: Can't instantiate abstract class\n",
    "my_cat = Cat()\n",
    "print(my_cat.make_sound())  "
   ]
  },
  {
   "cell_type": "markdown",
   "id": "5f62562d",
   "metadata": {},
   "source": [
    "##Constructor Overriding"
   ]
  },
  {
   "cell_type": "code",
   "execution_count": null,
   "id": "14c49f0e",
   "metadata": {},
   "outputs": [],
   "source": [
    "class Vehicle:\n",
    "    def __init__(self):\n",
    "        print(\"Vehicle created\")\n",
    "    \n",
    "class Car(Vehicle):\n",
    "    def __init__(self):\n",
    "        super().__init__()  # Calls parent's constructor\n",
    "        print(\"Car created\")\n",
    "\n",
    "car = Car()\n"
   ]
  },
  {
   "cell_type": "markdown",
   "id": "0fb83c3f",
   "metadata": {},
   "source": [
    "##Method Overriding"
   ]
  },
  {
   "cell_type": "code",
   "execution_count": null,
   "id": "4971f1c5",
   "metadata": {},
   "outputs": [],
   "source": [
    "class Bird:\n",
    "    def fly(self):\n",
    "        return \"Flying high!\"\n",
    "    \n",
    "class Penguin(Bird):\n",
    "    def fly(self):  # Overrides parent method\n",
    "        return \"I can't fly!\"\n",
    "\n",
    "sparrow = Bird()\n",
    "penguin = Penguin()\n",
    "\n",
    "print(sparrow.fly())  \n",
    "print(penguin.fly())  "
   ]
  }
 ],
 "metadata": {
  "language_info": {
   "name": "python"
  }
 },
 "nbformat": 4,
 "nbformat_minor": 5
}
