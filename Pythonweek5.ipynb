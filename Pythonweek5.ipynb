{
 "cells": [
  {
   "cell_type": "markdown",
   "id": "cb33d934-8d90-4157-b71b-12f9f841f843",
   "metadata": {},
   "source": [
    "### **Source Code Example**\n",
    "Here’s an example of source code written in C:\n",
    "\n",
    "```c\n",
    "#include <stdio.h>\n",
    "\n",
    "int main() {\n",
    "    printf(\"Hello, World!\\n\");\n",
    "    return 0;\n",
    "}\n",
    "```\n",
    "This code is written by a programmer in human-readable format and needs to be compiled.\n",
    "\n",
    "---\n",
    "\n",
    "### **Object Code Example**\n",
    "After the source code is compiled, it is transformed into object code, which looks something like this (in binary or machine-readable format):\n",
    "\n",
    "```\n",
    "01101000 10010101 01101100 10101010 ...\n",
    "```\n",
    "\n",
    "Or in assembly-like format:\n",
    "\n",
    "```\n",
    "MOV AX, 4C00h\n",
    "INT 21h\n",
    "```\n",
    "\n",
    "This object code is not meant to be directly edited by humans. It’s used by the computer to execute the program."
   ]
  },
  {
   "cell_type": "markdown",
   "id": "2b1b9d17-57db-4726-87ef-2cb975f90bdd",
   "metadata": {},
   "source": [
    "The `flush()` function in Python makes sure data is immediately sent to where it needs to go, like a file or the screen. Normally, Python waits and sends data later to save time, but `flush()` skips the wait.\n",
    "\n",
    "### Easy Example with a File\n",
    "\n",
    "```python\n",
    "with open('example.txt', 'w') as file:\n",
    "    file.write(\"Hello, \")\n",
    "    file.flush()  # Saves \"Hello, \" to the file immediately\n",
    "    file.write(\"World!\")\n",
    "```\n",
    "\n",
    "Here:\n",
    "- **Without `flush()`:** Python might wait before saving \"Hello, \".\n",
    "- **With `flush()`:** \"Hello, \" is saved to the file right away."
   ]
  },
  {
   "cell_type": "code",
   "execution_count": null,
   "id": "b52bd294-16c1-4949-8bcb-7eaad814365f",
   "metadata": {},
   "outputs": [],
   "source": []
  }
 ],
 "metadata": {
  "kernelspec": {
   "display_name": "Python 3 (ipykernel)",
   "language": "python",
   "name": "python3"
  },
  "language_info": {
   "codemirror_mode": {
    "name": "ipython",
    "version": 3
   },
   "file_extension": ".py",
   "mimetype": "text/x-python",
   "name": "python",
   "nbconvert_exporter": "python",
   "pygments_lexer": "ipython3",
   "version": "3.12.4"
  }
 },
 "nbformat": 4,
 "nbformat_minor": 5
}
