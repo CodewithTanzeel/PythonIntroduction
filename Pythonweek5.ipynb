{
 "cells": [
  {
   "cell_type": "markdown",
   "id": "cb33d934-8d90-4157-b71b-12f9f841f843",
   "metadata": {},
   "source": [
    "### **Source Code Example**\n",
    "Here’s an example of source code written in C:\n",
    "\n",
    "```c\n",
    "#include <stdio.h>\n",
    "\n",
    "int main() {\n",
    "    printf(\"Hello, World!\\n\");\n",
    "    return 0;\n",
    "}\n",
    "```\n",
    "This code is written by a programmer in human-readable format and needs to be compiled.\n",
    "\n",
    "---\n",
    "\n",
    "### **Object Code Example**\n",
    "After the source code is compiled, it is transformed into object code, which looks something like this (in binary or machine-readable format):\n",
    "\n",
    "```\n",
    "01101000 10010101 01101100 10101010 ...\n",
    "```\n",
    "\n",
    "Or in assembly-like format:\n",
    "\n",
    "```\n",
    "MOV AX, 4C00h\n",
    "INT 21h\n",
    "```\n",
    "\n",
    "This object code is not meant to be directly edited by humans. It’s used by the computer to execute the program."
   ]
  },
  {
   "cell_type": "markdown",
   "id": "2b1b9d17-57db-4726-87ef-2cb975f90bdd",
   "metadata": {},
   "source": [
    "The `flush()` function in Python makes sure data is immediately sent to where it needs to go, like a file or the screen. Normally, Python waits and sends data later to save time, but `flush()` skips the wait.\n",
    "\n",
    "### Easy Example with a File\n",
    "\n",
    "```python\n",
    "with open('example.txt', 'w') as file:\n",
    "    file.write(\"Hello, \")\n",
    "    file.flush()  # Saves \"Hello, \" to the file immediately\n",
    "    file.write(\"World!\")\n",
    "```\n",
    "\n",
    "Here:\n",
    "- **Without `flush()`:** Python might wait before saving \"Hello, \".\n",
    "- **With `flush()`:** \"Hello, \" is saved to the file right away."
   ]
  },
  {
   "cell_type": "code",
   "execution_count": 4,
   "id": "b52bd294-16c1-4949-8bcb-7eaad814365f",
   "metadata": {},
   "outputs": [
    {
     "name": "stdout",
     "output_type": "stream",
     "text": [
      "0 x 1 = 0\n",
      "0 x 2 = 0\n",
      "0 x 3 = 0\n",
      "0 x 4 = 0\n",
      "0 x 5 = 0\n",
      "0 x 6 = 0\n",
      "0 x 7 = 0\n",
      "0 x 8 = 0\n",
      "0 x 9 = 0\n",
      "0 x 10 = 0\n",
      "\n",
      "1 x 1 = 1\n",
      "1 x 2 = 2\n",
      "1 x 3 = 3\n",
      "1 x 4 = 4\n",
      "1 x 5 = 5\n",
      "1 x 6 = 6\n",
      "1 x 7 = 7\n",
      "1 x 8 = 8\n",
      "1 x 9 = 9\n",
      "1 x 10 = 10\n",
      "\n",
      "2 x 1 = 2\n",
      "2 x 2 = 4\n",
      "2 x 3 = 6\n",
      "2 x 4 = 8\n",
      "2 x 5 = 10\n",
      "2 x 6 = 12\n",
      "2 x 7 = 14\n",
      "2 x 8 = 16\n",
      "2 x 9 = 18\n",
      "2 x 10 = 20\n",
      "\n",
      "3 x 1 = 3\n",
      "3 x 2 = 6\n",
      "3 x 3 = 9\n",
      "3 x 4 = 12\n",
      "3 x 5 = 15\n",
      "3 x 6 = 18\n",
      "3 x 7 = 21\n",
      "3 x 8 = 24\n",
      "3 x 9 = 27\n",
      "3 x 10 = 30\n",
      "\n",
      "4 x 1 = 4\n",
      "4 x 2 = 8\n",
      "4 x 3 = 12\n",
      "4 x 4 = 16\n",
      "4 x 5 = 20\n",
      "4 x 6 = 24\n",
      "4 x 7 = 28\n",
      "4 x 8 = 32\n",
      "4 x 9 = 36\n",
      "4 x 10 = 40\n",
      "\n"
     ]
    }
   ],
   "source": [
    "for i in range(0,5):\n",
    "    for j in  range(1,11):\n",
    "     print(i,\"x\",j,\"=\",i * j)\n",
    "    print() "
   ]
  },
  {
   "cell_type": "code",
   "execution_count": 6,
   "id": "c4e74a7c-2207-49a6-b33a-496c87728bb2",
   "metadata": {},
   "outputs": [
    {
     "name": "stdout",
     "output_type": "stream",
     "text": [
      "**********\n",
      "**********\n"
     ]
    }
   ],
   "source": [
    "i = 1\n",
    "while i < 3:\n",
    "    j = 1\n",
    "    while j < 11:\n",
    "        print(\"*\", end=\"\")\n",
    "        j+=1\n",
    "    print()\n",
    "    i+=1\n",
    "    "
   ]
  },
  {
   "cell_type": "code",
   "execution_count": 14,
   "id": "a59e6b50-273c-43d4-b793-b0b3a146adae",
   "metadata": {},
   "outputs": [
    {
     "name": "stdout",
     "output_type": "stream",
     "text": [
      "i = 1 j = 1\n",
      "i = 1 j = 2\n",
      "i = 1 j = 3\n",
      "i = 2 j = 1\n",
      "i = 2 j = 2\n",
      "i = 2 j = 3\n",
      "i = 3 j = 1\n",
      "i = 3 j = 2\n",
      "i = 3 j = 3\n",
      "i = 4 j = 1\n",
      "i = 4 j = 2\n",
      "i = 4 j = 3\n"
     ]
    }
   ],
   "source": [
    "for i in range(1,5):\n",
    "    for j in range(1,4):\n",
    "        print(\"i =\" , i, \"j =\",j)"
   ]
  },
  {
   "cell_type": "code",
   "execution_count": null,
   "id": "c6fb98ad-96f2-4607-a3b1-7e44d041dda3",
   "metadata": {},
   "outputs": [],
   "source": [
    " while i <=  5 :\n",
    "     j = 1\n",
    "     print(\"*\",end=\"\")\n",
    "     j += 1\n",
    "print()"
   ]
  },
  {
   "cell_type": "code",
   "execution_count": null,
   "id": "50ca4590-dae1-4a2d-94d4-3ae222ce8190",
   "metadata": {},
   "outputs": [],
   "source": [
    "while i <= 5:\n",
    "    j = 1\n",
    "    while j <= i:\n",
    "        print(i,end=\"\")\n",
    "        j+=1\n",
    "print()\n",
    "i+=1"
   ]
  },
  {
   "cell_type": "code",
   "execution_count": null,
   "id": "6e42c03c-d5a3-408d-8603-fd8f42c9f33d",
   "metadata": {},
   "outputs": [],
   "source": []
  }
 ],
 "metadata": {
  "kernelspec": {
   "display_name": "Python 3 (ipykernel)",
   "language": "python",
   "name": "python3"
  },
  "language_info": {
   "codemirror_mode": {
    "name": "ipython",
    "version": 3
   },
   "file_extension": ".py",
   "mimetype": "text/x-python",
   "name": "python",
   "nbconvert_exporter": "python",
   "pygments_lexer": "ipython3",
   "version": "3.12.4"
  }
 },
 "nbformat": 4,
 "nbformat_minor": 5
}
