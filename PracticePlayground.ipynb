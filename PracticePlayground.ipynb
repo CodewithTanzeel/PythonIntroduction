{
 "cells": [
  {
   "cell_type": "code",
   "execution_count": 8,
   "id": "7929b367-4e68-402a-98e4-706c50fde716",
   "metadata": {},
   "outputs": [
    {
     "name": "stdout",
     "output_type": "stream",
     "text": [
      "97\n",
      "65\n"
     ]
    }
   ],
   "source": [
    "print(ord(\"a\"))\n",
    "print(ord(\"A\"))\n"
   ]
  },
  {
   "cell_type": "code",
   "execution_count": 10,
   "id": "417eaa5d-fe91-4e0f-9e19-c2cfea157aee",
   "metadata": {},
   "outputs": [
    {
     "name": "stdout",
     "output_type": "stream",
     "text": [
      "a\n",
      "A\n",
      "B\n"
     ]
    }
   ],
   "source": [
    "print(chr(97))\n",
    "print(chr(65))\n",
    "print(chr(66))"
   ]
  },
  {
   "cell_type": "code",
   "execution_count": 18,
   "id": "431e842d-24f3-42f0-9a4a-0c1004f24edf",
   "metadata": {},
   "outputs": [
    {
     "name": "stdout",
     "output_type": "stream",
     "text": [
      "<class 'str'>\n",
      "\n"
     ]
    }
   ],
   "source": [
    "#string\n",
    "s=str()\n",
    "print(type(s))\n",
    "print(s)\n"
   ]
  },
  {
   "cell_type": "code",
   "execution_count": 35,
   "id": "9c7fc538-de72-488c-b780-f9d4d5817a5a",
   "metadata": {},
   "outputs": [
    {
     "name": "stdout",
     "output_type": "stream",
     "text": [
      "  bc\n",
      " \n",
      "6 8\n",
      "  b\n"
     ]
    }
   ],
   "source": [
    "#string\n",
    "a=\"  bc\"\n",
    "b=\" 6 8 7\"\n",
    "print(a)\n",
    "print(a[0])\n",
    "print(b[1:4])\n",
    "print(a[0:3])\n",
    "\n"
   ]
  },
  {
   "cell_type": "code",
   "execution_count": 47,
   "id": "6857934c-b363-4dc4-8ad1-789d8d3b00a2",
   "metadata": {},
   "outputs": [
    {
     "name": "stdout",
     "output_type": "stream",
     "text": [
      "42\n"
     ]
    }
   ],
   "source": [
    "# import sys\n",
    "# a=\" \"\n",
    "# # a=[]\n",
    "# size_a=sys.getsizeof(a)\n",
    "# # size_b=sys.getsizeof(b)\n",
    "# print(size_a)\n",
    "# # print(size_b)"
   ]
  },
  {
   "cell_type": "code",
   "execution_count": null,
   "id": "1a0c7c7c-ec1e-4ed4-b1f7-7abcefefaf26",
   "metadata": {},
   "outputs": [],
   "source": []
  }
 ],
 "metadata": {
  "kernelspec": {
   "display_name": "Python 3 (ipykernel)",
   "language": "python",
   "name": "python3"
  },
  "language_info": {
   "codemirror_mode": {
    "name": "ipython",
    "version": 3
   },
   "file_extension": ".py",
   "mimetype": "text/x-python",
   "name": "python",
   "nbconvert_exporter": "python",
   "pygments_lexer": "ipython3",
   "version": "3.12.4"
  }
 },
 "nbformat": 4,
 "nbformat_minor": 5
}
