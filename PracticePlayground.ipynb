{
 "cells": [
  {
   "cell_type": "code",
   "execution_count": 8,
   "id": "7929b367-4e68-402a-98e4-706c50fde716",
   "metadata": {},
   "outputs": [
    {
     "name": "stdout",
     "output_type": "stream",
     "text": [
      "97\n",
      "65\n"
     ]
    }
   ],
   "source": [
    "print(ord(\"a\"))\n",
    "print(ord(\"A\"))\n"
   ]
  },
  {
   "cell_type": "code",
   "execution_count": 10,
   "id": "417eaa5d-fe91-4e0f-9e19-c2cfea157aee",
   "metadata": {},
   "outputs": [
    {
     "name": "stdout",
     "output_type": "stream",
     "text": [
      "a\n",
      "A\n",
      "B\n"
     ]
    }
   ],
   "source": [
    "print(chr(97))\n",
    "print(chr(65))\n",
    "print(chr(66))"
   ]
  },
  {
   "cell_type": "code",
   "execution_count": 18,
   "id": "431e842d-24f3-42f0-9a4a-0c1004f24edf",
   "metadata": {},
   "outputs": [
    {
     "name": "stdout",
     "output_type": "stream",
     "text": [
      "<class 'str'>\n",
      "\n"
     ]
    }
   ],
   "source": [
    "#string\n",
    "s=str()\n",
    "print(type(s))\n",
    "print(s)\n"
   ]
  },
  {
   "cell_type": "code",
   "execution_count": 35,
   "id": "9c7fc538-de72-488c-b780-f9d4d5817a5a",
   "metadata": {},
   "outputs": [
    {
     "name": "stdout",
     "output_type": "stream",
     "text": [
      "  bc\n",
      " \n",
      "6 8\n",
      "  b\n"
     ]
    }
   ],
   "source": [
    "#string\n",
    "a=\"  bc\"\n",
    "b=\" 6 8 7\"\n",
    "print(a)\n",
    "print(a[0])\n",
    "print(b[1:4])\n",
    "print(a[0:3])\n",
    "\n"
   ]
  },
  {
   "cell_type": "code",
   "execution_count": 47,
   "id": "6857934c-b363-4dc4-8ad1-789d8d3b00a2",
   "metadata": {},
   "outputs": [
    {
     "name": "stdout",
     "output_type": "stream",
     "text": [
      "42\n"
     ]
    }
   ],
   "source": [
    "# import sys\n",
    "# a=\" \"\n",
    "# # a=[]\n",
    "# size_a=sys.getsizeof(a)\n",
    "# # size_b=sys.getsizeof(b)\n",
    "# print(size_a)\n",
    "# # print(size_b)"
   ]
  },
  {
   "cell_type": "code",
   "execution_count": 31,
   "id": "1a0c7c7c-ec1e-4ed4-b1f7-7abcefefaf26",
   "metadata": {},
   "outputs": [
    {
     "name": "stdout",
     "output_type": "stream",
     "text": [
      "Dear Davidyou are invited!\n",
      "Dear Jhonyou are invited!\n",
      "Dear Celion Dionyou are invited!\n",
      "Dear jimyou are invited!\n"
     ]
    }
   ],
   "source": [
    "invite_list = ['David','Jhon','Celion Dion','jim']\n",
    "print(f\"Dear {invites[0]}you are invited!\")\n",
    "print(f\"Dear {invites[1]}you are invited!\")\n",
    "print(f\"Dear {invites[2]}you are invited!\")\n",
    "print(f\"Dear {invites[3]}you are invited!\")\n",
    "    "
   ]
  },
  {
   "cell_type": "code",
   "execution_count": 65,
   "id": "af40e371-5b10-4431-9a48-a369102488ba",
   "metadata": {},
   "outputs": [
    {
     "name": "stdout",
     "output_type": "stream",
     "text": [
      "Celion Dion wil not make it to party\n",
      "Dear David you are invited!\n",
      "Dear Jhon you are invited!\n",
      "Dear ray you are invited!\n",
      "Dear jim you are invited!\n",
      "['David', 'Jhon', 'ray', 'jim']\n",
      "More space avialable for max three guests\n",
      "['ginger', 'David', 'Jhon', 'Raj', 'ray', 'jim', 'James']\n",
      "Dear ginger you are invited at dinner!\n",
      "Dear David you are invited at dinner!\n",
      "Dear Jhon you are invited at dinner!\n",
      "Dear Raj you are invited at dinner!\n",
      "Dear ray you are invited at dinner!\n",
      "Dear jim you are invited at dinner!\n",
      "Dear James you are invited at dinner!\n"
     ]
    }
   ],
   "source": [
    "invite_list = ['David','Jhon','Celion Dion','jim']\n",
    "print(f\"{invite_list[2]} wil not make it to party\")\n",
    "invite_list[2]= \"ray\"\n",
    "\n",
    "print(f\"Dear {invite_list[0]} you are invited!\")\n",
    "print(f\"Dear {invite_list[1]} you are invited!\")\n",
    "print(f\"Dear {invite_list[2]} you are invited!\")\n",
    "print(f\"Dear {invite_list[3]} you are invited!\")\n",
    "\n",
    "\n",
    "print(invite_list)\n",
    "print(\"More space avialable for max three guests\")\n",
    "invite_list.insert(0,\"ginger\")\n",
    "invite_list.insert(3,\"Raj\")\n",
    "invite_list.append(\"James\")\n",
    "print(invite_list)\n",
    "print(f\"Dear {invite_list[0]} you are invited at dinner!\")\n",
    "print(f\"Dear {invite_list[1]} you are invited at dinner!\")\n",
    "print(f\"Dear {invite_list[2]} you are invited at dinner!\")\n",
    "print(f\"Dear {invite_list[3]} you are invited at dinner!\")\n",
    "print(f\"Dear {invite_list[4]} you are invited at dinner!\")\n",
    "print(f\"Dear {invite_list[5]} you are invited at dinner!\")\n",
    "print(f\"Dear {invite_list[6]} you are invited at dinner!\")\n",
    "\n"
   ]
  },
  {
   "cell_type": "code",
   "execution_count": null,
   "id": "d33f22ae-9708-46b6-a4f1-6d693c7a7481",
   "metadata": {},
   "outputs": [],
   "source": []
  }
 ],
 "metadata": {
  "kernelspec": {
   "display_name": "Python 3 (ipykernel)",
   "language": "python",
   "name": "python3"
  },
  "language_info": {
   "codemirror_mode": {
    "name": "ipython",
    "version": 3
   },
   "file_extension": ".py",
   "mimetype": "text/x-python",
   "name": "python",
   "nbconvert_exporter": "python",
   "pygments_lexer": "ipython3",
   "version": "3.12.4"
  }
 },
 "nbformat": 4,
 "nbformat_minor": 5
}
