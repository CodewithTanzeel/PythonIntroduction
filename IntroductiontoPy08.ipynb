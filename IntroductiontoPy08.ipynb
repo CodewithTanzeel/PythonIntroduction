{
 "cells": [
  {
   "cell_type": "markdown",
   "id": "f604e00b-4750-4d22-b867-d6b2a415b0ff",
   "metadata": {},
   "source": [
    "\n",
    "Iteration, Repetition, Loops"
   ]
  },
  {
   "cell_type": "markdown",
   "id": "caebc074-56e5-47de-894a-e1aaf7ca8b17",
   "metadata": {},
   "source": [
    "Sometimes, you want to do things more than once"
   ]
  },
  {
   "cell_type": "code",
   "execution_count": null,
   "id": "a0a0768b-c7b1-40a2-9e16-721d476d9cc4",
   "metadata": {},
   "outputs": [],
   "source": [
    "print ('Put suger in')\n",
    "print ('Put milk in')\n",
    "print ('Put tea leaves in')"
   ]
  },
  {
   "cell_type": "markdown",
   "id": "56d92852-c3f1-4fb6-8208-d3b563fc6f3e",
   "metadata": {},
   "source": [
    "However, thats a lot fo wastage of our time, \"A good programmer is always a lazy programmer\""
   ]
  },
  {
   "cell_type": "code",
   "execution_count": null,
   "id": "636c14fa-22b0-4772-860b-953fdc034841",
   "metadata": {},
   "outputs": [],
   "source": [
    "for ingredient in 'sugar', 'milk', 'tea leaves': \n",
    "    print (\"Put\", ingredient, '.')\n",
    "    "
   ]
  },
  {
   "cell_type": "markdown",
   "id": "b36ea601-a335-4bb2-9d6e-096844efeb92",
   "metadata": {},
   "source": [
    "\n",
    "Let's see this in the tutor first.\r\n",
    "\r\n",
    "This is a compound statement that \"loops\" over the body. This particular type, surprisingly, is termed as the \"for loop\". It knows how many times we have to run the loop."
   ]
  },
  {
   "cell_type": "code",
   "execution_count": null,
   "id": "c2c4ec29-48ad-4e77-8368-61f2c1d2222d",
   "metadata": {},
   "outputs": [],
   "source": [
    "for i in range(2, 10):   # loop over a few numbers \n",
    "    \n",
    "    if i % 5 == 0: \n",
    "        break \n",
    "        \n",
    "    print (i) \n",
    "\n",
    "        \n",
    "print (\"done\")\n"
   ]
  },
  {
   "cell_type": "markdown",
   "id": "01f3077c-2450-4661-8032-0a5a722ba0d3",
   "metadata": {},
   "source": [
    "Sometimes, we don't know how many times to run the loop ...\n",
    "\n",
    "... but we do know when to stop. This is called the \"while loop\". \n",
    "\n",
    "For example, we want to print all multiples of 0.13 from 0 to 1. But we don't know how many of those there are. "
   ]
  },
  {
   "cell_type": "code",
   "execution_count": 6,
   "id": "68d1b0a5-01f2-4048-9124-4f281672b8de",
   "metadata": {},
   "outputs": [
    {
     "name": "stdout",
     "output_type": "stream",
     "text": [
      "0.14\n",
      "0.28\n",
      "0.42000000000000004\n",
      "0.56\n",
      "0.7000000000000001\n",
      "0.8400000000000001\n",
      "0.9800000000000001\n",
      "1.12\n",
      "done\n"
     ]
    }
   ],
   "source": [
    "n = 0.14\n",
    "\n",
    "while n < 1 :\n",
    "    print (n)\n",
    "    n = n +0.14\n",
    "\n",
    "print (n)\n",
    "print ('done')\n",
    "\n",
    "    "
   ]
  },
  {
   "cell_type": "markdown",
   "id": "87a415e2-e659-4cc6-9d16-f5a1db090f45",
   "metadata": {},
   "source": [
    "\n",
    "Back to the Visualizer"
   ]
  },
  {
   "cell_type": "code",
   "execution_count": null,
   "id": "d05b4811-4151-4a41-ac48-8ac9db230e45",
   "metadata": {},
   "outputs": [],
   "source": [
    "# we can also count how many there were by saving the count\n",
    "n = 0.13 \n",
    "i = 0         # our counter \n",
    "\n",
    "while n < 1: \n",
    "    i = i + 1\n",
    "    print (n) \n",
    "    n = n + 0.13 \n",
    "\n",
    "print (i) \n",
    "print ('Done.')"
   ]
  },
  {
   "cell_type": "markdown",
   "id": "c2e836b5-07f8-4db5-b471-fa99c6bc78d5",
   "metadata": {},
   "source": [
    "### Factorial"
   ]
  },
  {
   "cell_type": "markdown",
   "id": "208f3b60-2cdb-4918-a204-474c62e10722",
   "metadata": {},
   "source": [
    "Factorial is a useful function .(it is used to calculate sin. cos and several series as well as to calculate number of permutations etc.)\n",
    "Factorial of a number is the multiplication of all integers up to that number.\n",
    "For example,\n",
    "  \n",
    "$$\\text{fact}(4) = 4 \\times 3 \\times 2 \\times 1 = 24$$\n",
    "\n"
   ]
  },
  {
   "cell_type": "markdown",
   "id": "6cf5f739-595a-45a0-a817-b8a803c47c0d",
   "metadata": {},
   "source": [
    "Let's move to the slides to see how we want to formalize this problem. "
   ]
  },
  {
   "cell_type": "code",
   "execution_count": null,
   "id": "28dd49c6-6711-46cd-b7e2-7af10a2132e8",
   "metadata": {},
   "outputs": [],
   "source": [
    "fac = 1    # typically, the iteration variable is called i or j or k \n",
    "\n",
    "i = 1 \n",
    "\n",
    "while i <= 4 : \n",
    "    fac = fac * i\n",
    "    i = i + 1 \n",
    "    \n",
    "print (fac)"
   ]
  },
  {
   "cell_type": "markdown",
   "id": "d7c6de0a-b866-4faa-9ab6-288efb92b3f9",
   "metadata": {},
   "source": [
    "## Reading Assignment \n",
    "\n",
    "* Section *2.4 Iteration* from the Guttag's python book. "
   ]
  },
  {
   "cell_type": "markdown",
   "id": "44eb4cb3-8738-43fe-bad2-4716743948ff",
   "metadata": {},
   "source": [
    "### Fibonacci Numbers\n",
    "\n",
    "Fibonacci numbers are quite useful. Here's what they look like: $ 0, 1, 1, 2, 3, 5, 8, 13, 21, \\ldots $\n",
    "\n",
    "$ \\textrm{fib}(0) = 0 $ \n",
    "\n",
    "$ \\textrm{fib}(1) = 1 $ \n",
    "\n",
    "$ \\textrm{fib}(n) = \\textrm{fib}(n-1) + \\textrm{fib}(n-2) $ \n",
    "\n",
    "What good are those, you ask? "
   ]
  },
  {
   "cell_type": "code",
   "execution_count": null,
   "id": "5469a009-d97e-4314-89f2-d685c6ad48ee",
   "metadata": {},
   "outputs": [],
   "source": [
    "def fib(n): \n",
    "    if n == 0 or n == 1 :\n",
    "        return n \n",
    "    \n",
    "    else: \n",
    "        return fib(n-1) + fib(n-2)"
   ]
  },
  {
   "cell_type": "code",
   "execution_count": null,
   "id": "37f7e690-63b7-4ffc-866f-1947c7e348d0",
   "metadata": {},
   "outputs": [],
   "source": [
    "fib(20)   # Let's also try 2, 3, 5, 7, 10"
   ]
  },
  {
   "cell_type": "code",
   "execution_count": null,
   "id": "1e03cbdb-369d-42b9-a40d-fb41e5cf6824",
   "metadata": {},
   "outputs": [],
   "source": [
    "Let's see `v = fib(3)` in tutor but let's split the return into `a` and `b`."
   ]
  },
  {
   "cell_type": "markdown",
   "id": "c49b8b42-f33f-4d7d-977c-76883df30277",
   "metadata": {},
   "source": [
    "%time fib(37)  # this will take a bit of time (but let's fix that later)"
   ]
  },
  {
   "cell_type": "code",
   "execution_count": null,
   "id": "0b8348b7-e2b9-439f-bc19-7f941d852deb",
   "metadata": {},
   "outputs": [],
   "source": [
    "def fibnew(n): \n",
    "    if n <= 1: return n \n",
    " \n",
    "    a, b = 0, 1 \n",
    "    \n",
    "    for i in range(1, 8):\n",
    "        a, b = b, a + b\n",
    "        \n",
    "    return a"
   ]
  },
  {
   "cell_type": "code",
   "execution_count": null,
   "id": "7e664431-095d-439a-b4e3-032d26c1f573",
   "metadata": {},
   "outputs": [],
   "source": [
    "0  1  1   2  3  5  8  13  21\n",
    "                      a    b"
   ]
  },
  {
   "cell_type": "code",
   "execution_count": 12,
   "id": "43b5fe03-bd71-4bd0-831d-66f6fd97faaf",
   "metadata": {},
   "outputs": [
    {
     "ename": "NameError",
     "evalue": "name 'fibnew' is not defined",
     "output_type": "error",
     "traceback": [
      "\u001b[1;31m---------------------------------------------------------------------------\u001b[0m",
      "\u001b[1;31mNameError\u001b[0m                                 Traceback (most recent call last)",
      "File \u001b[1;32m<timed eval>:1\u001b[0m\n",
      "\u001b[1;31mNameError\u001b[0m: name 'fibnew' is not defined"
     ]
    }
   ],
   "source": [
    "%time fibnew(10000)"
   ]
  },
  {
   "cell_type": "code",
   "execution_count": null,
   "id": "64cbd148-6d6a-4b4a-9dcb-0b96f5a74558",
   "metadata": {},
   "outputs": [],
   "source": [
    "Reading Assignment\n",
    "Read up on PEP 8 -- Style Guide for Python Code https://www.python.org/dev/peps/pep-0008/"
   ]
  }
 ],
 "metadata": {
  "kernelspec": {
   "display_name": "Python 3 (ipykernel)",
   "language": "python",
   "name": "python3"
  },
  "language_info": {
   "codemirror_mode": {
    "name": "ipython",
    "version": 3
   },
   "file_extension": ".py",
   "mimetype": "text/x-python",
   "name": "python",
   "nbconvert_exporter": "python",
   "pygments_lexer": "ipython3",
   "version": "3.12.4"
  }
 },
 "nbformat": 4,
 "nbformat_minor": 5
}
