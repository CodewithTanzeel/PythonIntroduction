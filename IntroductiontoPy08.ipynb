{
 "cells": [
  {
   "cell_type": "markdown",
   "id": "f604e00b-4750-4d22-b867-d6b2a415b0ff",
   "metadata": {},
   "source": [
    "\n",
    "Iteration, Repetition, Loops"
   ]
  },
  {
   "cell_type": "markdown",
   "id": "caebc074-56e5-47de-894a-e1aaf7ca8b17",
   "metadata": {},
   "source": [
    "Sometimes, you want to do things more than once"
   ]
  },
  {
   "cell_type": "code",
   "execution_count": null,
   "id": "a0a0768b-c7b1-40a2-9e16-721d476d9cc4",
   "metadata": {},
   "outputs": [],
   "source": [
    "print ('Put suger in')\n",
    "print ('Put milk in')\n",
    "print ('Put tea leaves in')"
   ]
  },
  {
   "cell_type": "markdown",
   "id": "56d92852-c3f1-4fb6-8208-d3b563fc6f3e",
   "metadata": {},
   "source": [
    "However, thats a lot fo wastage of our time, \"A good programmer is always a lazy programmer\""
   ]
  },
  {
   "cell_type": "code",
   "execution_count": null,
   "id": "636c14fa-22b0-4772-860b-953fdc034841",
   "metadata": {},
   "outputs": [],
   "source": [
    "for ingredient in 'sugar', 'milk', 'tea leaves': \n",
    "    print (\"Put\", ingredient, '.')\n",
    "    "
   ]
  },
  {
   "cell_type": "markdown",
   "id": "b36ea601-a335-4bb2-9d6e-096844efeb92",
   "metadata": {},
   "source": [
    "\n",
    "Let's see this in the tutor first.\r\n",
    "\r\n",
    "This is a compound statement that \"loops\" over the body. This particular type, surprisingly, is termed as the \"for loop\". It knows how many times we have to run the loop."
   ]
  }
 ],
 "metadata": {
  "kernelspec": {
   "display_name": "Python 3 (ipykernel)",
   "language": "python",
   "name": "python3"
  },
  "language_info": {
   "codemirror_mode": {
    "name": "ipython",
    "version": 3
   },
   "file_extension": ".py",
   "mimetype": "text/x-python",
   "name": "python",
   "nbconvert_exporter": "python",
   "pygments_lexer": "ipython3",
   "version": "3.12.4"
  }
 },
 "nbformat": 4,
 "nbformat_minor": 5
}
