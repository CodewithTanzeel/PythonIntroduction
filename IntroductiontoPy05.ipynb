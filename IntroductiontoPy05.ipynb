{
 "cells": [
  {
   "cell_type": "code",
   "execution_count": 1,
   "id": "78132f80-9b43-4568-a9c2-bc6eddaa43cd",
   "metadata": {},
   "outputs": [],
   "source": [
    "# **LexicalScope**"
   ]
  },
  {
   "cell_type": "code",
   "execution_count": 3,
   "id": "931b26ec-5016-496b-99bf-4bcb5fbf3ba0",
   "metadata": {},
   "outputs": [],
   "source": [
    "#Where can you see the variables"
   ]
  },
  {
   "cell_type": "code",
   "execution_count": 18,
   "id": "fa54ce34-ae0d-4377-b96d-b302e8943c36",
   "metadata": {},
   "outputs": [],
   "source": [
    "def f(x):\n",
    "    y = 5\n",
    "    x = x * y\n",
    "    print (' x =',x)\n",
    "    print (' p =',p)\n",
    "    return x\n",
    "    "
   ]
  },
  {
   "cell_type": "code",
   "execution_count": 20,
   "id": "4ec979ae-e8dd-4e7e-b03c-7e2e8070218a",
   "metadata": {},
   "outputs": [
    {
     "name": "stdout",
     "output_type": "stream",
     "text": [
      " x = 40\n",
      " p = 10\n",
      "x = 8\n",
      "y = 4\n"
     ]
    }
   ],
   "source": [
    "p = 10\n",
    "x = 8\n",
    "y = 4\n",
    "z = f(x)\n",
    "#value of x used as the actual parameter\n",
    "\n",
    "print ('x =',x)\n",
    "print ('y =',y)\n"
   ]
  },
  {
   "cell_type": "code",
   "execution_count": null,
   "id": "7b2f5307-076e-403b-8049-1cfd550d52f9",
   "metadata": {},
   "outputs": [],
   "source": [
    "# lets use the python visualizer in order to know how the above funtion works\n"
   ]
  },
  {
   "cell_type": "code",
   "execution_count": null,
   "id": "07f01545-bb6a-46c8-a035-c7bd815f826e",
   "metadata": {},
   "outputs": [],
   "source": [
    "y = 25\n",
    "def f():           # name x used as formal parameter \n",
    "    print ('y =',y)\n",
    "\n",
    "    y = 1  # variables are global unless assigned to inside the function \n",
    "\n",
    "\n",
    "f()"
   ]
  },
  {
   "cell_type": "code",
   "execution_count": null,
   "id": "d9546d9b-8036-48d8-9e5f-ed4eff8d8b95",
   "metadata": {},
   "outputs": [],
   "source": [
    "Reading Assignment¶\n",
    "You need to read sections \"1.3.5 Choosing Names\" and \"1.3.6 Functions as Abstractions\" on the Composing Programs page at: http://www.composingprograms.com/pages/13-defining-new-functions.html"
   ]
  },
  {
   "cell_type": "markdown",
   "id": "4b082d36-709b-41e1-b21e-09d89498a725",
   "metadata": {},
   "source": [
    "\n",
    "Designing Functions¶\r\n",
    "It's important to design your functions thoughtfully. Some important points to note:\r\n",
    "\r\n",
    "Functions are abstractions. So, their operation should depend as little on the environment as possible\r\n",
    "Names should be intuitive and meaningful\r\n",
    "Parameters should be named intuitively as well\r\n",
    "Functions should be documented!\n"
   ]
  },
  {
   "cell_type": "code",
   "execution_count": 14,
   "id": "3b12f8c4-3034-4c2b-877d-5d0e399d16cc",
   "metadata": {},
   "outputs": [],
   "source": [
    "# lets define a function of pressure\n",
    "def pressure(v, t, n):\n",
    "    \"\"\"Compute the pressure in pascals of an ideal gas. (This is called a docstring.)\n",
    "\n",
    "        Applies the ideal Gas Law\n",
    "\n",
    "        v -- volume of a gas, in cubic meters\n",
    "        t -- absolute temperature in degrees kelvin\n",
    "        n -- particles of gas\n",
    "        \"\"\"\n",
    "    k = 1.48**-23 #In python two we can use e for exponents\n",
    "    return n * k * t / v\n",
    "    "
   ]
  },
  {
   "cell_type": "code",
   "execution_count": 16,
   "id": "9df6a3f9-d81d-424a-842c-da3761f02b96",
   "metadata": {},
   "outputs": [
    {
     "name": "stdout",
     "output_type": "stream",
     "text": [
      "Help on function pressure in module __main__:\n",
      "\n",
      "pressure(v, t, n)\n",
      "    Compute the pressure in pascals of an ideal gas. (This is called a docstring.)\n",
      "\n",
      "    Applies the ideal Gas Law\n",
      "\n",
      "    v -- volume of a gas, in cubic meters\n",
      "    t -- absolute temperature in degrees kelvin\n",
      "    n -- particles of gas\n",
      "\n"
     ]
    }
   ],
   "source": [
    "help(pressure)"
   ]
  },
  {
   "cell_type": "code",
   "execution_count": null,
   "id": "df2488a1-328e-4281-bbc0-1cd14e10e8e3",
   "metadata": {},
   "outputs": [],
   "source": []
  }
 ],
 "metadata": {
  "kernelspec": {
   "display_name": "Python 3 (ipykernel)",
   "language": "python",
   "name": "python3"
  },
  "language_info": {
   "codemirror_mode": {
    "name": "ipython",
    "version": 3
   },
   "file_extension": ".py",
   "mimetype": "text/x-python",
   "name": "python",
   "nbconvert_exporter": "python",
   "pygments_lexer": "ipython3",
   "version": "3.12.4"
  }
 },
 "nbformat": 4,
 "nbformat_minor": 5
}
