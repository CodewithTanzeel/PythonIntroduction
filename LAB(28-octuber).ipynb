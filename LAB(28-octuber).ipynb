{
 "cells": [
  {
   "cell_type": "code",
   "execution_count": 7,
   "id": "5c762a81-a3dd-4e6a-b27f-423f7134f20c",
   "metadata": {},
   "outputs": [
    {
     "name": "stdout",
     "output_type": "stream",
     "text": [
      "My Name  is TanzeelAhmad \n",
      "I am currently in deparment of BSE  \n",
      "My Roll no is 192\n"
     ]
    }
   ],
   "source": [
    "# TASK 01\n",
    "Name = \"TanzeelAhmad\"\n",
    "Dept = \"BSE\"\n",
    "Rollno = 192\n",
    "\n",
    "print (\"My Name  is\" ,Name ,\"\\nI am currently in deparment of\", Dept,\" \\nMy Roll no is\" ,Rollno)\n"
   ]
  },
  {
   "cell_type": "code",
   "execution_count": 21,
   "id": "8aba407e-8c6f-4120-b25b-43d6ac42dc9f",
   "metadata": {},
   "outputs": [
    {
     "name": "stdout",
     "output_type": "stream",
     "text": [
      "54\n",
      "46\n",
      "200\n",
      "12.5\n",
      "2\n"
     ]
    }
   ],
   "source": [
    "\n",
    "# TASK 02\n",
    "num1 = 50 \n",
    "num2 = 4\n",
    "\n",
    "addition = print (num1 + num2)\n",
    "subtraction =print (num1 - num2)\n",
    "Multiplication =print (num1 * num2)\n",
    "division = print (num1 / num2)\n",
    "mod =print (num1 % num2)\n",
    "\n"
   ]
  },
  {
   "cell_type": "code",
   "execution_count": 45,
   "id": "c21c9fc1-3807-439b-8560-ec0b17686951",
   "metadata": {},
   "outputs": [
    {
     "name": "stdin",
     "output_type": "stream",
     "text": [
      "enter your measurements in feet 3\n",
      "enter your measurements in inch 3\n"
     ]
    },
    {
     "name": "stdout",
     "output_type": "stream",
     "text": [
      "this is the output feet to inches is 36.0\n",
      "this is the output in inches 43.62\n"
     ]
    }
   ],
   "source": [
    "feet = float(input(\"enter your measurements in feet\"))\n",
    "inch = float(input(\"enter your measurements in inch\"))\n",
    "i = feet * 12 \n",
    "cm = i + inch * 2.54\n",
    "\n",
    "\n",
    "\n",
    "print(\"this is the output feet to inches is\", i)\n",
    "\n",
    "print(\"this is total output  output in inches\", cm)\n",
    "    "
   ]
  },
  {
   "cell_type": "code",
   "execution_count": null,
   "id": "d0934b57-c681-4733-80a8-c0d5866ce3e5",
   "metadata": {},
   "outputs": [],
   "source": []
  }
 ],
 "metadata": {
  "kernelspec": {
   "display_name": "Python 3 (ipykernel)",
   "language": "python",
   "name": "python3"
  },
  "language_info": {
   "codemirror_mode": {
    "name": "ipython",
    "version": 3
   },
   "file_extension": ".py",
   "mimetype": "text/x-python",
   "name": "python",
   "nbconvert_exporter": "python",
   "pygments_lexer": "ipython3",
   "version": "3.12.4"
  }
 },
 "nbformat": 4,
 "nbformat_minor": 5
}
