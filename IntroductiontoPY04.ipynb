{
 "cells": [
  {
   "cell_type": "code",
   "execution_count": null,
   "id": "51f96264-7c9b-40ec-a15e-f9a68a231b20",
   "metadata": {},
   "outputs": [],
   "source": [
    "#Defining new functions\n",
    "from math import sqrt"
   ]
  },
  {
   "cell_type": "code",
   "execution_count": null,
   "id": "6e07644d-f9ec-4665-98a2-48eb10e57aeb",
   "metadata": {},
   "outputs": [],
   "source": [
    "def square(x):\n",
    "    return x * x  #notice the identation unlike other languagees ."
   ]
  },
  {
   "cell_type": "code",
   "execution_count": null,
   "id": "ac727a90-016d-4a07-80cd-20e0e6bac4bd",
   "metadata": {},
   "outputs": [],
   "source": [
    "#we will call this funtion as before "
   ]
  },
  {
   "cell_type": "code",
   "execution_count": null,
   "id": "c5c35ede-4d1b-4566-9514-924db93d5b92",
   "metadata": {},
   "outputs": [],
   "source": [
    "v = square(5)"
   ]
  },
  {
   "cell_type": "code",
   "execution_count": null,
   "id": "e365b5c4-3e50-49b0-86a5-2baa805833db",
   "metadata": {},
   "outputs": [],
   "source": [
    "v"
   ]
  },
  {
   "cell_type": "code",
   "execution_count": null,
   "id": "ae9a458c-a1ae-4a47-b8a9-badcc279bb15",
   "metadata": {},
   "outputs": [],
   "source": [
    "# You might have a Doubt that we can nest this funtion or not YESSS we can!!!!"
   ]
  },
  {
   "cell_type": "code",
   "execution_count": null,
   "id": "ccb82f9c-a367-4ca9-96b0-3ecb7200727c",
   "metadata": {},
   "outputs": [],
   "source": [
    "def sum_squares(x, y):\n",
    "    return square(x) + square(y)    "
   ]
  },
  {
   "cell_type": "code",
   "execution_count": null,
   "id": "7ffcc481-d1dc-465f-9511-ad2e7dce6221",
   "metadata": {},
   "outputs": [],
   "source": [
    "result = sum_square(3, 4)\n",
    "# as you can see the above code we are storing as well as passing the values in the sumsquares funtion"
   ]
  },
  {
   "cell_type": "code",
   "execution_count": null,
   "id": "f22fd33c-84ee-4781-a988-97279d8a5bb1",
   "metadata": {},
   "outputs": [],
   "source": [
    "result\n",
    "#Output"
   ]
  },
  {
   "cell_type": "code",
   "execution_count": null,
   "id": "f8fd58af-1741-44c5-8d8e-5408fed0a710",
   "metadata": {},
   "outputs": [],
   "source": [
    "# For visual iteration and working of the code we can use pythonvisualizer"
   ]
  },
  {
   "cell_type": "code",
   "execution_count": null,
   "id": "ded3071e-c1f7-4439-ae79-507f34a64ca3",
   "metadata": {},
   "outputs": [],
   "source": [
    "sum_squares('a', 3)"
   ]
  },
  {
   "cell_type": "code",
   "execution_count": null,
   "id": "ceffcc6c-ff55-4917-9b59-a150243ae6bd",
   "metadata": {},
   "outputs": [],
   "source": [
    "# There's anthoer important point here that we highlight through our slide"
   ]
  },
  {
   "cell_type": "code",
   "execution_count": null,
   "id": "3c5c0ea3-0789-4f54-b016-a71f3bbf42de",
   "metadata": {},
   "outputs": [],
   "source": [
    "##Default Values"
   ]
  },
  {
   "cell_type": "code",
   "execution_count": null,
   "id": "21b2cc3d-ddca-4369-8251-767422d3ce19",
   "metadata": {},
   "outputs": [],
   "source": [
    "def sqrt(num,guess):\n",
    "    print \"Starting with guess:\", guess, \"Finding the squareroot of numeber\""
   ]
  },
  {
   "cell_type": "code",
   "execution_count": 8,
   "id": "fd999a8a-9cc2-446f-b106-740acd99be4e",
   "metadata": {},
   "outputs": [
    {
     "ename": "NameError",
     "evalue": "name 'sqrt' is not defined",
     "output_type": "error",
     "traceback": [
      "\u001b[1;31m---------------------------------------------------------------------------\u001b[0m",
      "\u001b[1;31mNameError\u001b[0m                                 Traceback (most recent call last)",
      "Cell \u001b[1;32mIn[8], line 2\u001b[0m\n\u001b[0;32m      1\u001b[0m \u001b[38;5;66;03m#Here we will pass the values to the square root function\u001b[39;00m\n\u001b[1;32m----> 2\u001b[0m sqrt(\u001b[38;5;241m36\u001b[39m, \u001b[38;5;241m1\u001b[39m)\n",
      "\u001b[1;31mNameError\u001b[0m: name 'sqrt' is not defined"
     ]
    }
   ],
   "source": [
    "#Here we will pass the values to the square root function\n",
    "sqrt(36, 1)"
   ]
  },
  {
   "cell_type": "code",
   "execution_count": 2,
   "id": "9ac05338-1420-41b8-9a15-ff4dfe1cb0ce",
   "metadata": {},
   "outputs": [
    {
     "ename": "NameError",
     "evalue": "name 'sqrt' is not defined",
     "output_type": "error",
     "traceback": [
      "\u001b[1;31m---------------------------------------------------------------------------\u001b[0m",
      "\u001b[1;31mNameError\u001b[0m                                 Traceback (most recent call last)",
      "Cell \u001b[1;32mIn[2], line 2\u001b[0m\n\u001b[0;32m      1\u001b[0m \u001b[38;5;66;03m# Let see what will happen when we pass only one value\u001b[39;00m\n\u001b[1;32m----> 2\u001b[0m sqrt(\u001b[38;5;241m36\u001b[39m)\n",
      "\u001b[1;31mNameError\u001b[0m: name 'sqrt' is not defined"
     ]
    }
   ],
   "source": [
    "# Let see what will happen when we pass only one value\n",
    "sqrt(36)"
   ]
  },
  {
   "cell_type": "code",
   "execution_count": null,
   "id": "d2fb86fe-e218-4e24-94ea-cccae4e6a12d",
   "metadata": {},
   "outputs": [],
   "source": [
    "def sqrt(num, guess=0.7):\n",
    "    print \"Finding the sqrt of:\",num,\"Starting with the guess:\", guess\n",
    "    #In the above function we have already passed the values of guess intially"
   ]
  },
  {
   "cell_type": "code",
   "execution_count": 4,
   "id": "add5e4e6-b55e-4ff3-a18e-394d6f77b6eb",
   "metadata": {},
   "outputs": [
    {
     "ename": "NameError",
     "evalue": "name 'sqrt' is not defined",
     "output_type": "error",
     "traceback": [
      "\u001b[1;31m---------------------------------------------------------------------------\u001b[0m",
      "\u001b[1;31mNameError\u001b[0m                                 Traceback (most recent call last)",
      "Cell \u001b[1;32mIn[4], line 1\u001b[0m\n\u001b[1;32m----> 1\u001b[0m sqrt(\u001b[38;5;241m36\u001b[39m)\n",
      "\u001b[1;31mNameError\u001b[0m: name 'sqrt' is not defined"
     ]
    }
   ],
   "source": [
    "sqrt(36)"
   ]
  },
  {
   "cell_type": "code",
   "execution_count": null,
   "id": "fa63ba95-07ad-4144-be71-e07f86be3035",
   "metadata": {},
   "outputs": [],
   "source": [
    "sqrt(36)"
   ]
  },
  {
   "cell_type": "code",
   "execution_count": null,
   "id": "cc437e94-09f6-40e0-9d50-7aab5e7a7aca",
   "metadata": {},
   "outputs": [],
   "source": [
    "#finding the square root with the guess:7.0"
   ]
  }
 ],
 "metadata": {
  "kernelspec": {
   "display_name": "Python 3 (ipykernel)",
   "language": "python",
   "name": "python3"
  },
  "language_info": {
   "codemirror_mode": {
    "name": "ipython",
    "version": 3
   },
   "file_extension": ".py",
   "mimetype": "text/x-python",
   "name": "python",
   "nbconvert_exporter": "python",
   "pygments_lexer": "ipython3",
   "version": "3.12.4"
  }
 },
 "nbformat": 4,
 "nbformat_minor": 5
}
