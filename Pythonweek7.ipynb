{
 "cells": [
  {
   "cell_type": "code",
   "execution_count": 1,
   "id": "04fbd7b0-f7c8-4d9d-bccb-80fec0409c1f",
   "metadata": {},
   "outputs": [],
   "source": [
    "# Temple literals Java scripts \n",
    "# Formatting literals Python"
   ]
  },
  {
   "cell_type": "code",
   "execution_count": 5,
   "id": "c80cd920-c68c-4a68-9683-e2e38ed09faf",
   "metadata": {},
   "outputs": [],
   "source": [
    "def student_info(name,info):\n",
    "    if name == \"David\" and roll == 183:\n",
    "        print(\"You are David student of SSUET\")\n",
    "    else:\n",
    "        print(\"Your are not David\")\n"
   ]
  },
  {
   "cell_type": "code",
   "execution_count": null,
   "id": "e52566a2-1f92-4e6b-9c7e-611af93ba61d",
   "metadata": {},
   "outputs": [],
   "source": [
    "def Table(number):\n",
    "    for i in range(1,11):\n",
    "        print(i,\"X\", number,\"=\",i * number)\n"
   ]
  },
  {
   "cell_type": "code",
   "execution_count": 7,
   "id": "09503279-6383-4a84-aed5-4d77a82eb7c6",
   "metadata": {},
   "outputs": [],
   "source": [
    "def Tables(number,number2):\n",
    "    for i in range(1,11):\n",
    "        print(i,\"X\", number,\"=\",i * number)\n",
    "    for i in range(1,11):\n",
    "        print(i,\"X\", number2,\"=\",i * number2)\n",
    "\n"
   ]
  },
  {
   "cell_type": "code",
   "execution_count": 21,
   "id": "f5885a17-6a8e-4432-96c2-a52a7b771a80",
   "metadata": {},
   "outputs": [
    {
     "name": "stdin",
     "output_type": "stream",
     "text": [
      "enter in euro 79\n"
     ]
    },
    {
     "name": "stdout",
     "output_type": "stream",
     "text": [
      "your amount in euro is: 79 \n",
      " The amount in pkr is 23157.27 \n"
     ]
    }
   ],
   "source": [
    "def euro_to_pkr(euro):\n",
    "       print(f'your amount in euro is: {euro} \\n The amount in pkr is {euro * 293.13} ')\n",
    "\n",
    "convertor=int(input('enter in euro'))\n",
    "euro_to_pkr(convertor)"
   ]
  },
  {
   "cell_type": "code",
   "execution_count": 23,
   "id": "dc19ee60-16f2-4773-9b49-8a2e1a041c47",
   "metadata": {},
   "outputs": [
    {
     "ename": "SyntaxError",
     "evalue": "invalid syntax (206126451.py, line 8)",
     "output_type": "error",
     "traceback": [
      "\u001b[1;36m  Cell \u001b[1;32mIn[23], line 8\u001b[1;36m\u001b[0m\n\u001b[1;33m    if ques ==\u001b[0m\n\u001b[1;37m              ^\u001b[0m\n\u001b[1;31mSyntaxError\u001b[0m\u001b[1;31m:\u001b[0m invalid syntax\n"
     ]
    }
   ],
   "source": [
    "#curency=(euro,dollor,dinar,bitcoin)\n",
    "con=(euro,dollor,dinar,bitcoin)\n",
    "ques=input('enter your curency').split()\n",
    "if ques =='euro':\n",
    "    def curency1(euro):\n",
    "        ans=euro*293.13\n",
    "        X=cure(ans)\n",
    "        print(X)\n",
    "if ques == \n",
    "\n",
    "    \n"
   ]
  },
  {
   "cell_type": "code",
   "execution_count": 51,
   "id": "44060378-eb97-4ae4-bba5-f9d5a01dce20",
   "metadata": {},
   "outputs": [
    {
     "name": "stdout",
     "output_type": "stream",
     "text": [
      "Name :  Tanzeel Ahmad\n",
      "Roll No: 192\n",
      "your obtain marks is: 42\n",
      "Your Percentage is : 84.0\n",
      "Your obtained Grade A* \n"
     ]
    }
   ],
   "source": [
    "# create a user defined function ,in which you call a function,then you pass name, roll number  and its marks of courses 5 courses ... that function\n",
    "# should provide you a a grade , obtain marks and whether a student is pass or fail\n",
    "\n",
    "def auto_grader(name ,roll,cs1,cs2,cs3,cs4,cs5):\n",
    "    total_marks=50\n",
    "    ob_marks=cs1+cs3+cs2+cs4+cs5\n",
    "    print(\"Name : \",name)\n",
    "    print(\"Roll No:\",roll)\n",
    "    print('your obtain marks is:',ob_marks)\n",
    "    print(\"Your Percentage is :\", ob_marks/total_marks * 100 )\n",
    "    if ob_marks>=40:\n",
    "        print(\"Your obtained Grade A*.\")\n",
    "    elif ob_marks>=30:\n",
    "        print(\"Your obtained Grade B.\")\n",
    "    elif ob_marks>=25:\n",
    "        print(\"Your Obtained Grade C .\")\n",
    "    elif ob_marks>=20:\n",
    "        print(\"Your Obtained Grade D.\")\n",
    "    else:\n",
    "        print(\"Your Obtained Grade is f.\")\n",
    "auto_grader('Tanzeel Ahmad',192,8,9,9,9,7)\n",
    "    "
   ]
  },
  {
   "cell_type": "code",
   "execution_count": null,
   "id": "b695f9b7-2993-409c-b708-198d925cbb4a",
   "metadata": {},
   "outputs": [],
   "source": []
  }
 ],
 "metadata": {
  "kernelspec": {
   "display_name": "Python 3 (ipykernel)",
   "language": "python",
   "name": "python3"
  },
  "language_info": {
   "codemirror_mode": {
    "name": "ipython",
    "version": 3
   },
   "file_extension": ".py",
   "mimetype": "text/x-python",
   "name": "python",
   "nbconvert_exporter": "python",
   "pygments_lexer": "ipython3",
   "version": "3.12.4"
  }
 },
 "nbformat": 4,
 "nbformat_minor": 5
}
