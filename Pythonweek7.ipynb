{
 "cells": [
  {
   "cell_type": "code",
   "execution_count": 1,
   "id": "04fbd7b0-f7c8-4d9d-bccb-80fec0409c1f",
   "metadata": {},
   "outputs": [],
   "source": [
    "# Temple literals Java scripts \n",
    "# Formatting literals Python"
   ]
  },
  {
   "cell_type": "code",
   "execution_count": 5,
   "id": "c80cd920-c68c-4a68-9683-e2e38ed09faf",
   "metadata": {},
   "outputs": [],
   "source": [
    "def student_info(name,info):\n",
    "    if name == \"David\" and roll == 183:\n",
    "        print(\"You are David student of SSUET\")\n",
    "    else:\n",
    "        print(\"Your are not David\")\n"
   ]
  },
  {
   "cell_type": "code",
   "execution_count": null,
   "id": "e52566a2-1f92-4e6b-9c7e-611af93ba61d",
   "metadata": {},
   "outputs": [],
   "source": [
    "def Table(number):\n",
    "    for i in range(1,11):\n",
    "        print(i,\"X\", number,\"=\",i * number)\n"
   ]
  },
  {
   "cell_type": "code",
   "execution_count": 7,
   "id": "09503279-6383-4a84-aed5-4d77a82eb7c6",
   "metadata": {},
   "outputs": [],
   "source": [
    "def Tables(number,number2):\n",
    "    for i in range(1,11):\n",
    "        print(i,\"X\", number,\"=\",i * number)\n",
    "    for i in range(1,11):\n",
    "        print(i,\"X\", number2,\"=\",i * number2)\n",
    "\n"
   ]
  },
  {
   "cell_type": "code",
   "execution_count": null,
   "id": "f5885a17-6a8e-4432-96c2-a52a7b771a80",
   "metadata": {},
   "outputs": [],
   "source": []
  }
 ],
 "metadata": {
  "kernelspec": {
   "display_name": "Python 3 (ipykernel)",
   "language": "python",
   "name": "python3"
  },
  "language_info": {
   "codemirror_mode": {
    "name": "ipython",
    "version": 3
   },
   "file_extension": ".py",
   "mimetype": "text/x-python",
   "name": "python",
   "nbconvert_exporter": "python",
   "pygments_lexer": "ipython3",
   "version": "3.12.4"
  }
 },
 "nbformat": 4,
 "nbformat_minor": 5
}
