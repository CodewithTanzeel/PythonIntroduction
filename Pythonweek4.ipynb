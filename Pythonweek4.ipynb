{
 "cells": [
  {
   "cell_type": "markdown",
   "id": "9d822cf9-2c21-44c0-b888-71a0b7d34a0d",
   "metadata": {},
   "source": [
    "### WEEK THREE LAB PF"
   ]
  },
  {
   "cell_type": "code",
   "execution_count": null,
   "id": "88bb5822-2d0e-4d35-9778-b9e135a2ffa9",
   "metadata": {},
   "outputs": [],
   "source": [
    "a = 10\n",
    "b = 15 \n",
    "\n",
    "if a==b:\n",
    "    print(\"A is Equal to B\")\n",
    "else:\n",
    "    print(\"A is not equal to b\")\n",
    "\n",
    "\n",
    "if a!=b:\n",
    "    print(\"A is Equal to B\")\n",
    "else:\n",
    "    print(\"A is not equal to b\")\n",
    "\n",
    "\n",
    "if a>=b:\n",
    "    print(\"A is Equal to B\")\n",
    "else:\n",
    "    print(\"A is not equal to b\")\n",
    "\n",
    "\n",
    "if a<=b:\n",
    "    print(\"A is Equal to B\")\n",
    "else:\n",
    "    print(\"A is not equal to b\")\n",
    "\n",
    "\n",
    "\n",
    "\n"
   ]
  },
  {
   "cell_type": "code",
   "execution_count": null,
   "id": "0ee9311c-5692-457a-abbc-71abd3768133",
   "metadata": {},
   "outputs": [],
   "source": [
    "a = 10\n",
    "b = 15 \n",
    "\n",
    "\n",
    "if a==b:\n",
    "    print(\"A is Equal to B\")\n",
    "elif a!=b:\n",
    "    print(\"A is not equal to b\")\n",
    "elif a>=b:\n",
    "    print(\"A is greater then equal to B\")\n",
    "elif a<=b:\n",
    "    print(\"A is greater then equal to B\")   \n",
    "else:\n",
    "    print(\"Syntax Error\")\n"
   ]
  }
 ],
 "metadata": {
  "kernelspec": {
   "display_name": "Python 3 (ipykernel)",
   "language": "python",
   "name": "python3"
  },
  "language_info": {
   "codemirror_mode": {
    "name": "ipython",
    "version": 3
   },
   "file_extension": ".py",
   "mimetype": "text/x-python",
   "name": "python",
   "nbconvert_exporter": "python",
   "pygments_lexer": "ipython3",
   "version": "3.12.4"
  }
 },
 "nbformat": 4,
 "nbformat_minor": 5
}
