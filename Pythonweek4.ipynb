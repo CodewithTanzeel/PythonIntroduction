{
 "cells": [
  {
   "cell_type": "markdown",
   "id": "9d822cf9-2c21-44c0-b888-71a0b7d34a0d",
   "metadata": {},
   "source": [
    "### WEEK THREE LAB PF"
   ]
  },
  {
   "cell_type": "code",
   "execution_count": null,
   "id": "88bb5822-2d0e-4d35-9778-b9e135a2ffa9",
   "metadata": {},
   "outputs": [],
   "source": [
    "a = 10\n",
    "b = 15 \n",
    "\n",
    "if a==b:\n",
    "    print(\"A is Equal to B\")\n",
    "else:\n",
    "    print(\"A is not equal to b\")\n",
    "\n",
    "\n",
    "if a!=b:\n",
    "    print(\"A is Equal to B\")\n",
    "else:\n",
    "    print(\"A is not equal to b\")\n",
    "\n",
    "\n",
    "if a>=b:\n",
    "    print(\"A is Equal to B\")\n",
    "else:\n",
    "    print(\"A is not equal to b\")\n",
    "\n",
    "\n",
    "if a<=b:\n",
    "    print(\"A is Equal to B\")\n",
    "else:\n",
    "    print(\"A is not equal to b\")\n",
    "\n",
    "\n",
    "\n",
    "\n"
   ]
  },
  {
   "cell_type": "code",
   "execution_count": 1,
   "id": "0ee9311c-5692-457a-abbc-71abd3768133",
   "metadata": {},
   "outputs": [
    {
     "name": "stdout",
     "output_type": "stream",
     "text": [
      "A is not equal to b\n"
     ]
    }
   ],
   "source": [
    "a = 10\n",
    "b = 15 \n",
    "\n",
    "\n",
    "if a==b:\n",
    "    print(\"A is Equal to B\")\n",
    "elif a!=b:\n",
    "    print(\"A is not equal to b\")\n",
    "elif a>=b:\n",
    "    print(\"A is greater then equal to B\")\n",
    "elif a<=b:\n",
    "    print(\"A is greater then equal to B\")   \n",
    "else:\n",
    "    print(\"Syntax Error\")\n"
   ]
  },
  {
   "cell_type": "code",
   "execution_count": 7,
   "id": "24b025bf-6b94-4036-8546-998228b07bab",
   "metadata": {},
   "outputs": [
    {
     "name": "stdout",
     "output_type": "stream",
     "text": [
      "Syntex Error\n"
     ]
    }
   ],
   "source": [
    "a=10 \n",
    "b=15\n",
    "\n",
    "if a <= b and  a < b  and a >= b:\n",
    "    print (\"A is less then B\")\n",
    "else:\n",
    "    print (\"Syntex Error\")\n",
    "    "
   ]
  },
  {
   "cell_type": "code",
   "execution_count": 9,
   "id": "5ecf3374-0c3e-4dda-8934-f58f2e6238b7",
   "metadata": {},
   "outputs": [
    {
     "name": "stdout",
     "output_type": "stream",
     "text": [
      "A is less then B\n"
     ]
    }
   ],
   "source": [
    "a=10 \n",
    "b=15\n",
    "\n",
    "if a <= b and  a < b  or a >= b:\n",
    "    print (\"A is less then B\")\n",
    "else:\n",
    "    print (\"Syntex Error\")\n",
    "    "
   ]
  },
  {
   "cell_type": "code",
   "execution_count": null,
   "id": "989a5c3c-52ce-4383-b521-cbc0c948149e",
   "metadata": {},
   "outputs": [],
   "source": [
    "a=10 \n",
    "b=15\n",
    "\n",
    "if a <= b and  a < b  not a >= b:\n",
    "    print (\"A is less then B\")\n",
    "else:\n",
    "    print (\"Syntex Error\")\n",
    "    "
   ]
  }
 ],
 "metadata": {
  "kernelspec": {
   "display_name": "Python 3 (ipykernel)",
   "language": "python",
   "name": "python3"
  },
  "language_info": {
   "codemirror_mode": {
    "name": "ipython",
    "version": 3
   },
   "file_extension": ".py",
   "mimetype": "text/x-python",
   "name": "python",
   "nbconvert_exporter": "python",
   "pygments_lexer": "ipython3",
   "version": "3.12.4"
  }
 },
 "nbformat": 4,
 "nbformat_minor": 5
}
