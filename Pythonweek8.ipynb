{
 "cells": [
  {
   "cell_type": "markdown",
   "id": "4a492314-5dd9-48cd-a705-252053f0767f",
   "metadata": {},
   "source": [
    "### LISTS"
   ]
  },
  {
   "cell_type": "code",
   "execution_count": null,
   "id": "88f39786-a544-47ca-879d-b6b26fbaab17",
   "metadata": {},
   "outputs": [],
   "source": [
    "def linearSearch(array,n,x):\n",
    "    for i in range(0,n):\n",
    "        if(array[i] == x ):\n",
    "            return i\n",
    "     return -1\n",
    "array = [200,300,0,400]\n",
    "x = 400\n",
    "n = len(array)\n",
    "result = linearSearch(array,n,x)\n",
    "if(result == -1):\n",
    "    print(\"Element not Found\")\n",
    "else:\n",
    "    print(\"Element Found at index :\",result)"
   ]
  },
  {
   "cell_type": "code",
   "execution_count": null,
   "id": "2df08f0a-403f-4519-b7d8-2311d27fcdf3",
   "metadata": {},
   "outputs": [],
   "source": [
    "def linearSearch(array,n,x):\n",
    "    for i in range(0,n):\n",
    "        if(array[i] == x ):\n",
    "            return i\n",
    "     return -1\n",
    "array = [200,300,0,400]\n",
    "x = 400\n",
    "n = len(array)\n",
    "result = linearSearch(array,n,x)\n",
    "if(result == -1):\n",
    "    print(\"Element not Found\")\n",
    "else:\n",
    "    print(\"Element Found at index :\",result)"
   ]
  },
  {
   "cell_type": "markdown",
   "id": "db2ee355-44f8-45cc-bc71-ed79b93a1ccf",
   "metadata": {},
   "source": [
    "### Sorting in lists"
   ]
  },
  {
   "cell_type": "code",
   "execution_count": 4,
   "id": "941aa372-57f9-495e-9ec8-0fd75838ed23",
   "metadata": {},
   "outputs": [
    {
     "name": "stdout",
     "output_type": "stream",
     "text": [
      "Sorted form of vowels:  ['a', 'e', 'i', 'o', 'u']\n"
     ]
    }
   ],
   "source": [
    "vowels=['e','a','u','o','i']\n",
    "vowels.sort()\n",
    "print('Sorted form of vowels: ',vowels)"
   ]
  },
  {
   "cell_type": "code",
   "execution_count": 10,
   "id": "ce15da12-a5e9-4413-b4a6-d227b56bc25a",
   "metadata": {},
   "outputs": [
    {
     "name": "stdout",
     "output_type": "stream",
     "text": [
      "[1, 2, 3, 4, 5]\n"
     ]
    }
   ],
   "source": [
    "# Sorting a list\n",
    "x = [ 5,4,3,2,1]\n",
    "print(sorted(x))"
   ]
  },
  {
   "cell_type": "code",
   "execution_count": 12,
   "id": "240bae6f-e740-4e5c-a877-7f1f66c8d29e",
   "metadata": {},
   "outputs": [
    {
     "name": "stdout",
     "output_type": "stream",
     "text": [
      "\n",
      "Resversly sorted\n",
      "[5, 4, 3, 2, 1]\n"
     ]
    }
   ],
   "source": [
    "# reverse sorting\n",
    "x = [ 5,4,3,2,1]\n",
    "print(\"\\nResversly sorted\")\n",
    "print(sorted(x,reverse=True))"
   ]
  },
  {
   "cell_type": "markdown",
   "id": "66126389-fa87-46e0-bc00-0a00e08ddd46",
   "metadata": {},
   "source": [
    "###BUBBLE SORT"
   ]
  },
  {
   "cell_type": "code",
   "execution_count": null,
   "id": "8171ac35-60b4-4aa9-a7e7-d7d2f6f491ce",
   "metadata": {},
   "outputs": [],
   "source": [
    "a = [54,67,33,32,1]\n",
    "for j in range(len(a)):\n",
    "    swapped = False\n",
    "    i = 0\n",
    "    while i<len(a)-1:\n",
    "        if a[i]<len(a)-1:\n",
    "            #comparing adjacent element\n",
    "            if a[i]>a[i+1]:\n",
    "                a[i],a[i+1]=a[i+1],a[i]\n",
    "                swapped=True\n",
    "            i = i+1\n",
    "    if swapped==False:\n",
    "        break\n",
    "\n",
    "\n",
    "\n",
    "print(\"sorted:\",a)       "
   ]
  },
  {
   "cell_type": "code",
   "execution_count": null,
   "id": "aea14b51-ca15-448f-9f17-17d3beab4a6a",
   "metadata": {},
   "outputs": [],
   "source": []
  },
  {
   "cell_type": "markdown",
   "id": "6353dd78-9cb7-45e6-8c80-f17096477f7e",
   "metadata": {},
   "source": [
    "### TUPLES"
   ]
  },
  {
   "cell_type": "code",
   "execution_count": null,
   "id": "da1c43bc-1571-4ff7-8641-e04094159393",
   "metadata": {},
   "outputs": [],
   "source": [
    "# Creating Tuples\n",
    "n = ('JHON','brintry','Adele','QuincyLarkSon')"
   ]
  },
  {
   "cell_type": "code",
   "execution_count": null,
   "id": "72b57263-339d-41b9-a615-3edc490dedb5",
   "metadata": {},
   "outputs": [],
   "source": [
    "# Creating for tuples by using ternary operations\n",
    "t = tuple([for 2*x for x in range(1,5)])\n",
    "print t"
   ]
  },
  {
   "cell_type": "markdown",
   "id": "ecf7d74d-45c0-47de-8b55-0f9287e02a4b",
   "metadata": {},
   "source": [
    "### DICTIONARY"
   ]
  },
  {
   "cell_type": "code",
   "execution_count": 12,
   "id": "afe3e2ce-caaa-493a-bd6d-454da4a4753e",
   "metadata": {},
   "outputs": [
    {
     "name": "stdout",
     "output_type": "stream",
     "text": [
      "{'Name': 'RAZA', 'class': 'six', 'age': 48}\n",
      "RAZA\n",
      "RAZA\n",
      "{'Name': 'RAZA', 'age': 48}\n",
      "%s:%s ('adult', 25)\n",
      "%s:%s ('child', 2)\n",
      "%s:%s ('kid', 5)\n",
      "%s:%s ('senior', 50)\n",
      "%s:%s ('teen', 18)\n",
      "Name > RAZA\n",
      "class > six\n",
      "age > 48\n"
     ]
    }
   ],
   "source": [
    "bio = { \"Name\":\"RAZA\",'class':\"six\",\"age\":48}\n",
    "print(bio)\n",
    "print(bio[\"Name\"])\n",
    "print(bio.get(\"Name\"))\n",
    "#remoiving a  key from bio\n",
    "if 'class' in bio:\n",
    "    del bio['class']\n",
    "\n",
    "print (bio)\n",
    "\n",
    "# sorting a dictionary by key\n",
    "stages ={'child':2,'kid':5,'teen':18,'adult':25,'senior':50}\n",
    "for key in sorted(stages):\n",
    "    print(\"%s:%s\",(key,stages[key]))\n",
    "\n",
    "# program to itreate dictionaries overloops\n",
    "bio = { \"Name\":\"RAZA\",'class':\"six\",\"age\":48} \n",
    "for bio_key,bio_value in bio.items():\n",
    "    print(bio_key,\">\",bio_value)\n",
    "    "
   ]
  },
  {
   "cell_type": "code",
   "execution_count": 20,
   "id": "1b67dd2d-ed25-42ea-8a07-def6235f1bf3",
   "metadata": {},
   "outputs": [
    {
     "name": "stdout",
     "output_type": "stream",
     "text": [
      "\n"
     ]
    }
   ],
   "source": [
    "f = open(\"newfile.txt\",\"r\")\n",
    "print(f.read())"
   ]
  },
  {
   "cell_type": "code",
   "execution_count": null,
   "id": "a0156a88-1b8f-41c7-a106-115fa27b1c8a",
   "metadata": {},
   "outputs": [],
   "source": [
    "f = open(\"newfile.txt\",\"r\")\n",
    "print(f.read())"
   ]
  }
 ],
 "metadata": {
  "kernelspec": {
   "display_name": "Python 3 (ipykernel)",
   "language": "python",
   "name": "python3"
  },
  "language_info": {
   "codemirror_mode": {
    "name": "ipython",
    "version": 3
   },
   "file_extension": ".py",
   "mimetype": "text/x-python",
   "name": "python",
   "nbconvert_exporter": "python",
   "pygments_lexer": "ipython3",
   "version": "3.12.4"
  }
 },
 "nbformat": 4,
 "nbformat_minor": 5
}
