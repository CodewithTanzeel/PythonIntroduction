{
 "cells": [
  {
   "cell_type": "code",
   "execution_count": null,
   "id": "319f8c5b-b6ed-4889-be04-84db6ea590f7",
   "metadata": {},
   "outputs": [],
   "source": [
    "Lexical Scope"
   ]
  },
  {
   "cell_type": "code",
   "execution_count": 6,
   "id": "a42f5b11-7f6f-4d4d-86c9-958671dc4ab6",
   "metadata": {},
   "outputs": [
    {
     "ename": "IndentationError",
     "evalue": "unexpected indent (3545811178.py, line 4)",
     "output_type": "error",
     "traceback": [
      "\u001b[1;36m  Cell \u001b[1;32mIn[6], line 4\u001b[1;36m\u001b[0m\n\u001b[1;33m    print('. x =', x)\u001b[0m\n\u001b[1;37m    ^\u001b[0m\n\u001b[1;31mIndentationError\u001b[0m\u001b[1;31m:\u001b[0m unexpected indent\n"
     ]
    }
   ],
   "source": [
    "def f(x):      # name x used as formal parameter\n",
    " y = 1         # local variable\n",
    " x = x + y\n",
    "    print ('. x =', x)\n",
    "    print ('. p =', p)  #globle variable\n",
    "    return x"
   ]
  },
  {
   "cell_type": "code",
   "execution_count": null,
   "id": "b02b4351-4d43-4177-8283-bc14ca6f1015",
   "metadata": {},
   "outputs": [],
   "source": [
    "p = 10\n",
    "x = 3\n",
    "y = 2\n",
    "z = f(x) #value of x used as actual parameter\n",
    "\n",
    "print ('x =', x)\n",
    "print ('y =', y)"
   ]
  }
 ],
 "metadata": {
  "kernelspec": {
   "display_name": "Python 3 (ipykernel)",
   "language": "python",
   "name": "python3"
  },
  "language_info": {
   "codemirror_mode": {
    "name": "ipython",
    "version": 3
   },
   "file_extension": ".py",
   "mimetype": "text/x-python",
   "name": "python",
   "nbconvert_exporter": "python",
   "pygments_lexer": "ipython3",
   "version": "3.12.4"
  }
 },
 "nbformat": 4,
 "nbformat_minor": 5
}
