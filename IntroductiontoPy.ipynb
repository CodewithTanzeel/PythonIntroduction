{
 "cells": [
  {
   "cell_type": "markdown",
   "id": "16de1bf5-f5ef-4ec7-a54a-56309ac50e22",
   "metadata": {},
   "source": [
    "### Compound statements\r\n"
   ]
  },
  {
   "cell_type": "markdown",
   "id": "db345c77-cabc-4d50-a5cf-5479e558cd3d",
   "metadata": {},
   "source": [
    "Compound statements take the form: \n",
    "    \n",
    "    <header>:\n",
    "        <statement>\n",
    "        <statement>\n",
    "        ...\n",
    "    <separating header>:\n",
    "        <statement>\n",
    "        <statement>\n",
    "        ...\n",
    "    ..."
   ]
  }
 ],
 "metadata": {
  "kernelspec": {
   "display_name": "Python 3 (ipykernel)",
   "language": "python",
   "name": "python3"
  },
  "language_info": {
   "codemirror_mode": {
    "name": "ipython",
    "version": 3
   },
   "file_extension": ".py",
   "mimetype": "text/x-python",
   "name": "python",
   "nbconvert_exporter": "python",
   "pygments_lexer": "ipython3",
   "version": "3.12.4"
  }
 },
 "nbformat": 4,
 "nbformat_minor": 5
}
