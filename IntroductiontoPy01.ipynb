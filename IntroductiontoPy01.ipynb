{
 "cells": [
  {
   "cell_type": "code",
   "execution_count": 2,
   "id": "4eca47a9-c6fb-49f9-ac54-a62c43e94317",
   "metadata": {},
   "outputs": [
    {
     "name": "stdout",
     "output_type": "stream",
     "text": [
      "Hello World\n"
     ]
    }
   ],
   "source": [
    "#First Step\n",
    "print (\"Hello World\")"
   ]
  },
  {
   "cell_type": "code",
   "execution_count": 6,
   "id": "65a06417-e50e-4ed6-b6cb-cd8f6d2e3a16",
   "metadata": {},
   "outputs": [],
   "source": [
    "#Assigning a Data type of string to a\n",
    "a = \"Hello World\""
   ]
  },
  {
   "cell_type": "code",
   "execution_count": 8,
   "id": "e8eac044-fc53-4712-95f0-112a4a03d85e",
   "metadata": {},
   "outputs": [
    {
     "name": "stdout",
     "output_type": "stream",
     "text": [
      "Hello World\n"
     ]
    }
   ],
   "source": [
    "print (a)\n",
    "#output"
   ]
  },
  {
   "cell_type": "code",
   "execution_count": 11,
   "id": "61c0a3c7-7a16-4fe7-bd51-7fafeb95fba2",
   "metadata": {},
   "outputs": [
    {
     "data": {
      "text/plain": [
       "17"
      ]
     },
     "execution_count": 11,
     "metadata": {},
     "output_type": "execute_result"
    }
   ],
   "source": [
    "17"
   ]
  },
  {
   "cell_type": "code",
   "execution_count": 5,
   "id": "c45a352e-4eb9-4108-a815-4268f53a7682",
   "metadata": {},
   "outputs": [
    {
     "data": {
      "text/plain": [
       "12"
      ]
     },
     "execution_count": 5,
     "metadata": {},
     "output_type": "execute_result"
    }
   ],
   "source": [
    "-3+15"
   ]
  },
  {
   "cell_type": "code",
   "execution_count": 7,
   "id": "1e482083-eb33-4cb4-b298-692a61fe3811",
   "metadata": {},
   "outputs": [
    {
     "data": {
      "text/plain": [
       "18"
      ]
     },
     "execution_count": 7,
     "metadata": {},
     "output_type": "execute_result"
    }
   ],
   "source": [
    "-2+20"
   ]
  },
  {
   "cell_type": "code",
   "execution_count": 9,
   "id": "5d02eced-adcc-4fbe-823b-aa53fd603c9c",
   "metadata": {},
   "outputs": [
    {
     "data": {
      "text/plain": [
       "-2"
      ]
     },
     "execution_count": 9,
     "metadata": {},
     "output_type": "execute_result"
    }
   ],
   "source": [
    "-7 -   -5"
   ]
  },
  {
   "cell_type": "code",
   "execution_count": 1,
   "id": "f374277f-f244-4c31-978a-d682237936ad",
   "metadata": {},
   "outputs": [
    {
     "data": {
      "text/plain": [
       "4.0"
      ]
     },
     "execution_count": 1,
     "metadata": {},
     "output_type": "execute_result"
    }
   ],
   "source": [
    "8/2"
   ]
  },
  {
   "cell_type": "code",
   "execution_count": 3,
   "id": "dc00ce41-a80f-4b6a-a5ed-ee765103f018",
   "metadata": {},
   "outputs": [
    {
     "data": {
      "text/plain": [
       "0.5"
      ]
     },
     "execution_count": 3,
     "metadata": {},
     "output_type": "execute_result"
    }
   ],
   "source": [
    "1/2"
   ]
  },
  {
   "cell_type": "code",
   "execution_count": 2,
   "id": "e40b30ec-db79-456f-ac17-e56b41ccba32",
   "metadata": {},
   "outputs": [
    {
     "data": {
      "text/plain": [
       "1"
      ]
     },
     "execution_count": 2,
     "metadata": {},
     "output_type": "execute_result"
    }
   ],
   "source": [
    "1%2"
   ]
  },
  {
   "cell_type": "code",
   "execution_count": null,
   "id": "27a4f3bf-bd03-4eec-87a9-dca3a27486af",
   "metadata": {},
   "outputs": [],
   "source": [
    "15%2"
   ]
  },
  {
   "cell_type": "code",
   "execution_count": null,
   "id": "da49aec6-2b6b-4c57-8c09-ac9170c8a582",
   "metadata": {},
   "outputs": [],
   "source": [
    "1/2.0"
   ]
  },
  {
   "cell_type": "code",
   "execution_count": null,
   "id": "b77b0ad6-ff6f-4f03-9366-72bd886f2177",
   "metadata": {},
   "outputs": [],
   "source": [
    "type(1)"
   ]
  },
  {
   "cell_type": "code",
   "execution_count": null,
   "id": "2d89c19a-2d4c-4497-afe7-8d25ce94e8a4",
   "metadata": {},
   "outputs": [],
   "source": [
    "type(1/2)"
   ]
  },
  {
   "cell_type": "code",
   "execution_count": null,
   "id": "738d4137-89e3-4c11-a10d-20eddab3f604",
   "metadata": {},
   "outputs": [],
   "source": [
    "1/4.0+1/2.0"
   ]
  },
  {
   "cell_type": "code",
   "execution_count": null,
   "id": "493fd511-f455-4301-a1ef-dea017293600",
   "metadata": {},
   "outputs": [],
   "source": [
    "4+4*8"
   ]
  },
  {
   "cell_type": "code",
   "execution_count": null,
   "id": "cc9a21f7-4d39-4a6b-8d46-7006a9b6d59e",
   "metadata": {},
   "outputs": [],
   "source": [
    "(2+2)*2    #overriding precedence"
   ]
  },
  {
   "cell_type": "code",
   "execution_count": null,
   "id": "080eb761-e067-404e-b0b0-c8bcfad3ab99",
   "metadata": {},
   "outputs": [],
   "source": [
    "See more about precedence here:\n",
    "https://docs.python.org/3/reference/expressions.html#operator-precedence"
   ]
  },
  {
   "cell_type": "code",
   "execution_count": null,
   "id": "2543af3c-a559-4222-8674-6039aa1adc76",
   "metadata": {},
   "outputs": [],
   "source": [
    "5 > 7"
   ]
  },
  {
   "cell_type": "code",
   "execution_count": null,
   "id": "54ba5587-fc8f-4f26-ba5e-6ff35c668787",
   "metadata": {},
   "outputs": [],
   "source": [
    "3 == 4"
   ]
  },
  {
   "cell_type": "code",
   "execution_count": null,
   "id": "d67a2736-0d19-47fd-a14e-6394f016edfa",
   "metadata": {},
   "outputs": [],
   "source": [
    "3 == 3    # ignore the *details* of the error for now"
   ]
  },
  {
   "cell_type": "code",
   "execution_count": null,
   "id": "4ffd5250-a980-4cb3-a583-6699522c845d",
   "metadata": {},
   "outputs": [],
   "source": [
    "35 >= 35"
   ]
  },
  {
   "cell_type": "code",
   "execution_count": null,
   "id": "b4247316-b8c5-4482-a525-be85f532c626",
   "metadata": {},
   "outputs": [],
   "source": [
    "92 <= 91"
   ]
  },
  {
   "cell_type": "code",
   "execution_count": null,
   "id": "bf1cd7f5-e06d-4f88-859a-a7de4af2e469",
   "metadata": {},
   "outputs": [],
   "source": [
    "'This is a single quotation string'"
   ]
  },
  {
   "cell_type": "code",
   "execution_count": null,
   "id": "dd366d78-35bc-4faa-a1f8-1ed508e9be3a",
   "metadata": {},
   "outputs": [],
   "source": [
    "\" This is a Double quotation string\""
   ]
  },
  {
   "cell_type": "code",
   "execution_count": null,
   "id": "31b1624b-fd58-43c5-911c-73ff1ddad48a",
   "metadata": {},
   "outputs": [],
   "source": [
    "\"\"\" This is a double quotation multiline string,\n",
    "we can use it in  mutliple instances\"\"\""
   ]
  },
  {
   "cell_type": "code",
   "execution_count": null,
   "id": "d8f5cc9b-8998-421c-9803-5e77e468f843",
   "metadata": {},
   "outputs": [],
   "source": [
    "''' This is a single quotation multiline string,\n",
    "it can also be used in multiple case scenarious '''"
   ]
  },
  {
   "cell_type": "code",
   "execution_count": null,
   "id": "f729aaa1-fc1e-44ec-a1fa-4e57f28bfc87",
   "metadata": {},
   "outputs": [],
   "source": [
    "#Concatitnation\n",
    "\"this is a example of\"+\"concatination\""
   ]
  },
  {
   "cell_type": "code",
   "execution_count": null,
   "id": "fc863c83-66e5-4b35-b7cd-6a3133b7391a",
   "metadata": {},
   "outputs": [],
   "source": [
    "type(\"Type checking\")"
   ]
  },
  {
   "cell_type": "code",
   "execution_count": null,
   "id": "8880ddc6-c96b-46a4-a269-ed583e7fef80",
   "metadata": {},
   "outputs": [],
   "source": [
    "#string multiplication\n",
    "\"a-\"*4"
   ]
  },
  {
   "cell_type": "code",
   "execution_count": null,
   "id": "04c8b2f1-e881-4ae8-bc72-bccbbeb92517",
   "metadata": {},
   "outputs": [],
   "source": [
    "#booleans\n",
    "\"True and false\""
   ]
  }
 ],
 "metadata": {
  "kernelspec": {
   "display_name": "Python 3 (ipykernel)",
   "language": "python",
   "name": "python3"
  },
  "language_info": {
   "codemirror_mode": {
    "name": "ipython",
    "version": 3
   },
   "file_extension": ".py",
   "mimetype": "text/x-python",
   "name": "python",
   "nbconvert_exporter": "python",
   "pygments_lexer": "ipython3",
   "version": "3.12.4"
  }
 },
 "nbformat": 4,
 "nbformat_minor": 5
}
